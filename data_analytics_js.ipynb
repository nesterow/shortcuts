{
 "cells": [
  {
   "cell_type": "markdown",
   "id": "b9db28d4-ea49-443c-a5d6-e1c44bfe4942",
   "metadata": {
    "editable": true,
    "slideshow": {
     "slide_type": ""
    },
    "tags": []
   },
   "source": [
    "# Data Analytics with JS\n",
    "\n",
    "The dataset contains all the information about cars, a name of a manufacturer, all car's technical parameters and a sale price of a car.\n",
    "\n",
    "Libraries:\n",
    " - nodejs-polars\n",
    " - @observable/plot"
   ]
  },
  {
   "cell_type": "markdown",
   "id": "d163c580-6aa0-4e8c-a780-5cc931003dc8",
   "metadata": {
    "editable": true,
    "slideshow": {
     "slide_type": ""
    },
    "tags": []
   },
   "source": [
    "## Exploring Data\n",
    "\n",
    "Use [pola-rs](https://pola-rs.github.io/nodejs-polars/modules.html) dataframes to read and manipulate data.\n",
    "\n",
    "- use `df.head(n)` to get n first rows\n",
    "- use `df.sample(n)` to get n random rows from the dataset\n",
    "- use `df.describe()` to get mean, std, min, max\n",
    "- use `df.select(...cols)` to get new dataframe for columns\n",
    "- use `df.groupBy(..cols).agg()` to group data and get aggragates"
   ]
  },
  {
   "cell_type": "code",
   "execution_count": 1,
   "id": "1cb3589a-bffe-422a-8e32-a853161b93c4",
   "metadata": {
    "editable": true,
    "slideshow": {
     "slide_type": ""
    },
    "tags": []
   },
   "outputs": [
    {
     "data": {
      "application/vnd.dataresource+json": {
       "bytes": null,
       "data": [
        {
         "CarName": "alfa-romero giulia",
         "aspiration": "std",
         "boreratio": 3.47,
         "car_ID": 1,
         "carbody": "convertible",
         "carheight": 48.8,
         "carlength": 168.8,
         "carwidth": 64.1,
         "citympg": 21,
         "compressionratio": 9,
         "curbweight": 2548,
         "cylindernumber": "four",
         "doornumber": "two",
         "drivewheel": "rwd",
         "enginelocation": "front",
         "enginesize": 130,
         "enginetype": "dohc",
         "fuelsystem": "mpfi",
         "fueltype": "gas",
         "highwaympg": 27,
         "horsepower": 111,
         "peakrpm": 5000,
         "price": 13495,
         "stroke": 2.68,
         "symboling": 3,
         "wheelbase": 88.6
        },
        {
         "CarName": "alfa-romero stelvio",
         "aspiration": "std",
         "boreratio": 3.47,
         "car_ID": 2,
         "carbody": "convertible",
         "carheight": 48.8,
         "carlength": 168.8,
         "carwidth": 64.1,
         "citympg": 21,
         "compressionratio": 9,
         "curbweight": 2548,
         "cylindernumber": "four",
         "doornumber": "two",
         "drivewheel": "rwd",
         "enginelocation": "front",
         "enginesize": 130,
         "enginetype": "dohc",
         "fuelsystem": "mpfi",
         "fueltype": "gas",
         "highwaympg": 27,
         "horsepower": 111,
         "peakrpm": 5000,
         "price": 16500,
         "stroke": 2.68,
         "symboling": 3,
         "wheelbase": 88.6
        },
        {
         "CarName": "alfa-romero Quadrifoglio",
         "aspiration": "std",
         "boreratio": 2.68,
         "car_ID": 3,
         "carbody": "hatchback",
         "carheight": 52.4,
         "carlength": 171.2,
         "carwidth": 65.5,
         "citympg": 19,
         "compressionratio": 9,
         "curbweight": 2823,
         "cylindernumber": "six",
         "doornumber": "two",
         "drivewheel": "rwd",
         "enginelocation": "front",
         "enginesize": 152,
         "enginetype": "ohcv",
         "fuelsystem": "mpfi",
         "fueltype": "gas",
         "highwaympg": 26,
         "horsepower": 154,
         "peakrpm": 5000,
         "price": 16500,
         "stroke": 3.47,
         "symboling": 1,
         "wheelbase": 94.5
        },
        {
         "CarName": "audi 100 ls",
         "aspiration": "std",
         "boreratio": 3.19,
         "car_ID": 4,
         "carbody": "sedan",
         "carheight": 54.3,
         "carlength": 176.6,
         "carwidth": 66.2,
         "citympg": 24,
         "compressionratio": 10,
         "curbweight": 2337,
         "cylindernumber": "four",
         "doornumber": "four",
         "drivewheel": "fwd",
         "enginelocation": "front",
         "enginesize": 109,
         "enginetype": "ohc",
         "fuelsystem": "mpfi",
         "fueltype": "gas",
         "highwaympg": 30,
         "horsepower": 102,
         "peakrpm": 5500,
         "price": 13950,
         "stroke": 3.4,
         "symboling": 2,
         "wheelbase": 99.8
        },
        {
         "CarName": "audi 100ls",
         "aspiration": "std",
         "boreratio": 3.19,
         "car_ID": 5,
         "carbody": "sedan",
         "carheight": 54.3,
         "carlength": 176.6,
         "carwidth": 66.4,
         "citympg": 18,
         "compressionratio": 8,
         "curbweight": 2824,
         "cylindernumber": "five",
         "doornumber": "four",
         "drivewheel": "4wd",
         "enginelocation": "front",
         "enginesize": 136,
         "enginetype": "ohc",
         "fuelsystem": "mpfi",
         "fueltype": "gas",
         "highwaympg": 22,
         "horsepower": 115,
         "peakrpm": 5500,
         "price": 17450,
         "stroke": 3.4,
         "symboling": 2,
         "wheelbase": 99.4
        }
       ],
       "description": null,
       "dialect": null,
       "encoding": null,
       "format": null,
       "hash": null,
       "homepage": null,
       "licenses": null,
       "mediatype": null,
       "path": null,
       "schema": {
        "fields": [
         {
          "constraints": null,
          "description": null,
          "example": null,
          "format": null,
          "name": "car_ID",
          "rdfType": null,
          "title": null,
          "type": "integer"
         },
         {
          "constraints": null,
          "description": null,
          "example": null,
          "format": null,
          "name": "symboling",
          "rdfType": null,
          "title": null,
          "type": "integer"
         },
         {
          "constraints": null,
          "description": null,
          "example": null,
          "format": null,
          "name": "CarName",
          "rdfType": null,
          "title": null,
          "type": "string"
         },
         {
          "constraints": null,
          "description": null,
          "example": null,
          "format": null,
          "name": "fueltype",
          "rdfType": null,
          "title": null,
          "type": "string"
         },
         {
          "constraints": null,
          "description": null,
          "example": null,
          "format": null,
          "name": "aspiration",
          "rdfType": null,
          "title": null,
          "type": "string"
         },
         {
          "constraints": null,
          "description": null,
          "example": null,
          "format": null,
          "name": "doornumber",
          "rdfType": null,
          "title": null,
          "type": "string"
         },
         {
          "constraints": null,
          "description": null,
          "example": null,
          "format": null,
          "name": "carbody",
          "rdfType": null,
          "title": null,
          "type": "string"
         },
         {
          "constraints": null,
          "description": null,
          "example": null,
          "format": null,
          "name": "drivewheel",
          "rdfType": null,
          "title": null,
          "type": "string"
         },
         {
          "constraints": null,
          "description": null,
          "example": null,
          "format": null,
          "name": "enginelocation",
          "rdfType": null,
          "title": null,
          "type": "string"
         },
         {
          "constraints": null,
          "description": null,
          "example": null,
          "format": null,
          "name": "wheelbase",
          "rdfType": null,
          "title": null,
          "type": "number"
         },
         {
          "constraints": null,
          "description": null,
          "example": null,
          "format": null,
          "name": "carlength",
          "rdfType": null,
          "title": null,
          "type": "number"
         },
         {
          "constraints": null,
          "description": null,
          "example": null,
          "format": null,
          "name": "carwidth",
          "rdfType": null,
          "title": null,
          "type": "number"
         },
         {
          "constraints": null,
          "description": null,
          "example": null,
          "format": null,
          "name": "carheight",
          "rdfType": null,
          "title": null,
          "type": "number"
         },
         {
          "constraints": null,
          "description": null,
          "example": null,
          "format": null,
          "name": "curbweight",
          "rdfType": null,
          "title": null,
          "type": "integer"
         },
         {
          "constraints": null,
          "description": null,
          "example": null,
          "format": null,
          "name": "enginetype",
          "rdfType": null,
          "title": null,
          "type": "string"
         },
         {
          "constraints": null,
          "description": null,
          "example": null,
          "format": null,
          "name": "cylindernumber",
          "rdfType": null,
          "title": null,
          "type": "string"
         },
         {
          "constraints": null,
          "description": null,
          "example": null,
          "format": null,
          "name": "enginesize",
          "rdfType": null,
          "title": null,
          "type": "integer"
         },
         {
          "constraints": null,
          "description": null,
          "example": null,
          "format": null,
          "name": "fuelsystem",
          "rdfType": null,
          "title": null,
          "type": "string"
         },
         {
          "constraints": null,
          "description": null,
          "example": null,
          "format": null,
          "name": "boreratio",
          "rdfType": null,
          "title": null,
          "type": "number"
         },
         {
          "constraints": null,
          "description": null,
          "example": null,
          "format": null,
          "name": "stroke",
          "rdfType": null,
          "title": null,
          "type": "number"
         },
         {
          "constraints": null,
          "description": null,
          "example": null,
          "format": null,
          "name": "compressionratio",
          "rdfType": null,
          "title": null,
          "type": "number"
         },
         {
          "constraints": null,
          "description": null,
          "example": null,
          "format": null,
          "name": "horsepower",
          "rdfType": null,
          "title": null,
          "type": "integer"
         },
         {
          "constraints": null,
          "description": null,
          "example": null,
          "format": null,
          "name": "peakrpm",
          "rdfType": null,
          "title": null,
          "type": "integer"
         },
         {
          "constraints": null,
          "description": null,
          "example": null,
          "format": null,
          "name": "citympg",
          "rdfType": null,
          "title": null,
          "type": "integer"
         },
         {
          "constraints": null,
          "description": null,
          "example": null,
          "format": null,
          "name": "highwaympg",
          "rdfType": null,
          "title": null,
          "type": "integer"
         },
         {
          "constraints": null,
          "description": null,
          "example": null,
          "format": null,
          "name": "price",
          "rdfType": null,
          "title": null,
          "type": "number"
         }
        ],
        "foreignKeys": null,
        "missingValues": null,
        "primaryKey": null
       },
       "sources": null,
       "title": null
      },
      "text/html": [
       "<table><thead><tr><th>car_ID</th><th>symboling</th><th>CarName</th><th>fueltype</th><th>aspiration</th><th>doornumber</th><th>carbody</th><th>drivewheel</th><th>enginelocation</th><th>wheelbase</th><th>carlength</th><th>carwidth</th><th>carheight</th><th>curbweight</th><th>enginetype</th><th>cylindernumber</th><th>enginesize</th><th>fuelsystem</th><th>boreratio</th><th>stroke</th><th>compressionratio</th><th>horsepower</th><th>peakrpm</th><th>citympg</th><th>highwaympg</th><th>price</th></tr></thead><tbody><tr><td>1</td><td>3</td><td>alfa-romero giulia</td><td>gas</td><td>std</td><td>two</td><td>convertible</td><td>rwd</td><td>front</td><td>88.6</td><td>168.8</td><td>64.1</td><td>48.8</td><td>2548</td><td>dohc</td><td>four</td><td>130</td><td>mpfi</td><td>3.47</td><td>2.68</td><td>9</td><td>111</td><td>5000</td><td>21</td><td>27</td><td>13495</td></tr><tr><td>2</td><td>3</td><td>alfa-romero stelvio</td><td>gas</td><td>std</td><td>two</td><td>convertible</td><td>rwd</td><td>front</td><td>88.6</td><td>168.8</td><td>64.1</td><td>48.8</td><td>2548</td><td>dohc</td><td>four</td><td>130</td><td>mpfi</td><td>3.47</td><td>2.68</td><td>9</td><td>111</td><td>5000</td><td>21</td><td>27</td><td>16500</td></tr><tr><td>3</td><td>1</td><td>alfa-romero Quadrifoglio</td><td>gas</td><td>std</td><td>two</td><td>hatchback</td><td>rwd</td><td>front</td><td>94.5</td><td>171.2</td><td>65.5</td><td>52.4</td><td>2823</td><td>ohcv</td><td>six</td><td>152</td><td>mpfi</td><td>2.68</td><td>3.47</td><td>9</td><td>154</td><td>5000</td><td>19</td><td>26</td><td>16500</td></tr><tr><td>4</td><td>2</td><td>audi 100 ls</td><td>gas</td><td>std</td><td>four</td><td>sedan</td><td>fwd</td><td>front</td><td>99.8</td><td>176.6</td><td>66.2</td><td>54.3</td><td>2337</td><td>ohc</td><td>four</td><td>109</td><td>mpfi</td><td>3.19</td><td>3.4</td><td>10</td><td>102</td><td>5500</td><td>24</td><td>30</td><td>13950</td></tr><tr><td>5</td><td>2</td><td>audi 100ls</td><td>gas</td><td>std</td><td>four</td><td>sedan</td><td>4wd</td><td>front</td><td>99.4</td><td>176.6</td><td>66.4</td><td>54.3</td><td>2824</td><td>ohc</td><td>five</td><td>136</td><td>mpfi</td><td>3.19</td><td>3.4</td><td>8</td><td>115</td><td>5500</td><td>18</td><td>22</td><td>17450</td></tr></tbody></table>"
      ]
     },
     "execution_count": 1,
     "metadata": {},
     "output_type": "execute_result"
    }
   ],
   "source": [
    "import { display } from \"https://deno.land/x/display@v0.1.1/mod.ts\"\n",
    "import pl from \"npm:nodejs-polars\"\n",
    "\n",
    "let data = await Deno.readTextFile('assets/CarPrice_Assignment.csv')\n",
    "let df = pl.readCSV(data, { sep: \",\" })\n",
    "\n",
    "await display(df.head(5))"
   ]
  },
  {
   "cell_type": "code",
   "execution_count": 2,
   "id": "a82e43fd-04a6-4bc8-a752-3b03abd6e983",
   "metadata": {},
   "outputs": [
    {
     "data": {
      "application/vnd.dataresource+json": {
       "bytes": null,
       "data": [
        {
         "describe": "mean",
         "enginesize": 126.90731707317073,
         "horsepower": 104.1170731707317,
         "price": 13276.710570731706
        },
        {
         "describe": "std",
         "enginesize": 41.642693438179855,
         "horsepower": 39.54416680936116,
         "price": 7988.852331743148
        },
        {
         "describe": "min",
         "enginesize": 61,
         "horsepower": 48,
         "price": 5118
        },
        {
         "describe": "max",
         "enginesize": 326,
         "horsepower": 288,
         "price": 45400
        },
        {
         "describe": "median",
         "enginesize": 120,
         "horsepower": 95,
         "price": 10295
        }
       ],
       "description": null,
       "dialect": null,
       "encoding": null,
       "format": null,
       "hash": null,
       "homepage": null,
       "licenses": null,
       "mediatype": null,
       "path": null,
       "schema": {
        "fields": [
         {
          "constraints": null,
          "description": null,
          "example": null,
          "format": null,
          "name": "describe",
          "rdfType": null,
          "title": null,
          "type": "string"
         },
         {
          "constraints": null,
          "description": null,
          "example": null,
          "format": null,
          "name": "enginesize",
          "rdfType": null,
          "title": null,
          "type": "number"
         },
         {
          "constraints": null,
          "description": null,
          "example": null,
          "format": null,
          "name": "horsepower",
          "rdfType": null,
          "title": null,
          "type": "number"
         },
         {
          "constraints": null,
          "description": null,
          "example": null,
          "format": null,
          "name": "price",
          "rdfType": null,
          "title": null,
          "type": "number"
         }
        ],
        "foreignKeys": null,
        "missingValues": null,
        "primaryKey": null
       },
       "sources": null,
       "title": null
      },
      "text/html": [
       "<table><thead><tr><th>describe</th><th>enginesize</th><th>horsepower</th><th>price</th></tr></thead><tbody><tr><td>mean</td><td>126.90731707317073</td><td>104.1170731707317</td><td>13276.710570731706</td></tr><tr><td>std</td><td>41.642693438179855</td><td>39.54416680936116</td><td>7988.852331743148</td></tr><tr><td>min</td><td>61</td><td>48</td><td>5118</td></tr><tr><td>max</td><td>326</td><td>288</td><td>45400</td></tr><tr><td>median</td><td>120</td><td>95</td><td>10295</td></tr></tbody></table>"
      ]
     },
     "execution_count": 2,
     "metadata": {},
     "output_type": "execute_result"
    }
   ],
   "source": [
    "await display(\n",
    "    df.select(\n",
    "        'enginesize', \n",
    "        'horsepower', \n",
    "        'price'\n",
    "    ).describe()\n",
    ")"
   ]
  },
  {
   "cell_type": "markdown",
   "id": "5c931435-0e19-4d32-8ca8-ae81a9cb43c8",
   "metadata": {},
   "source": [
    "## Data Cleaning"
   ]
  },
  {
   "cell_type": "code",
   "execution_count": 3,
   "id": "e70e5f22-bdde-4140-9015-a6281b8478bf",
   "metadata": {},
   "outputs": [
    {
     "data": {
      "text/plain": [
       "\u001b[33mfalse\u001b[39m"
      ]
     },
     "execution_count": 3,
     "metadata": {},
     "output_type": "execute_result"
    }
   ],
   "source": [
    "// check for duplicates\n",
    "const hasDups = df.select('car_ID').isDuplicated().toArray().includes(true)\n",
    "// if there are duplicates, use df.filter()\n",
    "hasDups"
   ]
  },
  {
   "cell_type": "markdown",
   "id": "7fb89a88-f3ad-457d-9211-2b75eef6096f",
   "metadata": {},
   "source": [
    "Resolve categorical values. For this dataset it is a brand name:"
   ]
  },
  {
   "cell_type": "code",
   "execution_count": 4,
   "id": "ffb4509e-1930-4e2e-954c-51e919084514",
   "metadata": {
    "scrolled": true
   },
   "outputs": [
    {
     "data": {
      "application/vnd.dataresource+json": {
       "bytes": null,
       "data": [
        {
         "brand": "peugeot"
        },
        {
         "brand": "bmw"
        },
        {
         "brand": "buick"
        },
        {
         "brand": "porcshce"
        },
        {
         "brand": "volvo"
        },
        {
         "brand": "maxda"
        },
        {
         "brand": "renault"
        },
        {
         "brand": "mazda"
        },
        {
         "brand": "alfa-romero"
        },
        {
         "brand": "subaru"
        },
        {
         "brand": "toyouta"
        },
        {
         "brand": "mitsubishi"
        },
        {
         "brand": "dodge"
        },
        {
         "brand": "isuzu"
        },
        {
         "brand": "porsche"
        },
        {
         "brand": "vokswagen"
        },
        {
         "brand": "saab"
        },
        {
         "brand": "volkswagen"
        },
        {
         "brand": "audi"
        },
        {
         "brand": "plymouth"
        },
        {
         "brand": "chevrolet"
        },
        {
         "brand": "toyota"
        },
        {
         "brand": "nissan"
        },
        {
         "brand": "vw"
        },
        {
         "brand": "mercury"
        },
        {
         "brand": "honda"
        },
        {
         "brand": "jaguar"
        }
       ],
       "description": null,
       "dialect": null,
       "encoding": null,
       "format": null,
       "hash": null,
       "homepage": null,
       "licenses": null,
       "mediatype": null,
       "path": null,
       "schema": {
        "fields": [
         {
          "constraints": null,
          "description": null,
          "example": null,
          "format": null,
          "name": "brand",
          "rdfType": null,
          "title": null,
          "type": "string"
         }
        ],
        "foreignKeys": null,
        "missingValues": null,
        "primaryKey": null
       },
       "sources": null,
       "title": null
      },
      "text/html": [
       "<table><thead><tr><th>brand</th></tr></thead><tbody><tr><td>peugeot</td></tr><tr><td>bmw</td></tr><tr><td>buick</td></tr><tr><td>porcshce</td></tr><tr><td>volvo</td></tr><tr><td>maxda</td></tr><tr><td>renault</td></tr><tr><td>mazda</td></tr><tr><td>alfa-romero</td></tr><tr><td>subaru</td></tr><tr><td>toyouta</td></tr><tr><td>mitsubishi</td></tr><tr><td>dodge</td></tr><tr><td>isuzu</td></tr><tr><td>porsche</td></tr><tr><td>vokswagen</td></tr><tr><td>saab</td></tr><tr><td>volkswagen</td></tr><tr><td>audi</td></tr><tr><td>plymouth</td></tr><tr><td>chevrolet</td></tr><tr><td>toyota</td></tr><tr><td>nissan</td></tr><tr><td>vw</td></tr><tr><td>mercury</td></tr><tr><td>honda</td></tr><tr><td>jaguar</td></tr></tbody></table>"
      ]
     },
     "execution_count": 4,
     "metadata": {},
     "output_type": "execute_result"
    }
   ],
   "source": [
    "// get brand names from `CarName`\n",
    "let brandNameTable = df.select('CarName').map((row) => {\n",
    "    const [carName] = row\n",
    "    const brand = carName.split(' ')[0].toLowerCase()\n",
    "    return brand\n",
    "})\n",
    "\n",
    "// create a dataframe from brand names\n",
    "let brandDf = pl.DataFrame({\n",
    "    \"brand\": brandNameTable\n",
    "})\n",
    "await display(brandDf.unique())"
   ]
  },
  {
   "cell_type": "code",
   "execution_count": 5,
   "id": "7f91cbc3-364c-49c9-97e3-370f78b708f8",
   "metadata": {
    "scrolled": true
   },
   "outputs": [
    {
     "data": {
      "application/vnd.dataresource+json": {
       "bytes": null,
       "data": [
        {
         "brand": "plymouth"
        },
        {
         "brand": "mitsubishi"
        },
        {
         "brand": "dodge"
        },
        {
         "brand": "jaguar"
        },
        {
         "brand": "mercury"
        },
        {
         "brand": "honda"
        },
        {
         "brand": "subaru"
        },
        {
         "brand": "chevrolet"
        },
        {
         "brand": "nissan"
        },
        {
         "brand": "mazda"
        },
        {
         "brand": "peugeot"
        },
        {
         "brand": "alfa-romero"
        },
        {
         "brand": "isuzu"
        },
        {
         "brand": "audi"
        },
        {
         "brand": "buick"
        },
        {
         "brand": "bmw"
        },
        {
         "brand": "volkswagen"
        },
        {
         "brand": "saab"
        },
        {
         "brand": "volvo"
        },
        {
         "brand": "toyota"
        },
        {
         "brand": "porsche"
        },
        {
         "brand": "renault"
        }
       ],
       "description": null,
       "dialect": null,
       "encoding": null,
       "format": null,
       "hash": null,
       "homepage": null,
       "licenses": null,
       "mediatype": null,
       "path": null,
       "schema": {
        "fields": [
         {
          "constraints": null,
          "description": null,
          "example": null,
          "format": null,
          "name": "brand",
          "rdfType": null,
          "title": null,
          "type": "string"
         }
        ],
        "foreignKeys": null,
        "missingValues": null,
        "primaryKey": null
       },
       "sources": null,
       "title": null
      },
      "text/html": [
       "<table><thead><tr><th>brand</th></tr></thead><tbody><tr><td>plymouth</td></tr><tr><td>mitsubishi</td></tr><tr><td>dodge</td></tr><tr><td>jaguar</td></tr><tr><td>mercury</td></tr><tr><td>honda</td></tr><tr><td>subaru</td></tr><tr><td>chevrolet</td></tr><tr><td>nissan</td></tr><tr><td>mazda</td></tr><tr><td>peugeot</td></tr><tr><td>alfa-romero</td></tr><tr><td>isuzu</td></tr><tr><td>audi</td></tr><tr><td>buick</td></tr><tr><td>bmw</td></tr><tr><td>volkswagen</td></tr><tr><td>saab</td></tr><tr><td>volvo</td></tr><tr><td>toyota</td></tr><tr><td>porsche</td></tr><tr><td>renault</td></tr></tbody></table>"
      ]
     },
     "execution_count": 5,
     "metadata": {},
     "output_type": "execute_result"
    }
   ],
   "source": [
    "// transform to remove duplicates\n",
    "brandNameTable = brandNameTable.map((name) => {\n",
    "    name = name\n",
    "            .replace('maxda', 'mazda')\n",
    "            .replace('porcshce', 'porsche')\n",
    "            .replace('toyouta', 'toyota')\n",
    "            .replace(/(vw|vokswagen)/ig, 'volkswagen');\n",
    "    return name\n",
    "})\n",
    "\n",
    "brandDf = pl.DataFrame({\n",
    "    brand: brandNameTable\n",
    "})\n",
    "await display(brandDf.unique())"
   ]
  },
  {
   "cell_type": "code",
   "execution_count": 6,
   "id": "eb19de54-11bb-40af-8e27-e5e3a6bd11f0",
   "metadata": {},
   "outputs": [
    {
     "data": {
      "application/vnd.dataresource+json": {
       "bytes": null,
       "data": [
        {
         "CarName": "alfa-romero giulia",
         "aspiration": "std",
         "boreratio": 3.47,
         "brand": "alfa-romero",
         "car_ID": 1,
         "carbody": "convertible",
         "carheight": 48.8,
         "carlength": 168.8,
         "carwidth": 64.1,
         "citympg": 21,
         "compressionratio": 9,
         "curbweight": 2548,
         "cylindernumber": "four",
         "doornumber": "two",
         "drivewheel": "rwd",
         "enginelocation": "front",
         "enginesize": 130,
         "enginetype": "dohc",
         "fuelsystem": "mpfi",
         "fueltype": "gas",
         "highwaympg": 27,
         "horsepower": 111,
         "peakrpm": 5000,
         "price": 13495,
         "stroke": 2.68,
         "symboling": 3,
         "wheelbase": 88.6
        },
        {
         "CarName": "alfa-romero stelvio",
         "aspiration": "std",
         "boreratio": 3.47,
         "brand": "alfa-romero",
         "car_ID": 2,
         "carbody": "convertible",
         "carheight": 48.8,
         "carlength": 168.8,
         "carwidth": 64.1,
         "citympg": 21,
         "compressionratio": 9,
         "curbweight": 2548,
         "cylindernumber": "four",
         "doornumber": "two",
         "drivewheel": "rwd",
         "enginelocation": "front",
         "enginesize": 130,
         "enginetype": "dohc",
         "fuelsystem": "mpfi",
         "fueltype": "gas",
         "highwaympg": 27,
         "horsepower": 111,
         "peakrpm": 5000,
         "price": 16500,
         "stroke": 2.68,
         "symboling": 3,
         "wheelbase": 88.6
        },
        {
         "CarName": "alfa-romero Quadrifoglio",
         "aspiration": "std",
         "boreratio": 2.68,
         "brand": "alfa-romero",
         "car_ID": 3,
         "carbody": "hatchback",
         "carheight": 52.4,
         "carlength": 171.2,
         "carwidth": 65.5,
         "citympg": 19,
         "compressionratio": 9,
         "curbweight": 2823,
         "cylindernumber": "six",
         "doornumber": "two",
         "drivewheel": "rwd",
         "enginelocation": "front",
         "enginesize": 152,
         "enginetype": "ohcv",
         "fuelsystem": "mpfi",
         "fueltype": "gas",
         "highwaympg": 26,
         "horsepower": 154,
         "peakrpm": 5000,
         "price": 16500,
         "stroke": 3.47,
         "symboling": 1,
         "wheelbase": 94.5
        },
        {
         "CarName": "audi 100 ls",
         "aspiration": "std",
         "boreratio": 3.19,
         "brand": "audi",
         "car_ID": 4,
         "carbody": "sedan",
         "carheight": 54.3,
         "carlength": 176.6,
         "carwidth": 66.2,
         "citympg": 24,
         "compressionratio": 10,
         "curbweight": 2337,
         "cylindernumber": "four",
         "doornumber": "four",
         "drivewheel": "fwd",
         "enginelocation": "front",
         "enginesize": 109,
         "enginetype": "ohc",
         "fuelsystem": "mpfi",
         "fueltype": "gas",
         "highwaympg": 30,
         "horsepower": 102,
         "peakrpm": 5500,
         "price": 13950,
         "stroke": 3.4,
         "symboling": 2,
         "wheelbase": 99.8
        },
        {
         "CarName": "audi 100ls",
         "aspiration": "std",
         "boreratio": 3.19,
         "brand": "audi",
         "car_ID": 5,
         "carbody": "sedan",
         "carheight": 54.3,
         "carlength": 176.6,
         "carwidth": 66.4,
         "citympg": 18,
         "compressionratio": 8,
         "curbweight": 2824,
         "cylindernumber": "five",
         "doornumber": "four",
         "drivewheel": "4wd",
         "enginelocation": "front",
         "enginesize": 136,
         "enginetype": "ohc",
         "fuelsystem": "mpfi",
         "fueltype": "gas",
         "highwaympg": 22,
         "horsepower": 115,
         "peakrpm": 5500,
         "price": 17450,
         "stroke": 3.4,
         "symboling": 2,
         "wheelbase": 99.4
        }
       ],
       "description": null,
       "dialect": null,
       "encoding": null,
       "format": null,
       "hash": null,
       "homepage": null,
       "licenses": null,
       "mediatype": null,
       "path": null,
       "schema": {
        "fields": [
         {
          "constraints": null,
          "description": null,
          "example": null,
          "format": null,
          "name": "brand",
          "rdfType": null,
          "title": null,
          "type": "string"
         },
         {
          "constraints": null,
          "description": null,
          "example": null,
          "format": null,
          "name": "car_ID",
          "rdfType": null,
          "title": null,
          "type": "integer"
         },
         {
          "constraints": null,
          "description": null,
          "example": null,
          "format": null,
          "name": "symboling",
          "rdfType": null,
          "title": null,
          "type": "integer"
         },
         {
          "constraints": null,
          "description": null,
          "example": null,
          "format": null,
          "name": "CarName",
          "rdfType": null,
          "title": null,
          "type": "string"
         },
         {
          "constraints": null,
          "description": null,
          "example": null,
          "format": null,
          "name": "fueltype",
          "rdfType": null,
          "title": null,
          "type": "string"
         },
         {
          "constraints": null,
          "description": null,
          "example": null,
          "format": null,
          "name": "aspiration",
          "rdfType": null,
          "title": null,
          "type": "string"
         },
         {
          "constraints": null,
          "description": null,
          "example": null,
          "format": null,
          "name": "doornumber",
          "rdfType": null,
          "title": null,
          "type": "string"
         },
         {
          "constraints": null,
          "description": null,
          "example": null,
          "format": null,
          "name": "carbody",
          "rdfType": null,
          "title": null,
          "type": "string"
         },
         {
          "constraints": null,
          "description": null,
          "example": null,
          "format": null,
          "name": "drivewheel",
          "rdfType": null,
          "title": null,
          "type": "string"
         },
         {
          "constraints": null,
          "description": null,
          "example": null,
          "format": null,
          "name": "enginelocation",
          "rdfType": null,
          "title": null,
          "type": "string"
         },
         {
          "constraints": null,
          "description": null,
          "example": null,
          "format": null,
          "name": "wheelbase",
          "rdfType": null,
          "title": null,
          "type": "number"
         },
         {
          "constraints": null,
          "description": null,
          "example": null,
          "format": null,
          "name": "carlength",
          "rdfType": null,
          "title": null,
          "type": "number"
         },
         {
          "constraints": null,
          "description": null,
          "example": null,
          "format": null,
          "name": "carwidth",
          "rdfType": null,
          "title": null,
          "type": "number"
         },
         {
          "constraints": null,
          "description": null,
          "example": null,
          "format": null,
          "name": "carheight",
          "rdfType": null,
          "title": null,
          "type": "number"
         },
         {
          "constraints": null,
          "description": null,
          "example": null,
          "format": null,
          "name": "curbweight",
          "rdfType": null,
          "title": null,
          "type": "integer"
         },
         {
          "constraints": null,
          "description": null,
          "example": null,
          "format": null,
          "name": "enginetype",
          "rdfType": null,
          "title": null,
          "type": "string"
         },
         {
          "constraints": null,
          "description": null,
          "example": null,
          "format": null,
          "name": "cylindernumber",
          "rdfType": null,
          "title": null,
          "type": "string"
         },
         {
          "constraints": null,
          "description": null,
          "example": null,
          "format": null,
          "name": "enginesize",
          "rdfType": null,
          "title": null,
          "type": "integer"
         },
         {
          "constraints": null,
          "description": null,
          "example": null,
          "format": null,
          "name": "fuelsystem",
          "rdfType": null,
          "title": null,
          "type": "string"
         },
         {
          "constraints": null,
          "description": null,
          "example": null,
          "format": null,
          "name": "boreratio",
          "rdfType": null,
          "title": null,
          "type": "number"
         },
         {
          "constraints": null,
          "description": null,
          "example": null,
          "format": null,
          "name": "stroke",
          "rdfType": null,
          "title": null,
          "type": "number"
         },
         {
          "constraints": null,
          "description": null,
          "example": null,
          "format": null,
          "name": "compressionratio",
          "rdfType": null,
          "title": null,
          "type": "number"
         },
         {
          "constraints": null,
          "description": null,
          "example": null,
          "format": null,
          "name": "horsepower",
          "rdfType": null,
          "title": null,
          "type": "integer"
         },
         {
          "constraints": null,
          "description": null,
          "example": null,
          "format": null,
          "name": "peakrpm",
          "rdfType": null,
          "title": null,
          "type": "integer"
         },
         {
          "constraints": null,
          "description": null,
          "example": null,
          "format": null,
          "name": "citympg",
          "rdfType": null,
          "title": null,
          "type": "integer"
         },
         {
          "constraints": null,
          "description": null,
          "example": null,
          "format": null,
          "name": "highwaympg",
          "rdfType": null,
          "title": null,
          "type": "integer"
         },
         {
          "constraints": null,
          "description": null,
          "example": null,
          "format": null,
          "name": "price",
          "rdfType": null,
          "title": null,
          "type": "number"
         }
        ],
        "foreignKeys": null,
        "missingValues": null,
        "primaryKey": null
       },
       "sources": null,
       "title": null
      },
      "text/html": [
       "<table><thead><tr><th>brand</th><th>car_ID</th><th>symboling</th><th>CarName</th><th>fueltype</th><th>aspiration</th><th>doornumber</th><th>carbody</th><th>drivewheel</th><th>enginelocation</th><th>wheelbase</th><th>carlength</th><th>carwidth</th><th>carheight</th><th>curbweight</th><th>enginetype</th><th>cylindernumber</th><th>enginesize</th><th>fuelsystem</th><th>boreratio</th><th>stroke</th><th>compressionratio</th><th>horsepower</th><th>peakrpm</th><th>citympg</th><th>highwaympg</th><th>price</th></tr></thead><tbody><tr><td>alfa-romero</td><td>1</td><td>3</td><td>alfa-romero giulia</td><td>gas</td><td>std</td><td>two</td><td>convertible</td><td>rwd</td><td>front</td><td>88.6</td><td>168.8</td><td>64.1</td><td>48.8</td><td>2548</td><td>dohc</td><td>four</td><td>130</td><td>mpfi</td><td>3.47</td><td>2.68</td><td>9</td><td>111</td><td>5000</td><td>21</td><td>27</td><td>13495</td></tr><tr><td>alfa-romero</td><td>2</td><td>3</td><td>alfa-romero stelvio</td><td>gas</td><td>std</td><td>two</td><td>convertible</td><td>rwd</td><td>front</td><td>88.6</td><td>168.8</td><td>64.1</td><td>48.8</td><td>2548</td><td>dohc</td><td>four</td><td>130</td><td>mpfi</td><td>3.47</td><td>2.68</td><td>9</td><td>111</td><td>5000</td><td>21</td><td>27</td><td>16500</td></tr><tr><td>alfa-romero</td><td>3</td><td>1</td><td>alfa-romero Quadrifoglio</td><td>gas</td><td>std</td><td>two</td><td>hatchback</td><td>rwd</td><td>front</td><td>94.5</td><td>171.2</td><td>65.5</td><td>52.4</td><td>2823</td><td>ohcv</td><td>six</td><td>152</td><td>mpfi</td><td>2.68</td><td>3.47</td><td>9</td><td>154</td><td>5000</td><td>19</td><td>26</td><td>16500</td></tr><tr><td>audi</td><td>4</td><td>2</td><td>audi 100 ls</td><td>gas</td><td>std</td><td>four</td><td>sedan</td><td>fwd</td><td>front</td><td>99.8</td><td>176.6</td><td>66.2</td><td>54.3</td><td>2337</td><td>ohc</td><td>four</td><td>109</td><td>mpfi</td><td>3.19</td><td>3.4</td><td>10</td><td>102</td><td>5500</td><td>24</td><td>30</td><td>13950</td></tr><tr><td>audi</td><td>5</td><td>2</td><td>audi 100ls</td><td>gas</td><td>std</td><td>four</td><td>sedan</td><td>4wd</td><td>front</td><td>99.4</td><td>176.6</td><td>66.4</td><td>54.3</td><td>2824</td><td>ohc</td><td>five</td><td>136</td><td>mpfi</td><td>3.19</td><td>3.4</td><td>8</td><td>115</td><td>5500</td><td>18</td><td>22</td><td>17450</td></tr></tbody></table>"
      ]
     },
     "execution_count": 6,
     "metadata": {},
     "output_type": "execute_result"
    }
   ],
   "source": [
    "// add new column `brand` to our dataframe\n",
    "df = brandDf.hstack(df)\n",
    "await display(df.head(5))"
   ]
  },
  {
   "cell_type": "markdown",
   "id": "81abdb0d-41ce-445c-9a75-f9494eb1f9d3",
   "metadata": {},
   "source": [
    "Drop unnecessary values, and write to the new file:"
   ]
  },
  {
   "cell_type": "code",
   "execution_count": 7,
   "id": "6da96c06-b0b6-46b7-be2d-824af909aec4",
   "metadata": {
    "editable": true,
    "slideshow": {
     "slide_type": ""
    },
    "tags": []
   },
   "outputs": [
    {
     "data": {
      "application/vnd.dataresource+json": {
       "bytes": null,
       "data": [
        {
         "aspiration": "std",
         "boreratio": 3.47,
         "brand": "alfa-romero",
         "carbody": "convertible",
         "carheight": 48.8,
         "carlength": 168.8,
         "carwidth": 64.1,
         "citympg": 21,
         "compressionratio": 9,
         "curbweight": 2548,
         "cylindernumber": "four",
         "doornumber": "two",
         "drivewheel": "rwd",
         "enginelocation": "front",
         "enginesize": 130,
         "enginetype": "dohc",
         "fuelsystem": "mpfi",
         "fueltype": "gas",
         "highwaympg": 27,
         "horsepower": 111,
         "peakrpm": 5000,
         "price": 13495,
         "stroke": 2.68,
         "wheelbase": 88.6
        },
        {
         "aspiration": "std",
         "boreratio": 3.47,
         "brand": "alfa-romero",
         "carbody": "convertible",
         "carheight": 48.8,
         "carlength": 168.8,
         "carwidth": 64.1,
         "citympg": 21,
         "compressionratio": 9,
         "curbweight": 2548,
         "cylindernumber": "four",
         "doornumber": "two",
         "drivewheel": "rwd",
         "enginelocation": "front",
         "enginesize": 130,
         "enginetype": "dohc",
         "fuelsystem": "mpfi",
         "fueltype": "gas",
         "highwaympg": 27,
         "horsepower": 111,
         "peakrpm": 5000,
         "price": 16500,
         "stroke": 2.68,
         "wheelbase": 88.6
        },
        {
         "aspiration": "std",
         "boreratio": 2.68,
         "brand": "alfa-romero",
         "carbody": "hatchback",
         "carheight": 52.4,
         "carlength": 171.2,
         "carwidth": 65.5,
         "citympg": 19,
         "compressionratio": 9,
         "curbweight": 2823,
         "cylindernumber": "six",
         "doornumber": "two",
         "drivewheel": "rwd",
         "enginelocation": "front",
         "enginesize": 152,
         "enginetype": "ohcv",
         "fuelsystem": "mpfi",
         "fueltype": "gas",
         "highwaympg": 26,
         "horsepower": 154,
         "peakrpm": 5000,
         "price": 16500,
         "stroke": 3.47,
         "wheelbase": 94.5
        }
       ],
       "description": null,
       "dialect": null,
       "encoding": null,
       "format": null,
       "hash": null,
       "homepage": null,
       "licenses": null,
       "mediatype": null,
       "path": null,
       "schema": {
        "fields": [
         {
          "constraints": null,
          "description": null,
          "example": null,
          "format": null,
          "name": "brand",
          "rdfType": null,
          "title": null,
          "type": "string"
         },
         {
          "constraints": null,
          "description": null,
          "example": null,
          "format": null,
          "name": "fueltype",
          "rdfType": null,
          "title": null,
          "type": "string"
         },
         {
          "constraints": null,
          "description": null,
          "example": null,
          "format": null,
          "name": "aspiration",
          "rdfType": null,
          "title": null,
          "type": "string"
         },
         {
          "constraints": null,
          "description": null,
          "example": null,
          "format": null,
          "name": "doornumber",
          "rdfType": null,
          "title": null,
          "type": "string"
         },
         {
          "constraints": null,
          "description": null,
          "example": null,
          "format": null,
          "name": "carbody",
          "rdfType": null,
          "title": null,
          "type": "string"
         },
         {
          "constraints": null,
          "description": null,
          "example": null,
          "format": null,
          "name": "drivewheel",
          "rdfType": null,
          "title": null,
          "type": "string"
         },
         {
          "constraints": null,
          "description": null,
          "example": null,
          "format": null,
          "name": "enginelocation",
          "rdfType": null,
          "title": null,
          "type": "string"
         },
         {
          "constraints": null,
          "description": null,
          "example": null,
          "format": null,
          "name": "wheelbase",
          "rdfType": null,
          "title": null,
          "type": "number"
         },
         {
          "constraints": null,
          "description": null,
          "example": null,
          "format": null,
          "name": "carlength",
          "rdfType": null,
          "title": null,
          "type": "number"
         },
         {
          "constraints": null,
          "description": null,
          "example": null,
          "format": null,
          "name": "carwidth",
          "rdfType": null,
          "title": null,
          "type": "number"
         },
         {
          "constraints": null,
          "description": null,
          "example": null,
          "format": null,
          "name": "carheight",
          "rdfType": null,
          "title": null,
          "type": "number"
         },
         {
          "constraints": null,
          "description": null,
          "example": null,
          "format": null,
          "name": "curbweight",
          "rdfType": null,
          "title": null,
          "type": "integer"
         },
         {
          "constraints": null,
          "description": null,
          "example": null,
          "format": null,
          "name": "enginetype",
          "rdfType": null,
          "title": null,
          "type": "string"
         },
         {
          "constraints": null,
          "description": null,
          "example": null,
          "format": null,
          "name": "cylindernumber",
          "rdfType": null,
          "title": null,
          "type": "string"
         },
         {
          "constraints": null,
          "description": null,
          "example": null,
          "format": null,
          "name": "enginesize",
          "rdfType": null,
          "title": null,
          "type": "integer"
         },
         {
          "constraints": null,
          "description": null,
          "example": null,
          "format": null,
          "name": "fuelsystem",
          "rdfType": null,
          "title": null,
          "type": "string"
         },
         {
          "constraints": null,
          "description": null,
          "example": null,
          "format": null,
          "name": "boreratio",
          "rdfType": null,
          "title": null,
          "type": "number"
         },
         {
          "constraints": null,
          "description": null,
          "example": null,
          "format": null,
          "name": "stroke",
          "rdfType": null,
          "title": null,
          "type": "number"
         },
         {
          "constraints": null,
          "description": null,
          "example": null,
          "format": null,
          "name": "compressionratio",
          "rdfType": null,
          "title": null,
          "type": "number"
         },
         {
          "constraints": null,
          "description": null,
          "example": null,
          "format": null,
          "name": "horsepower",
          "rdfType": null,
          "title": null,
          "type": "integer"
         },
         {
          "constraints": null,
          "description": null,
          "example": null,
          "format": null,
          "name": "peakrpm",
          "rdfType": null,
          "title": null,
          "type": "integer"
         },
         {
          "constraints": null,
          "description": null,
          "example": null,
          "format": null,
          "name": "citympg",
          "rdfType": null,
          "title": null,
          "type": "integer"
         },
         {
          "constraints": null,
          "description": null,
          "example": null,
          "format": null,
          "name": "highwaympg",
          "rdfType": null,
          "title": null,
          "type": "integer"
         },
         {
          "constraints": null,
          "description": null,
          "example": null,
          "format": null,
          "name": "price",
          "rdfType": null,
          "title": null,
          "type": "number"
         }
        ],
        "foreignKeys": null,
        "missingValues": null,
        "primaryKey": null
       },
       "sources": null,
       "title": null
      },
      "text/html": [
       "<table><thead><tr><th>brand</th><th>fueltype</th><th>aspiration</th><th>doornumber</th><th>carbody</th><th>drivewheel</th><th>enginelocation</th><th>wheelbase</th><th>carlength</th><th>carwidth</th><th>carheight</th><th>curbweight</th><th>enginetype</th><th>cylindernumber</th><th>enginesize</th><th>fuelsystem</th><th>boreratio</th><th>stroke</th><th>compressionratio</th><th>horsepower</th><th>peakrpm</th><th>citympg</th><th>highwaympg</th><th>price</th></tr></thead><tbody><tr><td>alfa-romero</td><td>gas</td><td>std</td><td>two</td><td>convertible</td><td>rwd</td><td>front</td><td>88.6</td><td>168.8</td><td>64.1</td><td>48.8</td><td>2548</td><td>dohc</td><td>four</td><td>130</td><td>mpfi</td><td>3.47</td><td>2.68</td><td>9</td><td>111</td><td>5000</td><td>21</td><td>27</td><td>13495</td></tr><tr><td>alfa-romero</td><td>gas</td><td>std</td><td>two</td><td>convertible</td><td>rwd</td><td>front</td><td>88.6</td><td>168.8</td><td>64.1</td><td>48.8</td><td>2548</td><td>dohc</td><td>four</td><td>130</td><td>mpfi</td><td>3.47</td><td>2.68</td><td>9</td><td>111</td><td>5000</td><td>21</td><td>27</td><td>16500</td></tr><tr><td>alfa-romero</td><td>gas</td><td>std</td><td>two</td><td>hatchback</td><td>rwd</td><td>front</td><td>94.5</td><td>171.2</td><td>65.5</td><td>52.4</td><td>2823</td><td>ohcv</td><td>six</td><td>152</td><td>mpfi</td><td>2.68</td><td>3.47</td><td>9</td><td>154</td><td>5000</td><td>19</td><td>26</td><td>16500</td></tr></tbody></table>"
      ]
     },
     "execution_count": 7,
     "metadata": {},
     "output_type": "execute_result"
    }
   ],
   "source": [
    "df = df.drop('car_ID', 'symboling', 'CarName')\n",
    "df.head(3)"
   ]
  },
  {
   "cell_type": "markdown",
   "id": "0f827b40-99b5-445d-b339-2bb55b9d6686",
   "metadata": {},
   "source": [
    "- Use df.groupBy(...cols) in order to get aggregates form the dataset:\n",
    "\n",
    "Count cars by brand:"
   ]
  },
  {
   "cell_type": "code",
   "execution_count": 8,
   "id": "7512602c-6ce4-4167-9f74-78bc5e8c0332",
   "metadata": {
    "scrolled": true
   },
   "outputs": [
    {
     "data": {
      "application/vnd.dataresource+json": {
       "bytes": null,
       "data": [
        {
         "brand": "mercury",
         "brand_count": 1
        },
        {
         "brand": "renault",
         "brand_count": 2
        },
        {
         "brand": "chevrolet",
         "brand_count": 3
        },
        {
         "brand": "alfa-romero",
         "brand_count": 3
        },
        {
         "brand": "jaguar",
         "brand_count": 3
        },
        {
         "brand": "isuzu",
         "brand_count": 4
        },
        {
         "brand": "porsche",
         "brand_count": 5
        },
        {
         "brand": "saab",
         "brand_count": 6
        },
        {
         "brand": "audi",
         "brand_count": 7
        },
        {
         "brand": "plymouth",
         "brand_count": 7
        },
        {
         "brand": "bmw",
         "brand_count": 8
        },
        {
         "brand": "buick",
         "brand_count": 8
        },
        {
         "brand": "dodge",
         "brand_count": 9
        },
        {
         "brand": "volvo",
         "brand_count": 11
        },
        {
         "brand": "peugeot",
         "brand_count": 11
        },
        {
         "brand": "subaru",
         "brand_count": 12
        },
        {
         "brand": "volkswagen",
         "brand_count": 12
        },
        {
         "brand": "honda",
         "brand_count": 13
        },
        {
         "brand": "mitsubishi",
         "brand_count": 13
        },
        {
         "brand": "mazda",
         "brand_count": 17
        },
        {
         "brand": "nissan",
         "brand_count": 18
        },
        {
         "brand": "toyota",
         "brand_count": 32
        }
       ],
       "description": null,
       "dialect": null,
       "encoding": null,
       "format": null,
       "hash": null,
       "homepage": null,
       "licenses": null,
       "mediatype": null,
       "path": null,
       "schema": {
        "fields": [
         {
          "constraints": null,
          "description": null,
          "example": null,
          "format": null,
          "name": "brand",
          "rdfType": null,
          "title": null,
          "type": "string"
         },
         {
          "constraints": null,
          "description": null,
          "example": null,
          "format": null,
          "name": "brand_count",
          "rdfType": null,
          "title": null,
          "type": "integer"
         }
        ],
        "foreignKeys": null,
        "missingValues": null,
        "primaryKey": null
       },
       "sources": null,
       "title": null
      },
      "text/html": [
       "<table><thead><tr><th>brand</th><th>brand_count</th></tr></thead><tbody><tr><td>mercury</td><td>1</td></tr><tr><td>renault</td><td>2</td></tr><tr><td>chevrolet</td><td>3</td></tr><tr><td>alfa-romero</td><td>3</td></tr><tr><td>jaguar</td><td>3</td></tr><tr><td>isuzu</td><td>4</td></tr><tr><td>porsche</td><td>5</td></tr><tr><td>saab</td><td>6</td></tr><tr><td>audi</td><td>7</td></tr><tr><td>plymouth</td><td>7</td></tr><tr><td>bmw</td><td>8</td></tr><tr><td>buick</td><td>8</td></tr><tr><td>dodge</td><td>9</td></tr><tr><td>volvo</td><td>11</td></tr><tr><td>peugeot</td><td>11</td></tr><tr><td>subaru</td><td>12</td></tr><tr><td>volkswagen</td><td>12</td></tr><tr><td>honda</td><td>13</td></tr><tr><td>mitsubishi</td><td>13</td></tr><tr><td>mazda</td><td>17</td></tr><tr><td>nissan</td><td>18</td></tr><tr><td>toyota</td><td>32</td></tr></tbody></table>"
      ]
     },
     "execution_count": 8,
     "metadata": {},
     "output_type": "execute_result"
    }
   ],
   "source": [
    "let brandCount = df.groupBy('brand').len().sort('brand_count')\n",
    "brandCount"
   ]
  },
  {
   "cell_type": "code",
   "execution_count": 9,
   "id": "44b5baf0-cbd2-48d7-a28b-e871682bbaf0",
   "metadata": {},
   "outputs": [
    {
     "data": {
      "application/vnd.dataresource+json": {
       "bytes": null,
       "data": [
        {
         "brand": null,
         "describe": "mean",
         "price": 15079.87737191671
        },
        {
         "brand": null,
         "describe": "std",
         "price": 8738.804703803095
        },
        {
         "brand": "alfa-romero",
         "describe": "min",
         "price": 6007
        },
        {
         "brand": "volvo",
         "describe": "max",
         "price": 34600
        },
        {
         "brand": null,
         "describe": "median",
         "price": 10534.274509803921
        }
       ],
       "description": null,
       "dialect": null,
       "encoding": null,
       "format": null,
       "hash": null,
       "homepage": null,
       "licenses": null,
       "mediatype": null,
       "path": null,
       "schema": {
        "fields": [
         {
          "constraints": null,
          "description": null,
          "example": null,
          "format": null,
          "name": "describe",
          "rdfType": null,
          "title": null,
          "type": "string"
         },
         {
          "constraints": null,
          "description": null,
          "example": null,
          "format": null,
          "name": "brand",
          "rdfType": null,
          "title": null,
          "type": "string"
         },
         {
          "constraints": null,
          "description": null,
          "example": null,
          "format": null,
          "name": "price",
          "rdfType": null,
          "title": null,
          "type": "number"
         }
        ],
        "foreignKeys": null,
        "missingValues": null,
        "primaryKey": null
       },
       "sources": null,
       "title": null
      },
      "text/html": [
       "<table><thead><tr><th>describe</th><th>brand</th><th>price</th></tr></thead><tbody><tr><td>mean</td><td>null</td><td>15079.87737191671</td></tr><tr><td>std</td><td>null</td><td>8738.804703803095</td></tr><tr><td>min</td><td>alfa-romero</td><td>6007</td></tr><tr><td>max</td><td>volvo</td><td>34600</td></tr><tr><td>median</td><td>null</td><td>10534.274509803921</td></tr></tbody></table>"
      ]
     },
     "execution_count": 9,
     "metadata": {},
     "output_type": "execute_result"
    }
   ],
   "source": [
    "let avgPricePerBrand = df.groupBy('brand').agg({'price': ['mean']})\n",
    "avgPricePerBrand.describe()"
   ]
  },
  {
   "cell_type": "code",
   "execution_count": 10,
   "id": "98a18f05-665f-4143-b5d5-6ecda68ca2df",
   "metadata": {},
   "outputs": [
    {
     "data": {
      "text/plain": [
       "{\n",
       "  jaguar: \u001b[33m34600\u001b[39m,\n",
       "  subaru: \u001b[33m8541.25\u001b[39m,\n",
       "  buick: \u001b[33m33647\u001b[39m,\n",
       "  audi: \u001b[33m17859.166714285715\u001b[39m,\n",
       "  mitsubishi: \u001b[33m9239.76923076923\u001b[39m,\n",
       "  mazda: \u001b[33m10652.882352941177\u001b[39m,\n",
       "  dodge: \u001b[33m7875.444444444444\u001b[39m,\n",
       "  peugeot: \u001b[33m15489.09090909091\u001b[39m,\n",
       "  volkswagen: \u001b[33m10077.5\u001b[39m,\n",
       "  renault: \u001b[33m9595\u001b[39m,\n",
       "  honda: \u001b[33m8184.692307692308\u001b[39m,\n",
       "  \u001b[32m\"alfa-romero\"\u001b[39m: \u001b[33m15498.333333333334\u001b[39m,\n",
       "  saab: \u001b[33m15223.333333333334\u001b[39m,\n",
       "  bmw: \u001b[33m26118.75\u001b[39m,\n",
       "  isuzu: \u001b[33m8916.5\u001b[39m,\n",
       "  porsche: \u001b[33m31400.5\u001b[39m,\n",
       "  nissan: \u001b[33m10415.666666666666\u001b[39m,\n",
       "  volvo: \u001b[33m18063.18181818182\u001b[39m,\n",
       "  toyota: \u001b[33m9885.8125\u001b[39m,\n",
       "  chevrolet: \u001b[33m6007\u001b[39m,\n",
       "  mercury: \u001b[33m16503\u001b[39m,\n",
       "  plymouth: \u001b[33m7963.428571428572\u001b[39m\n",
       "}"
      ]
     },
     "execution_count": 10,
     "metadata": {},
     "output_type": "execute_result"
    }
   ],
   "source": [
    "// map brand name to price\n",
    "avgPricePerBrand = avgPricePerBrand\n",
    "    .toRecords()\n",
    "    .reduce((acc, rec) => ({...acc, [rec.brand]: rec.price}), {})"
   ]
  },
  {
   "cell_type": "code",
   "execution_count": 11,
   "id": "9e7dd2b4-4356-41ad-bd1e-20b7938f55f0",
   "metadata": {
    "editable": true,
    "slideshow": {
     "slide_type": ""
    },
    "tags": []
   },
   "outputs": [
    {
     "data": {
      "application/vnd.dataresource+json": {
       "bytes": null,
       "data": [
        {
         "brand_category": "Budget"
        },
        {
         "brand_category": "Mid_Range"
        },
        {
         "brand_category": "Mid_Range"
        },
        {
         "brand_category": "Luxury"
        },
        {
         "brand_category": "Budget"
        }
       ],
       "description": null,
       "dialect": null,
       "encoding": null,
       "format": null,
       "hash": null,
       "homepage": null,
       "licenses": null,
       "mediatype": null,
       "path": null,
       "schema": {
        "fields": [
         {
          "constraints": null,
          "description": null,
          "example": null,
          "format": null,
          "name": "brand_category",
          "rdfType": null,
          "title": null,
          "type": "string"
         }
        ],
        "foreignKeys": null,
        "missingValues": null,
        "primaryKey": null
       },
       "sources": null,
       "title": null
      },
      "text/html": [
       "<table><thead><tr><th>brand_category</th></tr></thead><tbody><tr><td>Budget</td></tr><tr><td>Mid_Range</td></tr><tr><td>Mid_Range</td></tr><tr><td>Luxury</td></tr><tr><td>Budget</td></tr></tbody></table>"
      ]
     },
     "execution_count": 11,
     "metadata": {},
     "output_type": "execute_result"
    }
   ],
   "source": [
    "// create brand categories by budget\n",
    "let brandCategory = df.brand.toArray().map((brand) => {\n",
    "    const avgPrice = avgPricePerBrand[brand]\n",
    "    return avgPrice < 10000 ? \"Budget\" : avgPrice > 20000 ? \"Luxury\" : \"Mid_Range\"\n",
    "})\n",
    "let catDf = pl.DataFrame({\n",
    "    \"brand_category\": brandCategory\n",
    "})\n",
    "\n",
    "catDf.sample(5)"
   ]
  },
  {
   "cell_type": "markdown",
   "id": "14930aef-1fc0-4baf-92bf-8a093c3d2e86",
   "metadata": {},
   "source": [
    "Write the cleaned dataset to a new file:"
   ]
  },
  {
   "cell_type": "code",
   "execution_count": 12,
   "id": "350c57c7-ec9e-400d-a8e7-19301c720c56",
   "metadata": {
    "editable": true,
    "slideshow": {
     "slide_type": ""
    },
    "tags": []
   },
   "outputs": [],
   "source": [
    "df = catDf.hstack(df)\n",
    "df.writeCSV('assets/cleaned_car_prices.csv')"
   ]
  },
  {
   "cell_type": "markdown",
   "id": "0ea22d38-cb20-47a0-8f92-422bc5925abf",
   "metadata": {
    "editable": true,
    "slideshow": {
     "slide_type": ""
    },
    "tags": []
   },
   "source": [
    "## Exploratory Data Analysis\n",
    "\n",
    "For plotting we use [@observable/plot](https://observablehq.com/plot) and configured shotcuts for jupyter notebooks imported from [l12.xyz/x/shortcuts](https://l12.xyz/x/shortcuts)."
   ]
  },
  {
   "cell_type": "code",
   "execution_count": 13,
   "id": "2fed060e-1785-4dc1-ba44-4bcd5cee92f6",
   "metadata": {
    "editable": true,
    "slideshow": {
     "slide_type": ""
    },
    "tags": []
   },
   "outputs": [
    {
     "data": {
      "image/svg+xml": [
       "<svg style=\"background-color:#fff\" viewBox=\"0 0 640 500\" height=\"500\" width=\"640\" text-anchor=\"middle\" font-size=\"10\" font-family=\"system-ui, sans-serif\" fill=\"currentColor\" class=\"plot-d6a7b5\"><style>:where(.plot-d6a7b5) {\n",
       "  --plot-background: white;\n",
       "  display: block;\n",
       "  height: auto;\n",
       "  height: intrinsic;\n",
       "  max-width: 100%;\n",
       "}\n",
       ":where(.plot-d6a7b5 text),\n",
       ":where(.plot-d6a7b5 tspan) {\n",
       "  white-space: pre;\n",
       "}</style><g transform=\"translate(0,9)\" stroke=\"currentColor\" fill=\"none\" aria-hidden=\"true\" aria-label=\"y-axis tick\"><path d=\"M0,0L-6,0\" transform=\"translate(80,26)\" /><path d=\"M0,0L-6,0\" transform=\"translate(80,46)\" /><path d=\"M0,0L-6,0\" transform=\"translate(80,66)\" /><path d=\"M0,0L-6,0\" transform=\"translate(80,86)\" /><path d=\"M0,0L-6,0\" transform=\"translate(80,106)\" /><path d=\"M0,0L-6,0\" transform=\"translate(80,126)\" /><path d=\"M0,0L-6,0\" transform=\"translate(80,146)\" /><path d=\"M0,0L-6,0\" transform=\"translate(80,166)\" /><path d=\"M0,0L-6,0\" transform=\"translate(80,186)\" /><path d=\"M0,0L-6,0\" transform=\"translate(80,206)\" /><path d=\"M0,0L-6,0\" transform=\"translate(80,226)\" /><path d=\"M0,0L-6,0\" transform=\"translate(80,246)\" /><path d=\"M0,0L-6,0\" transform=\"translate(80,266)\" /><path d=\"M0,0L-6,0\" transform=\"translate(80,286)\" /><path d=\"M0,0L-6,0\" transform=\"translate(80,306)\" /><path d=\"M0,0L-6,0\" transform=\"translate(80,326)\" /><path d=\"M0,0L-6,0\" transform=\"translate(80,346)\" /><path d=\"M0,0L-6,0\" transform=\"translate(80,366)\" /><path d=\"M0,0L-6,0\" transform=\"translate(80,386)\" /><path d=\"M0,0L-6,0\" transform=\"translate(80,406)\" /><path d=\"M0,0L-6,0\" transform=\"translate(80,426)\" /><path d=\"M0,0L-6,0\" transform=\"translate(80,446)\" /></g><g transform=\"translate(-9,9)\" text-anchor=\"end\" aria-label=\"y-axis tick label\"><text transform=\"translate(80,26)\" y=\"0.32em\">toyota</text><text transform=\"translate(80,46)\" y=\"0.32em\">nissan</text><text transform=\"translate(80,66)\" y=\"0.32em\">mazda</text><text transform=\"translate(80,86)\" y=\"0.32em\">honda</text><text transform=\"translate(80,106)\" y=\"0.32em\">mitsubishi</text><text transform=\"translate(80,126)\" y=\"0.32em\">subaru</text><text transform=\"translate(80,146)\" y=\"0.32em\">volkswagen</text><text transform=\"translate(80,166)\" y=\"0.32em\">peugeot</text><text transform=\"translate(80,186)\" y=\"0.32em\">volvo</text><text transform=\"translate(80,206)\" y=\"0.32em\">dodge</text><text transform=\"translate(80,226)\" y=\"0.32em\">bmw</text><text transform=\"translate(80,246)\" y=\"0.32em\">buick</text><text transform=\"translate(80,266)\" y=\"0.32em\">audi</text><text transform=\"translate(80,286)\" y=\"0.32em\">plymouth</text><text transform=\"translate(80,306)\" y=\"0.32em\">saab</text><text transform=\"translate(80,326)\" y=\"0.32em\">porsche</text><text transform=\"translate(80,346)\" y=\"0.32em\">isuzu</text><text transform=\"translate(80,366)\" y=\"0.32em\">alfa-romero</text><text transform=\"translate(80,386)\" y=\"0.32em\">chevrolet</text><text transform=\"translate(80,406)\" y=\"0.32em\">jaguar</text><text transform=\"translate(80,426)\" y=\"0.32em\">renault</text><text transform=\"translate(80,446)\" y=\"0.32em\">mercury</text></g><g transform=\"translate(-77,0)\" aria-label=\"y-axis label\"><text transform=\"translate(80,245) rotate(-90)\" y=\"0.71em\">brand</text></g><g stroke=\"currentColor\" fill=\"none\" aria-hidden=\"true\" aria-label=\"x-axis tick\"><path d=\"M0,0L0,6\" transform=\"translate(80,470)\" /><path d=\"M0,0L0,6\" transform=\"translate(164.375,470)\" /><path d=\"M0,0L0,6\" transform=\"translate(248.75,470)\" /><path d=\"M0,0L0,6\" transform=\"translate(333.125,470)\" /><path d=\"M0,0L0,6\" transform=\"translate(417.5,470)\" /><path d=\"M0,0L0,6\" transform=\"translate(501.875,470)\" /><path d=\"M0,0L0,6\" transform=\"translate(586.25,470)\" /></g><g transform=\"translate(0,9)\" font-variant=\"tabular-nums\" aria-label=\"x-axis tick label\"><text transform=\"translate(80,470)\" y=\"0.71em\">0</text><text transform=\"translate(164.375,470)\" y=\"0.71em\">5</text><text transform=\"translate(248.75,470)\" y=\"0.71em\">10</text><text transform=\"translate(333.125,470)\" y=\"0.71em\">15</text><text transform=\"translate(417.5,470)\" y=\"0.71em\">20</text><text transform=\"translate(501.875,470)\" y=\"0.71em\">25</text><text transform=\"translate(586.25,470)\" y=\"0.71em\">30</text></g><g transform=\"translate(17,27)\" text-anchor=\"end\" aria-label=\"x-axis label\"><text transform=\"translate(620,470)\">brand_count →</text></g><g aria-label=\"bar\"><rect height=\"18\" y=\"446\" width=\"16.875\" x=\"80\" /><rect height=\"18\" y=\"426\" width=\"33.75\" x=\"80\" /><rect height=\"18\" y=\"386\" width=\"50.625\" x=\"80\" /><rect height=\"18\" y=\"366\" width=\"50.625\" x=\"80\" /><rect height=\"18\" y=\"406\" width=\"50.625\" x=\"80\" /><rect height=\"18\" y=\"346\" width=\"67.5\" x=\"80\" /><rect height=\"18\" y=\"326\" width=\"84.375\" x=\"80\" /><rect height=\"18\" y=\"306\" width=\"101.25\" x=\"80\" /><rect height=\"18\" y=\"266\" width=\"118.125\" x=\"80\" /><rect height=\"18\" y=\"286\" width=\"118.125\" x=\"80\" /><rect height=\"18\" y=\"226\" width=\"135\" x=\"80\" /><rect height=\"18\" y=\"246\" width=\"135\" x=\"80\" /><rect height=\"18\" y=\"206\" width=\"151.875\" x=\"80\" /><rect height=\"18\" y=\"186\" width=\"185.625\" x=\"80\" /><rect height=\"18\" y=\"166\" width=\"185.625\" x=\"80\" /><rect height=\"18\" y=\"126\" width=\"202.5\" x=\"80\" /><rect height=\"18\" y=\"146\" width=\"202.5\" x=\"80\" /><rect height=\"18\" y=\"86\" width=\"219.375\" x=\"80\" /><rect height=\"18\" y=\"106\" width=\"219.375\" x=\"80\" /><rect height=\"18\" y=\"66\" width=\"286.875\" x=\"80\" /><rect height=\"18\" y=\"46\" width=\"303.75\" x=\"80\" /><rect height=\"18\" y=\"26\" width=\"540\" x=\"80\" /></g></svg>"
      ]
     },
     "execution_count": 13,
     "metadata": {},
     "output_type": "execute_result"
    }
   ],
   "source": [
    "import {Plot, document} from 'https://l12.xyz/x/shortcuts/raw/branch/main/plots.ts?95'\n",
    "\n",
    "const brandCountRecords = brandCount.toRecords()\n",
    "\n",
    "const brandCountPlot = Plot.plot({\n",
    "    marginLeft: 80,\n",
    "    style: {\n",
    "        backgroundColor: \"#fff\"\n",
    "    },\n",
    "    x: {padding: 0.4},\n",
    "    marks: [\n",
    "        Plot.barX(brandCountRecords, {x: \"brand_count\", y: \"brand\", sort: {y: \"x\", order: \"descending\"}}),\n",
    "    ],\n",
    "    document\n",
    "})\n",
    "await display(brandCountPlot)"
   ]
  },
  {
   "cell_type": "code",
   "execution_count": 14,
   "id": "e21f5bdf-a5a8-43b2-855b-0eb079656da7",
   "metadata": {
    "editable": true,
    "slideshow": {
     "slide_type": ""
    },
    "tags": []
   },
   "outputs": [
    {
     "data": {
      "text/plain": [
       "[\n",
       "  \u001b[32m\"wheelbase\"\u001b[39m,        \u001b[32m\"carlength\"\u001b[39m,\n",
       "  \u001b[32m\"carwidth\"\u001b[39m,         \u001b[32m\"carheight\"\u001b[39m,\n",
       "  \u001b[32m\"curbweight\"\u001b[39m,       \u001b[32m\"enginesize\"\u001b[39m,\n",
       "  \u001b[32m\"boreratio\"\u001b[39m,        \u001b[32m\"stroke\"\u001b[39m,\n",
       "  \u001b[32m\"compressionratio\"\u001b[39m, \u001b[32m\"horsepower\"\u001b[39m,\n",
       "  \u001b[32m\"peakrpm\"\u001b[39m,          \u001b[32m\"citympg\"\u001b[39m,\n",
       "  \u001b[32m\"highwaympg\"\u001b[39m\n",
       "]"
      ]
     },
     "execution_count": 14,
     "metadata": {},
     "output_type": "execute_result"
    }
   ],
   "source": [
    "let numericColumns = df.columns.filter((col) => df[col].isNumeric() && col !== 'price')\n",
    "numericColumns"
   ]
  },
  {
   "cell_type": "markdown",
   "id": "1c8d3b90-b4b1-4da6-9e7c-f8fd7cffb77d",
   "metadata": {},
   "source": [
    "Sometimes we can get some intuitive insight seeing the data plotted from different dimensions. It is an optional step, but it might help to get some assumtions about the relationships in the dataset. Below is an example for drawing plots side-by-side."
   ]
  },
  {
   "cell_type": "code",
   "execution_count": 15,
   "id": "9a82f623-b39a-473a-91b9-0a0347c64c63",
   "metadata": {
    "editable": true,
    "slideshow": {
     "slide_type": ""
    },
    "tags": []
   },
   "outputs": [
    {
     "data": {
      "text/html": [
       "\n",
       "          <section style=\"display:grid;grid-template-columns: repeat(3, 1fr);\">\n",
       "              <img src='data:image/svg+xml;base64,PHN2ZyB4bWxucz0iaHR0cDovL3d3dy53My5vcmcvMjAwMC9zdmciIHN0eWxlPSJiYWNrZ3JvdW5kLWNvbG9yOiNmZmYiIHZpZXdCb3g9IjAgMCA2NDAgNDUwIiBoZWlnaHQ9IjQ1MCIgd2lkdGg9IjY0MCIgdGV4dC1hbmNob3I9Im1pZGRsZSIgZm9udC1zaXplPSIxMCIgZm9udC1mYW1pbHk9InN5c3RlbS11aSwgc2Fucy1zZXJpZiIgZmlsbD0iY3VycmVudENvbG9yIiBjbGFzcz0icGxvdC1kNmE3YjUiPjxzdHlsZT46d2hlcmUoLnBsb3QtZDZhN2I1KSB7CiAgLS1wbG90LWJhY2tncm91bmQ6IHdoaXRlOwogIGRpc3BsYXk6IGJsb2NrOwogIGhlaWdodDogYXV0bzsKICBoZWlnaHQ6IGludHJpbnNpYzsKICBtYXgtd2lkdGg6IDEwMCU7Cn0KOndoZXJlKC5wbG90LWQ2YTdiNSB0ZXh0KSwKOndoZXJlKC5wbG90LWQ2YTdiNSB0c3BhbikgewogIHdoaXRlLXNwYWNlOiBwcmU7Cn08L3N0eWxlPjxnIHN0cm9rZS1vcGFjaXR5PSIwLjEiIHN0cm9rZT0iY3VycmVudENvbG9yIiBhcmlhLWhpZGRlbj0idHJ1ZSIgYXJpYS1sYWJlbD0ieS1ncmlkIj48bGluZSB5Mj0iMzU3LjU4MTU1MDA3MTk5MjQ3IiB5MT0iMzU3LjU4MTU1MDA3MTk5MjQ3IiB4Mj0iNTkwIiB4MT0iNTAiIC8+PGxpbmUgeTI9IjMxNC4xMzc4MjgzMTA0MTE2MyIgeTE9IjMxNC4xMzc4MjgzMTA0MTE2MyIgeDI9IjU5MCIgeDE9IjUwIiAvPjxsaW5lIHkyPSIyNzAuNjk0MTA2NTQ4ODMwNzUiIHkxPSIyNzAuNjk0MTA2NTQ4ODMwNzUiIHgyPSI1OTAiIHgxPSI1MCIgLz48bGluZSB5Mj0iMjI3LjI1MDM4NDc4NzI0OTg2IiB5MT0iMjI3LjI1MDM4NDc4NzI0OTg2IiB4Mj0iNTkwIiB4MT0iNTAiIC8+PGxpbmUgeTI9IjE4My44MDY2NjMwMjU2NjkwMiIgeTE9IjE4My44MDY2NjMwMjU2NjkwMiIgeDI9IjU5MCIgeDE9IjUwIiAvPjxsaW5lIHkyPSIxNDAuMzYyOTQxMjY0MDg4MTYiIHkxPSIxNDAuMzYyOTQxMjY0MDg4MTYiIHgyPSI1OTAiIHgxPSI1MCIgLz48bGluZSB5Mj0iOTYuOTE5MjE5NTAyNTA3MyIgeTE9Ijk2LjkxOTIxOTUwMjUwNzMiIHgyPSI1OTAiIHgxPSI1MCIgLz48bGluZSB5Mj0iNTMuNDc1NDk3NzQwOTI2NDYiIHkxPSI1My40NzU0OTc3NDA5MjY0NiIgeDI9IjU5MCIgeDE9IjUwIiAvPjwvZz48ZyBzdHJva2U9ImN1cnJlbnRDb2xvciIgZmlsbD0ibm9uZSIgYXJpYS1oaWRkZW49InRydWUiIGFyaWEtbGFiZWw9InktYXhpcyB0aWNrIj48cGF0aCBkPSJNMCwwTC02LDAiIHRyYW5zZm9ybT0idHJhbnNsYXRlKDUwLDM1Ny41ODE1NTAwNzE5OTI0NykiIC8+PHBhdGggZD0iTTAsMEwtNiwwIiB0cmFuc2Zvcm09InRyYW5zbGF0ZSg1MCwzMTQuMTM3ODI4MzEwNDExNjMpIiAvPjxwYXRoIGQ9Ik0wLDBMLTYsMCIgdHJhbnNmb3JtPSJ0cmFuc2xhdGUoNTAsMjcwLjY5NDEwNjU0ODgzMDc1KSIgLz48cGF0aCBkPSJNMCwwTC02LDAiIHRyYW5zZm9ybT0idHJhbnNsYXRlKDUwLDIyNy4yNTAzODQ3ODcyNDk4NikiIC8+PHBhdGggZD0iTTAsMEwtNiwwIiB0cmFuc2Zvcm09InRyYW5zbGF0ZSg1MCwxODMuODA2NjYzMDI1NjY5MDIpIiAvPjxwYXRoIGQ9Ik0wLDBMLTYsMCIgdHJhbnNmb3JtPSJ0cmFuc2xhdGUoNTAsMTQwLjM2Mjk0MTI2NDA4ODE2KSIgLz48cGF0aCBkPSJNMCwwTC02LDAiIHRyYW5zZm9ybT0idHJhbnNsYXRlKDUwLDk2LjkxOTIxOTUwMjUwNzMpIiAvPjxwYXRoIGQ9Ik0wLDBMLTYsMCIgdHJhbnNmb3JtPSJ0cmFuc2xhdGUoNTAsNTMuNDc1NDk3NzQwOTI2NDYpIiAvPjwvZz48ZyB0cmFuc2Zvcm09InRyYW5zbGF0ZSgtOSwwKSIgZm9udC12YXJpYW50PSJ0YWJ1bGFyLW51bXMiIHRleHQtYW5jaG9yPSJlbmQiIGFyaWEtbGFiZWw9InktYXhpcyB0aWNrIGxhYmVsIj48dGV4dCB0cmFuc2Zvcm09InRyYW5zbGF0ZSg1MCwzNTcuNTgxNTUwMDcxOTkyNDcpIiB5PSIwLjMyZW0iPjEwLDAwMDwvdGV4dD48dGV4dCB0cmFuc2Zvcm09InRyYW5zbGF0ZSg1MCwzMTQuMTM3ODI4MzEwNDExNjMpIiB5PSIwLjMyZW0iPjE1LDAwMDwvdGV4dD48dGV4dCB0cmFuc2Zvcm09InRyYW5zbGF0ZSg1MCwyNzAuNjk0MTA2NTQ4ODMwNzUpIiB5PSIwLjMyZW0iPjIwLDAwMDwvdGV4dD48dGV4dCB0cmFuc2Zvcm09InRyYW5zbGF0ZSg1MCwyMjcuMjUwMzg0Nzg3MjQ5ODYpIiB5PSIwLjMyZW0iPjI1LDAwMDwvdGV4dD48dGV4dCB0cmFuc2Zvcm09InRyYW5zbGF0ZSg1MCwxODMuODA2NjYzMDI1NjY5MDIpIiB5PSIwLjMyZW0iPjMwLDAwMDwvdGV4dD48dGV4dCB0cmFuc2Zvcm09InRyYW5zbGF0ZSg1MCwxNDAuMzYyOTQxMjY0MDg4MTYpIiB5PSIwLjMyZW0iPjM1LDAwMDwvdGV4dD48dGV4dCB0cmFuc2Zvcm09InRyYW5zbGF0ZSg1MCw5Ni45MTkyMTk1MDI1MDczKSIgeT0iMC4zMmVtIj40MCwwMDA8L3RleHQ+PHRleHQgdHJhbnNmb3JtPSJ0cmFuc2xhdGUoNTAsNTMuNDc1NDk3NzQwOTI2NDYpIiB5PSIwLjMyZW0iPjQ1LDAwMDwvdGV4dD48L2c+PGcgdHJhbnNmb3JtPSJ0cmFuc2xhdGUoLTQ3LC00NykiIHRleHQtYW5jaG9yPSJzdGFydCIgYXJpYS1sYWJlbD0ieS1heGlzIGxhYmVsIj48dGV4dCB0cmFuc2Zvcm09InRyYW5zbGF0ZSg1MCw1MCkiIHk9IjAuNzFlbSI+4oaRIHByaWNlPC90ZXh0PjwvZz48ZyBzdHJva2Utb3BhY2l0eT0iMC4xIiBzdHJva2U9ImN1cnJlbnRDb2xvciIgYXJpYS1oaWRkZW49InRydWUiIGFyaWEtbGFiZWw9IngtZ3JpZCI+PGxpbmUgeTI9IjQwMCIgeTE9IjUwIiB4Mj0iMTAzLjUyNzY5Njc5MzAwMyIgeDE9IjEwMy41Mjc2OTY3OTMwMDMiIC8+PGxpbmUgeTI9IjQwMCIgeTE9IjUwIiB4Mj0iMTgyLjI0NDg5Nzk1OTE4MzczIiB4MT0iMTgyLjI0NDg5Nzk1OTE4MzczIiAvPjxsaW5lIHkyPSI0MDAiIHkxPSI1MCIgeDI9IjI2MC45NjIwOTkxMjUzNjQ0MyIgeDE9IjI2MC45NjIwOTkxMjUzNjQ0MyIgLz48bGluZSB5Mj0iNDAwIiB5MT0iNTAiIHgyPSIzMzkuNjc5MzAwMjkxNTQ1MiIgeDE9IjMzOS42NzkzMDAyOTE1NDUyIiAvPjxsaW5lIHkyPSI0MDAiIHkxPSI1MCIgeDI9IjQxOC4zOTY1MDE0NTc3MjU5IiB4MT0iNDE4LjM5NjUwMTQ1NzcyNTkiIC8+PGxpbmUgeTI9IjQwMCIgeTE9IjUwIiB4Mj0iNDk3LjExMzcwMjYyMzkwNjY1IiB4MT0iNDk3LjExMzcwMjYyMzkwNjY1IiAvPjxsaW5lIHkyPSI0MDAiIHkxPSI1MCIgeDI9IjU3NS44MzA5MDM3OTAwODc0IiB4MT0iNTc1LjgzMDkwMzc5MDA4NzQiIC8+PC9nPjxnIHN0cm9rZT0iY3VycmVudENvbG9yIiBmaWxsPSJub25lIiBhcmlhLWhpZGRlbj0idHJ1ZSIgYXJpYS1sYWJlbD0ieC1heGlzIHRpY2siPjxwYXRoIGQ9Ik0wLDBMMCw2IiB0cmFuc2Zvcm09InRyYW5zbGF0ZSgxMDMuNTI3Njk2NzkzMDAzLDQwMCkiIC8+PHBhdGggZD0iTTAsMEwwLDYiIHRyYW5zZm9ybT0idHJhbnNsYXRlKDE4Mi4yNDQ4OTc5NTkxODM3Myw0MDApIiAvPjxwYXRoIGQ9Ik0wLDBMMCw2IiB0cmFuc2Zvcm09InRyYW5zbGF0ZSgyNjAuOTYyMDk5MTI1MzY0NDMsNDAwKSIgLz48cGF0aCBkPSJNMCwwTDAsNiIgdHJhbnNmb3JtPSJ0cmFuc2xhdGUoMzM5LjY3OTMwMDI5MTU0NTIsNDAwKSIgLz48cGF0aCBkPSJNMCwwTDAsNiIgdHJhbnNmb3JtPSJ0cmFuc2xhdGUoNDE4LjM5NjUwMTQ1NzcyNTksNDAwKSIgLz48cGF0aCBkPSJNMCwwTDAsNiIgdHJhbnNmb3JtPSJ0cmFuc2xhdGUoNDk3LjExMzcwMjYyMzkwNjY1LDQwMCkiIC8+PHBhdGggZD0iTTAsMEwwLDYiIHRyYW5zZm9ybT0idHJhbnNsYXRlKDU3NS44MzA5MDM3OTAwODc0LDQwMCkiIC8+PC9nPjxnIHRyYW5zZm9ybT0idHJhbnNsYXRlKDAsOSkiIGZvbnQtdmFyaWFudD0idGFidWxhci1udW1zIiBhcmlhLWxhYmVsPSJ4LWF4aXMgdGljayBsYWJlbCI+PHRleHQgdHJhbnNmb3JtPSJ0cmFuc2xhdGUoMTAzLjUyNzY5Njc5MzAwMyw0MDApIiB5PSIwLjcxZW0iPjkwPC90ZXh0Pjx0ZXh0IHRyYW5zZm9ybT0idHJhbnNsYXRlKDE4Mi4yNDQ4OTc5NTkxODM3Myw0MDApIiB5PSIwLjcxZW0iPjk1PC90ZXh0Pjx0ZXh0IHRyYW5zZm9ybT0idHJhbnNsYXRlKDI2MC45NjIwOTkxMjUzNjQ0Myw0MDApIiB5PSIwLjcxZW0iPjEwMDwvdGV4dD48dGV4dCB0cmFuc2Zvcm09InRyYW5zbGF0ZSgzMzkuNjc5MzAwMjkxNTQ1Miw0MDApIiB5PSIwLjcxZW0iPjEwNTwvdGV4dD48dGV4dCB0cmFuc2Zvcm09InRyYW5zbGF0ZSg0MTguMzk2NTAxNDU3NzI1OSw0MDApIiB5PSIwLjcxZW0iPjExMDwvdGV4dD48dGV4dCB0cmFuc2Zvcm09InRyYW5zbGF0ZSg0OTcuMTEzNzAyNjIzOTA2NjUsNDAwKSIgeT0iMC43MWVtIj4xMTU8L3RleHQ+PHRleHQgdHJhbnNmb3JtPSJ0cmFuc2xhdGUoNTc1LjgzMDkwMzc5MDA4NzQsNDAwKSIgeT0iMC43MWVtIj4xMjA8L3RleHQ+PC9nPjxnIHRyYW5zZm9ybT0idHJhbnNsYXRlKDQ3LDQ3KSIgdGV4dC1hbmNob3I9ImVuZCIgYXJpYS1sYWJlbD0ieC1heGlzIGxhYmVsIj48dGV4dCB0cmFuc2Zvcm09InRyYW5zbGF0ZSg1OTAsNDAwKSI+d2hlZWxiYXNlIOKGkjwvdGV4dD48L2c+PGcgc3Ryb2tlLXdpZHRoPSIxLjUiIHN0cm9rZT0iY3VycmVudENvbG9yIiBmaWxsPSJub25lIiBhcmlhLWxhYmVsPSJkb3QiPjxjaXJjbGUgcj0iMyIgY3k9IjMyNy4yMTQzODg1NjA2NDc0IiBjeD0iODEuNDg2ODgwNDY2NDcyMjkiIC8+PGNpcmNsZSByPSIzIiBjeT0iMzAxLjEwNDcxMTc4MTkzNzM0IiBjeD0iODEuNDg2ODgwNDY2NDcyMjkiIC8+PGNpcmNsZSByPSIzIiBjeT0iMzAxLjEwNDcxMTc4MTkzNzM0IiBjeD0iMTc0LjM3MzE3Nzg0MjU2NTY0IiAvPjxjaXJjbGUgcj0iMyIgY3k9IjMyMy4yNjEwMDk4ODAzNDM2IiBjeD0iMjU3LjgxMzQxMTA3ODcxNzIiIC8+PGNpcmNsZSByPSIzIiBjeT0iMjkyLjg1MDQwNDY0NzIzNyIgY3g9IjI1MS41MTYwMzQ5ODU0MjI4NiIgLz48Y2lyY2xlIHI9IjMiIGN5PSIzMTEuOTY1NjQyMjIyMzMyNiIgY3g9IjI1Ny44MTM0MTEwNzg3MTcyIiAvPjxjaXJjbGUgcj0iMyIgY3k9IjI5MC41OTEzMzExMTU2MzQ4IiBjeD0iMzUyLjI3NDA1MjQ3ODEzNDEiIC8+PGNpcmNsZSByPSIzIiBjeT0iMjgwLjA3Nzk1MDQ0OTMzMjIiIGN4PSIzNTIuMjc0MDUyNDc4MTM0MSIgLz48Y2lyY2xlIHI9IjMiIGN5PSIyMzcuMDI1MjIyMTgzNjA1NiIgY3g9IjM1Mi4yNzQwNTI0NzgxMzQxIiAvPjxjaXJjbGUgcj0iMyIgY3k9IjI4OS4yOTUyNTcxODY4MzI4IiBjeD0iMjUzLjA5MDM3OTAwODc0NjQiIC8+PGNpcmNsZSByPSIzIiBjeT0iMzAxLjcxMjkyMzg4NjU5OTUiIGN4PSIyNzkuODU0MjI3NDA1MjQ3ODUiIC8+PGNpcmNsZSByPSIzIiBjeT0iMjk3LjQxMTk5NTQzMjIwMjk2IiBjeD0iMjc5Ljg1NDIyNzQwNTI0Nzg1IiAvPjxjaXJjbGUgcj0iMyIgY3k9IjI2Mi4yNjYwMjQ1MjcwODQxIiBjeD0iMjc5Ljg1NDIyNzQwNTI0Nzg1IiAvPjxjaXJjbGUgcj0iMyIgY3k9IjI2MS4wOTMwNDQwMzk1MjE0IiBjeD0iMjc5Ljg1NDIyNzQwNTI0Nzg1IiAvPjxjaXJjbGUgcj0iMyIgY3k9IjIzMS4wMjk5ODg1ODA1MDc0IiBjeD0iMzE2LjA2NDEzOTk0MTY5MDk0IiAvPjxjaXJjbGUgcj0iMyIgY3k9IjE3Ny4yMDMyMTczMTc5MDg3NSIgY3g9IjMxNi4wNjQxMzk5NDE2OTA5NCIgLz48Y2lyY2xlIHI9IjMiIGN5PSI4NS40OTM1MjA2NzkyMTE1NCIgY3g9IjMxNi4wNjQxMzk5NDE2OTA5NCIgLz48Y2lyY2xlIHI9IjMiIGN5PSIxMjQuMDI4MTAxODgxNzMzNzkiIGN4PSI0MTguMzk2NTAxNDU3NzI1OSIgLz48Y2lyY2xlIHI9IjMiIGN5PSIzOTkuNzEzMjcxNDM2MzczNTMiIGN4PSI3OC4zMzgxOTI0MTk4MjUyNSIgLz48Y2lyY2xlIHI9IjMiIGN5PSIzODkuNzczMzQ3ODk3MzIzOSIgY3g9IjE3NC4zNzMxNzc4NDI1NjU2NCIgLz48Y2lyY2xlIHI9IjMiIGN5PSIzODcuMzQwNDk5NDc4Njc1NCIgY3g9IjE3NC4zNzMxNzc4NDI1NjU2NCIgLz48Y2lyY2xlIHI9IjMiIGN5PSIzOTYuMDU1MzEwMDY0MDQ4NCIgY3g9IjE2MS43Nzg0MjU2NTU5NzY3OCIgLz48Y2lyY2xlIHI9IjMiIGN5PSIzODkuMDYwODcwODYwNDMzOTciIGN4PSIxNjEuNzc4NDI1NjU1OTc2NzgiIC8+PGNpcmNsZSByPSIzIiBjeT0iMzc1LjMzMjY1NDc4Mzc3NDQiIGN4PSIxNjEuNzc4NDI1NjU1OTc2NzgiIC8+PGNpcmNsZSByPSIzIiBjeT0iMzkwLjM0NjgwNTAyNDU3NjciIGN4PSIxNjEuNzc4NDI1NjU1OTc2NzgiIC8+PGNpcmNsZSByPSIzIiBjeT0iMzg2LjMyMzkxNjM4OTQ1NDMiIGN4PSIxNjEuNzc4NDI1NjU1OTc2NzgiIC8+PGNpcmNsZSByPSIzIiBjeT0iMzc4LjM1NjMzNzgxODM4MDQ0IiBjeD0iMTYxLjc3ODQyNTY1NTk3Njc4IiAvPjxjaXJjbGUgcj0iMyIgY3k9IjM3MC4xMTA3MTk0MjgwMzI0IiBjeD0iMTYxLjc3ODQyNTY1NTk3Njc4IiAvPjxjaXJjbGUgcj0iMyIgY3k9IjM2Ni45NTY3MDUyMjgxNDE2MyIgY3g9IjMxMi45MTU0NTE4OTUwNDM3IiAvPjxjaXJjbGUgcj0iMyIgY3k9IjMzMS44MjgxMTE4MTE3MjczIiBjeD0iMTk2LjQxMzk5NDE2OTA5NjMzIiAvPjxjaXJjbGUgcj0iMyIgY3k9IjM4OC4xNzQ2MTg5MzY0OTc2NyIgY3g9IjUwIiAvPjxjaXJjbGUgcj0iMyIgY3k9IjM4NC45MDc2NTEwNjAwMjY4IiBjeD0iNTAiIC8+PGNpcmNsZSByPSIzIiBjeT0iMzk3LjU1ODQ2MjgzNjk5OTIiIGN4PSIxNjEuNzc4NDI1NjU1OTc2NzgiIC8+PGNpcmNsZSByPSIzIiBjeT0iMzg3Ljc0MDE4MTcxODg4MTg0IiBjeD0iMTYxLjc3ODQyNTY1NTk3Njc4IiAvPjxjaXJjbGUgcj0iMyIgY3k9IjM4Mi41MjY5MzUxMDc0OTIxNCIgY3g9IjE2MS43Nzg0MjU2NTU5NzY3OCIgLz48Y2lyY2xlIHI9IjMiIGN5PSIzODEuMDg0NjAzNTQ1MDA3NyIgY3g9IjIwNS44NjAwNTgzMDkwMzc5NSIgLz48Y2lyY2xlIHI9IjMiIGN5PSIzODEuMDg0NjAzNTQ1MDA3NyIgY3g9IjIwNS44NjAwNTgzMDkwMzc5NSIgLz48Y2lyY2xlIHI9IjMiIGN5PSIzNzUuODcxMzU2OTMzNjE3OTYiIGN4PSIyMDUuODYwMDU4MzA5MDM3OTUiIC8+PGNpcmNsZSByPSIzIiBjeT0iMzY1LjQ0NDg2MzcxMDgzODYiIGN4PSIyMDUuODYwMDU4MzA5MDM3OTUiIC8+PGNpcmNsZSByPSIzIiBjeT0iMzY3LjYxNzA0OTc5ODkxNzY2IiBjeD0iMjA1Ljg2MDA1ODMwOTAzNzk1IiAvPjxjaXJjbGUgcj0iMyIgY3k9IjM1NS4wMTgzNzA0ODgwNTkyIiBjeD0iMjA1Ljg2MDA1ODMwOTAzNzk1IiAvPjxjaXJjbGUgcj0iMyIgY3k9IjMzMS45OTMxOTc5NTQ0MjEzIiBjeD0iMjA1Ljg2MDA1ODMwOTAzNzk1IiAvPjxjaXJjbGUgcj0iMyIgY3k9IjM1NC41ODM5MzMyNzA0NDMzNyIgY3g9IjIwNS44NjAwNTgzMDkwMzc5NSIgLz48Y2lyY2xlIHI9IjMiIGN5PSIzODUuNTE1ODYzMTY0Njg4OTQiIGN4PSIxNzEuMjI0NDg5Nzk1OTE4MzciIC8+PGNpcmNsZSByPSIzIiBjeT0iMzY2Ljk5NTgwNDU3NzcyNzAzIiBjeD0iMTc0LjM3MzE3Nzg0MjU2NTY0IiAvPjxjaXJjbGUgcj0iMyIgY3k9IjM2Ni45OTU4MDQ1Nzc3MjcwMyIgY3g9IjE3NC4zNzMxNzc4NDI1NjU2NCIgLz48Y2lyY2xlIHI9IjMiIGN5PSIzNDguNDc1NzQ1OTkwNzY1MSIgY3g9IjE5Ny45ODgzMzgxOTI0MTk4NiIgLz48Y2lyY2xlIHI9IjMiIGN5PSIxNjQuMjU2OTg4MjMyOTU3NjQiIGN4PSI0NjUuNjI2ODIyMTU3NDM0MzMiIC8+PGNpcmNsZSByPSIzIiBjeT0iMTM1LjU4NDEzMTg3MDMxNDI4IiBjeD0iNDY1LjYyNjgyMjE1NzQzNDMzIiAvPjxjaXJjbGUgcj0iMyIgY3k9IjEzMS42NzQxOTY5MTE3NzIwMSIgY3g9IjI5Mi40NDg5Nzk1OTE4MzY3NSIgLz48Y2lyY2xlIHI9IjMiIGN5PSIzOTkuMzMwOTY2Njg0ODcxNiIgY3g9IjE1Mi4zMzIzNjE1MTYwMzQ5NSIgLz48Y2lyY2xlIHI9IjMiIGN5PSIzOTEuNTExMDk2NzY3Nzg3MTQiIGN4PSIxNTIuMzMyMzYxNTE2MDM0OTUiIC8+PGNpcmNsZSByPSIzIiBjeT0iMzg1LjQyODk3NTcyMTE2NTciIGN4PSIxNTIuMzMyMzYxNTE2MDM0OTUiIC8+PGNpcmNsZSByPSIzIiBjeT0iMzg2LjI5Nzg1MDE1NjM5NzQiIGN4PSIxNTIuMzMyMzYxNTE2MDM0OTUiIC8+PGNpcmNsZSByPSIzIiBjeT0iMzgwLjIxNTcyOTEwOTc3NjEiIGN4PSIxNTIuMzMyMzYxNTE2MDM0OTUiIC8+PGNpcmNsZSByPSIzIiBjeT0iMzQ5LjM3MDY4NjY1OTA1MzY2IiBjeD0iMTg2Ljk2NzkzMDAyOTE1NDUzIiAvPjxjaXJjbGUgcj0iMyIgY3k9IjM0MS41NTA4MTY3NDE5NjkxMyIgY3g9IjE4Ni45Njc5MzAwMjkxNTQ1MyIgLz48Y2lyY2xlIHI9IjMiIGN5PSIzMjUuOTExMDc2OTA3ODAwMDciIGN4PSIxODYuOTY3OTMwMDI5MTU0NTMiIC8+PGNpcmNsZSByPSIzIiBjeT0iMzA4LjUzMzU4ODIwMzE2NzY1IiBjeD0iMTg2Ljk2NzkzMDAyOTE1NDUzIiAvPjxjaXJjbGUgcj0iMyIgY3k9IjM2Ny42MTcwNDk3OTg5MTc2NiIgY3g9IjI0Mi4wNjk5NzA4NDU0ODEwNCIgLz48Y2lyY2xlIHI9IjMiIGN5PSIzNzAuNjU4MTEwMzIyMjI4MyIgY3g9IjI0Mi4wNjk5NzA4NDU0ODEwNCIgLz48Y2lyY2xlIHI9IjMiIGN5PSIzNTIuNDExNzQ3MTgyMzY0MyIgY3g9IjI0Mi4wNjk5NzA4NDU0ODEwNCIgLz48Y2lyY2xlIHI9IjMiIGN5PSIzNTUuNDUyODA3NzA1Njc1IiBjeD0iMjQyLjA2OTk3MDg0NTQ4MTA0IiAvPjxjaXJjbGUgcj0iMyIgY3k9IjM1MC42NzM5OTgzMTE5MDExIiBjeD0iMjQyLjA2OTk3MDg0NTQ4MTA0IiAvPjxjaXJjbGUgcj0iMyIgY3k9IjM0Ni43NjQwNjMzNTMzNTg5IiBjeD0iMjQyLjA2OTk3MDg0NTQ4MTA0IiAvPjxjaXJjbGUgcj0iMyIgY3k9IjI4NS42Mzg3NDY4MzQ4MTQ2IiBjeD0iMzM4LjEwNDk1NjI2ODIyMTY2IiAvPjxjaXJjbGUgcj0iMyIgY3k9IjI4NS4wODI2NjcxOTYyNjYzNiIgY3g9IjMzOC4xMDQ5NTYyNjgyMjE2NiIgLz48Y2lyY2xlIHI9IjMiIGN5PSIyMjIuNDU0MTk3OTA0NzcxMzUiIGN4PSI0MTguMzk2NTAxNDU3NzI1OSIgLz48Y2lyY2xlIHI9IjMiIGN5PSIxOTkuMDI5MzQzMTMwOTI2OTciIGN4PSI0MTguMzk2NTAxNDU3NzI1OSIgLz48Y2lyY2xlIHI9IjMiIGN5PSIxOTkuNjU0OTMyNzI0MjkzNzMiIGN4PSIzNjYuNDQzMTQ4Njg4MDQ2NyIgLz48Y2lyY2xlIHI9IjMiIGN5PSIxNjkuOTA0NjcyMDYxOTYzMiIgY3g9IjUwNi41NTk3NjY3NjM4NDgyNCIgLz48Y2lyY2xlIHI9IjMiIGN5PSIxNDcuNDUyOTU2NjU1NTc4MiIgY3g9IjUwNi41NTk3NjY3NjM4NDgyNCIgLz48Y2lyY2xlIHI9IjMiIGN5PSIxMzkuODc2MzcxNTgwMzU4NDciIGN4PSIyMDcuNDM0NDAyMzMyMzYxNDYiIC8+PGNpcmNsZSByPSIzIiBjeT0iODguNTc4MDI0OTI0MjgzODIiIGN4PSI1OTAiIC8+PGNpcmNsZSByPSIzIiBjeT0iNTAiIGN4PSI0NDkuODgzMzgxOTI0MTk4MiIgLz48Y2lyY2xlIHI9IjMiIGN5PSIzMDEuMDc4NjQ1NTQ4ODgwNCIgY3g9IjMwMy40NjkzODc3NTUxMDIxIiAvPjxjaXJjbGUgcj0iMyIgY3k9IjM5Ny42NDUzNTAyODA1MjIzNCIgY3g9IjE2MS43Nzg0MjU2NTU5NzY3OCIgLz48Y2lyY2xlIHI9IjMiIGN5PSIzOTAuNjk0MzU0Nzk4NjY5MzQiIGN4PSIxNjEuNzc4NDI1NjU1OTc2NzgiIC8+PGNpcmNsZSByPSIzIiBjeT0iMzg2LjUyMzc1NzUwOTU1NzY0IiBjeD0iMTYxLjc3ODQyNTY1NTk3Njc4IiAvPjxjaXJjbGUgcj0iMyIgY3k9IjM3Ny42NjEyMzgyNzAxOTUxIiBjeD0iMTUwLjc1ODAxNzQ5MjcxMTQyIiAvPjxjaXJjbGUgcj0iMyIgY3k9IjM1Ny45Mzc3ODg1OTA0Mzc0NCIgY3g9IjIwMi43MTEzNzAyNjIzOTA2NiIgLz48Y2lyY2xlIHI9IjMiIGN5PSIzNzAuNjIzMzU1MzQ0ODE5MDYiIGN4PSIyMDIuNzExMzcwMjYyMzkwNjYiIC8+PGNpcmNsZSByPSIzIiBjeT0iMzM0LjczODg0MTE2OTc1MzI0IiBjeD0iMTk2LjQxMzk5NDE2OTA5NjMzIiAvPjxjaXJjbGUgcj0iMyIgY3k9IjMxNS4yNzYwNTM4MjA1NjUwNCIgY3g9IjE5Ni40MTM5OTQxNjkwOTYzMyIgLz48Y2lyY2xlIHI9IjMiIGN5PSIzMTguNTc3Nzc2Njc0NDQ1MiIgY3g9IjE5Ni40MTM5OTQxNjkwOTYzMyIgLz48Y2lyY2xlIHI9IjMiIGN5PSIzODMuNzQzMzU5MzE2ODE2NDUiIGN4PSIyMDIuNzExMzcwMjYyMzkwNjYiIC8+PGNpcmNsZSByPSIzIiBjeT0iMzczLjMxNjg2NjA5NDAzNzA0IiBjeD0iMjAyLjcxMTM3MDI2MjM5MDY2IiAvPjxjaXJjbGUgcj0iMyIgY3k9IjM2My44NDYxMzQ3NTAwMTI0IiBjeD0iMjAyLjcxMTM3MDI2MjM5MDY2IiAvPjxjaXJjbGUgcj0iMyIgY3k9IjM2My44NDYxMzQ3NTAwMTI0IiBjeD0iMjAyLjcxMTM3MDI2MjM5MDY2IiAvPjxjaXJjbGUgcj0iMyIgY3k9IjM5Ni42ODk1ODg0MDE3Njc1NCIgY3g9IjE3NC4zNzMxNzc4NDI1NjU2NCIgLz48Y2lyY2xlIHI9IjMiIGN5PSIzODIuNzg3NTk3NDM4MDYxNjUiIGN4PSIxNzQuMzczMTc3ODQyNTY1NjQiIC8+PGNpcmNsZSByPSIzIiBjeT0iMzg2LjY5NzUzMjM5NjYwMzk1IiBjeD0iMTc0LjM3MzE3Nzg0MjU2NTY0IiAvPjxjaXJjbGUgcj0iMyIgY3k9IjM4NC45NTk3ODM1MjYxNDA3IiBjeD0iMTc0LjM3MzE3Nzg0MjU2NTY0IiAvPjxjaXJjbGUgcj0iMyIgY3k9IjM4MC42MTU0MTEzNDk5ODI2IiBjeD0iMTc0LjM3MzE3Nzg0MjU2NTY0IiAvPjxjaXJjbGUgcj0iMyIgY3k9IjM4MS4wNDk4NDg1Njc1OTg0IiBjeD0iMTc0LjM3MzE3Nzg0MjU2NTY0IiAvPjxjaXJjbGUgcj0iMyIgY3k9IjM3Ni43MDU0NzYzOTE0NDAzNiIgY3g9IjE3NC4zNzMxNzc4NDI1NjU2NCIgLz48Y2lyY2xlIHI9IjMiIGN5PSIzNzkuMzEyMDk5Njk3MTM1MiIgY3g9IjE3NC4zNzMxNzc4NDI1NjU2NCIgLz48Y2lyY2xlIHI9IjMiIGN5PSIzNzQuOTY3NzI3NTIwOTc3MSIgY3g9IjE3NC4zNzMxNzc4NDI1NjU2NCIgLz48Y2lyY2xlIHI9IjMiIGN5PSIzNzIuNzk1NTQxNDMyODk4MDYiIGN4PSIxODMuODE5MjQxOTgyNTA3MjYiIC8+PGNpcmNsZSByPSIzIiBjeT0iMzY2LjcxMzQyMDM4NjI3NjciIGN4PSIyMTYuODgwNDY2NDcyMzAzMyIgLz48Y2lyY2xlIHI9IjMiIGN5PSIzNjEuNTAwMTczNzc0ODg3IiBjeD0iMjE2Ljg4MDQ2NjQ3MjMwMzMiIC8+PGNpcmNsZSByPSIzIiBjeT0iMzI3LjE3OTYzMzU4MzIzODE3IiBjeD0iMjY3LjI1OTQ3NTIxODY1OSIgLz48Y2lyY2xlIHI9IjMiIGN5PSIzMTkuMzU5NzYzNjY2MTUzNjQiIGN4PSIyNjcuMjU5NDc1MjE4NjU5IiAvPjxjaXJjbGUgcj0iMyIgY3k9IjMyNy4xNzk2MzM1ODMyMzgxNyIgY3g9IjI2Ny4yNTk0NzUyMTg2NTkiIC8+PGNpcmNsZSByPSIzIiBjeT0iMjk1LjAzMTI3OTQ3OTY2ODMiIGN4PSIxMjMuOTk0MTY5MDk2MjA5OTMiIC8+PGNpcmNsZSByPSIzIiBjeT0iMjczLjMwOTQxODU5ODg3Nzg3IiBjeD0iMTIzLjk5NDE2OTA5NjIwOTkzIiAvPjxjaXJjbGUgcj0iMyIgY3k9IjI4NC42MDQ3ODYyNTY4ODg5MyIgY3g9IjI0OC4zNjczNDY5Mzg3NzU2IiAvPjxjaXJjbGUgcj0iMyIgY3k9IjM0MS4wNzI5MzU4MDI1OTE3IiBjeD0iMzg1LjMzNTI3Njk2NzkzMDA0IiAvPjxjaXJjbGUgcj0iMyIgY3k9IjMyOS43Nzc1NjgxNDQ1ODA3NSIgY3g9IjM4NS4zMzUyNzY5Njc5MzAwNCIgLz48Y2lyY2xlIHI9IjMiIGN5PSIzMzYuMzgxMDEzODUyMzQwOTciIGN4PSI0ODQuNTE4OTUwNDM3MzE3NzYiIC8+PGNpcmNsZSByPSIzIiBjeT0iMzI0LjA0Mjk5Njg3MjA1MiIgY3g9IjQ4NC41MTg5NTA0MzczMTc3NiIgLz48Y2lyY2xlIHI9IjMiIGN5PSIzMDkuMDk4MzU2NTg2MDY4MjMiIGN4PSIzODUuMzM1Mjc2OTY3OTMwMDQiIC8+PGNpcmNsZSByPSIzIiBjeT0iMjk3LjYyOTIxNDA0MTAxMDg3IiBjeD0iMzg1LjMzNTI3Njk2NzkzMDA0IiAvPjxjaXJjbGUgcj0iMyIgY3k9IjI5OS40MTA0MDY2MzMyMzU3IiBjeD0iNDg0LjUxODk1MDQzNzMxNzc2IiAvPjxjaXJjbGUgcj0iMyIgY3k9IjI5Ni4xMDg2ODM3NzkzNTU1NCIgY3g9IjQ4NC41MTg5NTA0MzczMTc3NiIgLz48Y2lyY2xlIHI9IjMiIGN5PSIyOTkuOTc1MTc1MDE2MTM2MyIgY3g9IjM4NS4zMzUyNzY5Njc5MzAwNCIgLz48Y2lyY2xlIHI9IjMiIGN5PSIyODguNTA2MDMyNDcxMDc4ODciIGN4PSIzODUuMzM1Mjc2OTY3OTMwMDQiIC8+PGNpcmNsZSByPSIzIiBjeT0iMjg2Ljc2ODI4MzYwMDYxNTYzIiBjeD0iMzg2LjkwOTYyMDk5MTI1MzYzIiAvPjxjaXJjbGUgcj0iMyIgY3k9IjM5Ni4wNTUzMTAwNjQwNDg0IiBjeD0iMTYxLjc3ODQyNTY1NTk3Njc4IiAvPjxjaXJjbGUgcj0iMyIgY3k9IjM3NS4zMzI2NTQ3ODM3NzQ0IiBjeD0iMTYxLjc3ODQyNTY1NTk3Njc4IiAvPjxjaXJjbGUgcj0iMyIgY3k9IjM5MC4zNDY4MDUwMjQ1NzY3IiBjeD0iMTYxLjc3ODQyNTY1NTk3Njc4IiAvPjxjaXJjbGUgcj0iMyIgY3k9IjM4Ni4zMjM5MTYzODk0NTQzIiBjeD0iMTYxLjc3ODQyNTY1NTk3Njc4IiAvPjxjaXJjbGUgcj0iMyIgY3k9IjM3OC4zNTYzMzc4MTgzODA0NCIgY3g9IjE2MS43Nzg0MjU2NTU5NzY3OCIgLz48Y2lyY2xlIHI9IjMiIGN5PSIzNjYuOTU2NzA1MjI4MTQxNjMiIGN4PSIzMTIuOTE1NDUxODk1MDQzNyIgLz48Y2lyY2xlIHI9IjMiIGN5PSIzMzMuNTY1ODYwNjgyMTkwNiIgY3g9IjE5Ni40MTM5OTQxNjkwOTYzMyIgLz48Y2lyY2xlIHI9IjMiIGN5PSIyNTMuMTYwMjIwNDQ1ODU2NzQiIGN4PSIxNzQuMzczMTc3ODQyNTY1NjQiIC8+PGNpcmNsZSByPSIzIiBjeT0iMTYxLjg0MTUxNzMwMzAxMzc3IiBjeD0iOTUuNjU1OTc2Njc2Mzg0OTEiIC8+PGNpcmNsZSByPSIzIiBjeT0iMTQ4LjgwODQwMDc3NDUzOTUiIGN4PSI5NS42NTU5NzY2NzYzODQ5MSIgLz48Y2lyY2xlIHI9IjMiIGN5PSIxMjIuNzQyMTY3NzE3NTkxIiBjeD0iOTUuNjU1OTc2Njc2Mzg0OTEiIC8+PGNpcmNsZSByPSIzIiBjeT0iMTcxLjYzODA3NjU2MDI1MDIzIiBjeD0iMjM1Ljc3MjU5NDc1MjE4NjciIC8+PGNpcmNsZSByPSIzIiBjeT0iMzYzLjcwNzExNDg0MDM3NTM3IiBjeD0iMTk5LjU2MjY4MjIxNTc0MzQiIC8+PGNpcmNsZSByPSIzIiBjeT0iMzU4LjQ5Mzg2ODIyODk4NTY2IiBjeD0iMTk5LjU2MjY4MjIxNTc0MzQiIC8+PGNpcmNsZSByPSIzIiBjeT0iMzQxLjUwNzM3MzAyMDIwNzUiIGN4PSIyNDYuNzkzMDAyOTE1NDUxODQiIC8+PGNpcmNsZSByPSIzIiBjeT0iMzM4LjcyNjk3NDgyNzQ2NjM0IiBjeD0iMjQ2Ljc5MzAwMjkxNTQ1MTg0IiAvPjxjaXJjbGUgcj0iMyIgY3k9IjMxMy43OTAyNzg1MzYzMTg5IiBjeD0iMjQ2Ljc5MzAwMjkxNTQ1MTg0IiAvPjxjaXJjbGUgcj0iMyIgY3k9IjMwOS43MDY1Njg2OTA3MzAzIiBjeD0iMjQ2Ljc5MzAwMjkxNTQ1MTg0IiAvPjxjaXJjbGUgcj0iMyIgY3k9IjI4Ni43NjgyODM2MDA2MTU2MyIgY3g9IjI0Ni43OTMwMDI5MTU0NTE4NCIgLz48Y2lyY2xlIHI9IjMiIGN5PSIyODIuNjg0NTczNzU1MDI3MDMiIGN4PSIyNDYuNzkzMDAyOTE1NDUxODQiIC8+PGNpcmNsZSByPSIzIiBjeT0iNDAwIiBjeD0iMTYxLjc3ODQyNTY1NTk3Njc4IiAvPjxjaXJjbGUgcj0iMyIgY3k9IjM4My4xODcyNzk2NzgyNjgyIiBjeD0iMTYxLjc3ODQyNTY1NTk3Njc4IiAvPjxjaXJjbGUgcj0iMyIgY3k9IjM3OC40MDg0NzAyODQ0OTQzNCIgY3g9IjE1NS40ODEwNDk1NjI2ODIyMiIgLz48Y2lyY2xlIHI9IjMiIGN5PSIzODIuNTUzMDAxMzQwNTQ5MTQiIGN4PSIyMTYuODgwNDY2NDcyMzAzMyIgLz48Y2lyY2xlIHI9IjMiIGN5PSIzNzYuOTE0MDA2MjU1ODk1OTciIGN4PSIyMTYuODgwNDY2NDcyMzAzMyIgLz48Y2lyY2xlIHI9IjMiIGN5PSIzNTcuOTI5MDk5ODQ2MDg1MTQiIGN4PSIyMTYuODgwNDY2NDcyMzAzMyIgLz48Y2lyY2xlIHI9IjMiIGN5PSIzNjQuMjQ1ODE2OTkwMjE4OTQiIGN4PSIyMTMuNzMxNzc4NDI1NjU2MDIiIC8+PGNpcmNsZSByPSIzIiBjeT0iMzQ2LjY0MjQyMDkzMjQyNjQiIGN4PSIyMTMuNzMxNzc4NDI1NjU2MDIiIC8+PGNpcmNsZSByPSIzIiBjeT0iMzc5LjYyNDg5NDQ5MzgxODU0IiBjeD0iMjEzLjczMTc3ODQyNTY1NjAyIiAvPjxjaXJjbGUgcj0iMyIgY3k9IjM1NS44NjExNzg2OTAyMzM5IiBjeD0iMjEzLjczMTc3ODQyNTY1NjAyIiAvPjxjaXJjbGUgcj0iMyIgY3k9IjM3NC44NDYwODUxMDAwNDQ2NiIgY3g9IjIxMi4xNTc0MzQ0MDIzMzI1IiAvPjxjaXJjbGUgcj0iMyIgY3k9IjM0Mi44NjI4MTcxMzkxNjg5IiBjeD0iMjEyLjE1NzQzNDQwMjMzMjUiIC8+PGNpcmNsZSByPSIzIiBjeT0iMzk4LjAwMTU4ODc5ODk2NzI1IiBjeD0iMTkzLjI2NTMwNjEyMjQ0OTEiIC8+PGNpcmNsZSByPSIzIiBjeT0iMzg5LjM5OTczMTg5MDE3NDMiIGN4PSIxOTMuMjY1MzA2MTIyNDQ5MSIgLz48Y2lyY2xlIHI9IjMiIGN5PSIzODguMDk2NDIwMjM3MzI2ODciIGN4PSIxOTMuMjY1MzA2MTIyNDQ5MSIgLz48Y2lyY2xlIHI9IjMiIGN5PSIzODQuMzYwMjYwMTY1ODMwOSIgY3g9IjE5My4yNjUzMDYxMjI0NDkxIiAvPjxjaXJjbGUgcj0iMyIgY3k9IjM3NS44NDUyOTA3MDA1NjEwNyIgY3g9IjE5My4yNjUzMDYxMjI0NDkxIiAvPjxjaXJjbGUgcj0iMyIgY3k9IjM2OC4xOTkxOTU2NzA1MjI4IiBjeD0iMTkzLjI2NTMwNjEyMjQ0OTEiIC8+PGNpcmNsZSByPSIzIiBjeT0iMzg0LjE4NjQ4NTI3ODc4NDYiIGN4PSIxOTMuMjY1MzA2MTIyNDQ5MSIgLz48Y2lyY2xlIHI9IjMiIGN5PSIzODEuOTI3NDExNzQ3MTgyMzYiIGN4PSIxOTMuMjY1MzA2MTIyNDQ5MSIgLz48Y2lyY2xlIHI9IjMiIGN5PSIzNzUuODQ1MjkwNzAwNTYxMDciIGN4PSIxOTMuMjY1MzA2MTIyNDQ5MSIgLz48Y2lyY2xlIHI9IjMiIGN5PSIzNzYuODAxMDUyNTc5MzE1OCIgY3g9IjE5My4yNjUzMDYxMjI0NDkxIiAvPjxjaXJjbGUgcj0iMyIgY3k9IjM3Ny4yMzU0ODk3OTY5MzE2MyIgY3g9IjE5My4yNjUzMDYxMjI0NDkxIiAvPjxjaXJjbGUgcj0iMyIgY3k9IjM3MS44NDg0NjgyOTg0OTU2IiBjeD0iMTkzLjI2NTMwNjEyMjQ0OTEiIC8+PGNpcmNsZSByPSIzIiBjeT0iMzY0LjAyODU5ODM4MTQxMTAzIiBjeD0iMTkzLjI2NTMwNjEyMjQ0OTEiIC8+PGNpcmNsZSByPSIzIiBjeT0iMzc0LjQ1NTA5MTYwNDE5MDQ0IiBjeD0iMTc0LjM3MzE3Nzg0MjU2NTY0IiAvPjxjaXJjbGUgcj0iMyIgY3k9IjM3Mi44OTExMTc2MjA3NzM1NyIgY3g9IjE3NC4zNzMxNzc4NDI1NjU2NCIgLz48Y2lyY2xlIHI9IjMiIGN5PSIzNjMuNjgxMDQ4NjA3MzE4NCIgY3g9IjE3NC4zNzMxNzc4NDI1NjU2NCIgLz48Y2lyY2xlIHI9IjMiIGN5PSIzNjEuNTk1NzQ5OTYyNzYyNTciIGN4PSIxNzQuMzczMTc3ODQyNTY1NjQiIC8+PGNpcmNsZSByPSIzIiBjeT0iMzcxLjA1Nzc5MjU2MjQzNDkiIGN4PSIyMzUuNzcyNTk0NzUyMTg2NyIgLz48Y2lyY2xlIHI9IjMiIGN5PSIzNjAuNzE4MTg2NzgzMTc4NTciIGN4PSIyMzUuNzcyNTk0NzUyMTg2NyIgLz48Y2lyY2xlIHI9IjMiIGN5PSIzNTcuNjc3MTI2MjU5ODY3OSIgY3g9IjIzNS43NzI1OTQ3NTIxODY3IiAvPjxjaXJjbGUgcj0iMyIgY3k9IjM0Ny4xNjM3NDU1OTM1NjU0IiBjeD0iMjM1Ljc3MjU5NDc1MjE4NjciIC8+PGNpcmNsZSByPSIzIiBjeT0iMzQ0LjEyMjY4NTA3MDI1NDciIGN4PSIyMzUuNzcyNTk0NzUyMTg2NyIgLz48Y2lyY2xlIHI9IjMiIGN5PSIyOTAuOTQ3NTY5NjM0MDc5NzQiIGN4PSIyMzUuNzcyNTk0NzUyMTg2NyIgLz48Y2lyY2xlIHI9IjMiIGN5PSIzNjYuNzIyMTA5MTMwNjI5MDYiIGN4PSIyOTguNzQ2MzU1Njg1MTMxMyIgLz48Y2lyY2xlIHI9IjMiIGN5PSIzNTEuNTE2ODA2NTE0MDc1NzciIGN4PSIyOTguNzQ2MzU1Njg1MTMxMyIgLz48Y2lyY2xlIHI9IjMiIGN5PSIzNTcuNjg1ODE1MDA0MjIwMyIgY3g9IjI5OC43NDYzNTU2ODUxMzEzIiAvPjxjaXJjbGUgcj0iMyIgY3k9IjM0OS43NzkwNTc2NDM2MTI1MyIgY3g9IjI5OC43NDYzNTU2ODUxMzEzIiAvPjxjaXJjbGUgcj0iMyIgY3k9IjM0Ni43Mzc5OTcxMjAzMDE5IiBjeD0iMjk4Ljc0NjM1NTY4NTEzMTMiIC8+PGNpcmNsZSByPSIzIiBjeT0iMzAwLjYwMDc2NDYwOTUwMyIgY3g9IjMwNi42MTgwNzU4MDE3NDkzNCIgLz48Y2lyY2xlIHI9IjMiIGN5PSIzMDUuNDY2NDYxNDQ2ODAwMDUiIGN4PSIzMDYuNjE4MDc1ODAxNzQ5MzQiIC8+PGNpcmNsZSByPSIzIiBjeT0iMzA4LjE0MjU5NDcwNzMxMzUiIGN4PSIzMzEuODA3NTgwMTc0OTI3MDciIC8+PGNpcmNsZSByPSIzIiBjeT0iMzA3LjYyMTI3MDA0NjE3NDQ2IiBjeD0iMzMxLjgwNzU4MDE3NDkyNzA3IiAvPjxjaXJjbGUgcj0iMyIgY3k9IjM3Ni45MTQwMDYyNTU4OTU5NyIgY3g9IjIxOC40NTQ4MTA0OTU2MjY4MiIgLz48Y2lyY2xlIHI9IjMiIGN5PSIzNzUuMTc2MjU3Mzg1NDMyNzMiIGN4PSIyMTguNDU0ODEwNDk1NjI2ODIiIC8+PGNpcmNsZSByPSIzIiBjeT0iMzc1LjAwMjQ4MjQ5ODM4NjMiIGN4PSIyMTguNDU0ODEwNDk1NjI2ODIiIC8+PGNpcmNsZSByPSIzIiBjeT0iMzczLjI2NDczMzYyNzkyMzEiIGN4PSIyMTguNDU0ODEwNDk1NjI2ODIiIC8+PGNpcmNsZSByPSIzIiBjeT0iMzcwLjY1ODExMDMyMjIyODMiIGN4PSIyMTguNDU0ODEwNDk1NjI2ODIiIC8+PGNpcmNsZSByPSIzIiBjeT0iMzYxLjk2OTM2NTk2OTkxMjEzIiBjeD0iMjE4LjQ1NDgxMDQ5NTYyNjgyIiAvPjxjaXJjbGUgcj0iMyIgY3k9IjM1Ny42MjQ5OTM3OTM3NTQiIGN4PSIyMTguNDU0ODEwNDk1NjI2ODIiIC8+PGNpcmNsZSByPSIzIiBjeT0iMzQzLjcyMzAwMjgzMDA0ODEzIiBjeD0iMTc0LjM3MzE3Nzg0MjU2NTY0IiAvPjxjaXJjbGUgcj0iMyIgY3k9IjM1Ny43NTUzMjQ5NTkwMzg4IiBjeD0iMTc0LjM3MzE3Nzg0MjU2NTY0IiAvPjxjaXJjbGUgcj0iMyIgY3k9IjMyOC45NTIxMzc0MzExMTA2NiIgY3g9IjI2Ny4yNTk0NzUyMTg2NTkiIC8+PGNpcmNsZSByPSIzIiBjeT0iMzI0LjE3MzMyODAzNzMzNjgzIiBjeD0iMjY3LjI1OTQ3NTIxODY1OSIgLz48Y2lyY2xlIHI9IjMiIGN5PSIzMzcuNjg0MzI1NTA1MTg4NDQiIGN4PSIyNjcuMjU5NDc1MjE4NjU5IiAvPjxjaXJjbGUgcj0iMyIgY3k9IjMzMi4wMzY2NDE2NzYxODI5NyIgY3g9IjMyOC42NTg4OTIxMjgyNzk4MyIgLz48Y2lyY2xlIHI9IjMiIGN5PSIzMjcuOTA5NDg4MTA4ODMyNyIgY3g9IjMyOC42NTg4OTIxMjgyNzk4MyIgLz48Y2lyY2xlIHI9IjMiIGN5PSIzMDUuNTc5NDE1MTIzMzgwMiIgY3g9IjMyOC42NTg4OTIxMjgyNzk4MyIgLz48Y2lyY2xlIHI9IjMiIGN5PSIzMDAuOTc0MzgwNjE2NjUyNiIgY3g9IjMyOC42NTg4OTIxMjgyNzk4MyIgLz48Y2lyY2xlIHI9IjMiIGN5PSIyODQuNDIyMzIyNjI1NDkwMjciIGN4PSIzMjguNjU4ODkyMTI4Mjc5ODMiIC8+PGNpcmNsZSByPSIzIiBjeT0iMjc5LjgxNzI4ODExODc2Mjc1IiBjeD0iMzI4LjY1ODg5MjEyODI3OTgzIiAvPjxjaXJjbGUgcj0iMyIgY3k9IjI5OC4xMDcwOTQ5ODAzODgzIiBjeD0iNDA0LjIyNzQwNTI0NzgxMzM1IiAvPjxjaXJjbGUgcj0iMyIgY3k9IjI3OC45OTE4NTc0MDUyOTI2NSIgY3g9IjQwNC4yMjc0MDUyNDc4MTMzNSIgLz48Y2lyY2xlIHI9IjMiIGN5PSIyNTcuNzkxMzIxMTg1NjQxMiIgY3g9IjQwNC4yMjc0MDUyNDc4MTMzNSIgLz48Y2lyY2xlIHI9IjMiIGN5PSIyNDkuMjMyOTA3OTk4NjA5OCIgY3g9IjQwNC4yMjc0MDUyNDc4MTMzNSIgLz48Y2lyY2xlIHI9IjMiIGN5PSIyNDcuODg2MTUyNjI0MDAwNzciIGN4PSI0MDQuMjI3NDA1MjQ3ODEzMzUiIC8+PC9nPjxnIHN0cm9rZS1saW5lY2FwPSJyb3VuZCIgc3Ryb2tlLWxpbmVqb2luPSJyb3VuZCIgc3Ryb2tlLXdpZHRoPSIxLjUiIHN0cm9rZT0icmVkIiBmaWxsLW9wYWNpdHk9IjAuMSIgZmlsbD0icmVkIiBhcmlhLWxhYmVsPSJsaW5lYXItcmVncmVzc2lvbiI+PHBhdGggZD0iTTUwLDM5Mi40MjZMNTQsMzkxLjAyOUw1OCwzODkuNjMyTDYyLDM4OC4yMzNMNjYsMzg2LjgzM0w3MCwzODUuNDMxTDc0LDM4NC4wMjdMNzgsMzgyLjYyMkw4MiwzODEuMjE1TDg2LDM3OS44MDdMOTAsMzc4LjM5Nkw5NCwzNzYuOTgzTDk4LDM3NS41NjhMMTAyLDM3NC4xNTFMMTA2LDM3Mi43MzFMMTEwLDM3MS4zMDlMMTE0LDM2OS44ODNMMTE4LDM2OC40NTVMMTIyLDM2Ny4wMjRMMTI2LDM2NS41ODlMMTMwLDM2NC4xNTFMMTM0LDM2Mi43MDlMMTM4LDM2MS4yNjNMMTQyLDM1OS44MTNMMTQ2LDM1OC4zNThMMTUwLDM1Ni44OThMMTU0LDM1NS40MzNMMTU4LDM1My45NjJMMTYyLDM1Mi40ODZMMTY2LDM1MS4wMDNMMTcwLDM0OS41MTNMMTc0LDM0OC4wMTdMMTc4LDM0Ni41MTNMMTgyLDM0NUwxODYsMzQzLjQ4TDE5MCwzNDEuOTVMMTk0LDM0MC40MTFMMTk4LDMzOC44NjJMMjAyLDMzNy4zMDJMMjA2LDMzNS43MzFMMjEwLDMzNC4xNDlMMjE0LDMzMi41NTVMMjE4LDMzMC45NDlMMjIyLDMyOS4zMjlMMjI2LDMyNy42OTdMMjMwLDMyNi4wNTFMMjM0LDMyNC4zOTFMMjM4LDMyMi43MThMMjQyLDMyMS4wM0wyNDYsMzE5LjMyOUwyNTAsMzE3LjYxNEwyNTQsMzE1Ljg4NUwyNTgsMzE0LjE0MkwyNjIsMzEyLjM4NkwyNjYsMzEwLjYxN0wyNzAsMzA4LjgzNUwyNzQsMzA3LjA0MUwyNzgsMzA1LjIzNUwyODIsMzAzLjQxN0wyODYsMzAxLjU4OUwyOTAsMjk5Ljc1MUwyOTQsMjk3LjkwMkwyOTgsMjk2LjA0NUwzMDIsMjk0LjE3OEwzMDYsMjkyLjMwM0wzMTAsMjkwLjQyMUwzMTQsMjg4LjUzMUwzMTgsMjg2LjYzM0wzMjIsMjg0LjczTDMyNiwyODIuODJMMzMwLDI4MC45MDRMMzM0LDI3OC45ODNMMzM4LDI3Ny4wNTdMMzQyLDI3NS4xMjZMMzQ2LDI3My4xOUwzNTAsMjcxLjI1MUwzNTQsMjY5LjMwN0wzNTgsMjY3LjM2TDM2MiwyNjUuNDA5TDM2NiwyNjMuNDU1TDM3MCwyNjEuNDk3TDM3NCwyNTkuNTM3TDM3OCwyNTcuNTc0TDM4MiwyNTUuNjA5TDM4NiwyNTMuNjQxTDM5MCwyNTEuNjcxTDM5NCwyNDkuNjk4TDM5OCwyNDcuNzI0TDQwMiwyNDUuNzQ3TDQwNiwyNDMuNzY5TDQxMCwyNDEuNzg5TDQxNCwyMzkuODA4TDQxOCwyMzcuODI0TDQyMiwyMzUuODRMNDI2LDIzMy44NTRMNDMwLDIzMS44NjdMNDM0LDIyOS44NzhMNDM4LDIyNy44ODhMNDQyLDIyNS44OTdMNDQ2LDIyMy45MDVMNDUwLDIyMS45MTJMNDU0LDIxOS45MThMNDU4LDIxNy45MjNMNDYyLDIxNS45MjdMNDY2LDIxMy45MzFMNDcwLDIxMS45MzNMNDc0LDIwOS45MzVMNDc4LDIwNy45MzZMNDgyLDIwNS45MzZMNDg2LDIwMy45MzZMNDkwLDIwMS45MzRMNDk0LDE5OS45MzNMNDk4LDE5Ny45M0w1MDIsMTk1LjkyN0w1MDYsMTkzLjkyNEw1MTAsMTkxLjkyTDUxNCwxODkuOTE1TDUxOCwxODcuOTFMNTIyLDE4NS45MDVMNTI2LDE4My44OTlMNTMwLDE4MS44OTNMNTM0LDE3OS44ODZMNTM4LDE3Ny44NzlMNTQyLDE3NS44NzFMNTQ2LDE3My44NjNMNTUwLDE3MS44NTVMNTU0LDE2OS44NDZMNTU4LDE2Ny44MzdMNTYyLDE2NS44MjdMNTY2LDE2My44MThMNTcwLDE2MS44MDhMNTc0LDE1OS43OTdMNTc4LDE1Ny43ODdMNTgyLDE1NS43NzZMNTg2LDE1My43NjVMNTkwLDE1MS43NTRMNTkwLDIxMS40OTdMNTg2LDIxMi44N0w1ODIsMjE0LjI0M0w1NzgsMjE1LjYxN0w1NzQsMjE2Ljk5MUw1NzAsMjE4LjM2NUw1NjYsMjE5LjczOUw1NjIsMjIxLjExNEw1NTgsMjIyLjQ4OUw1NTQsMjIzLjg2NUw1NTAsMjI1LjI0MUw1NDYsMjI2LjYxN0w1NDIsMjI3Ljk5M0w1MzgsMjI5LjM3TDUzNCwyMzAuNzQ4TDUzMCwyMzIuMTI1TDUyNiwyMzMuNTAzTDUyMiwyMzQuODgyTDUxOCwyMzYuMjYxTDUxNCwyMzcuNjQxTDUxMCwyMzkuMDIxTDUwNiwyNDAuNDAxTDUwMiwyNDEuNzgyTDQ5OCwyNDMuMTY0TDQ5NCwyNDQuNTQ2TDQ5MCwyNDUuOTI5TDQ4NiwyNDcuMzEyTDQ4MiwyNDguNjk2TDQ3OCwyNTAuMDgxTDQ3NCwyNTEuNDY2TDQ3MCwyNTIuODUyTDQ2NiwyNTQuMjM5TDQ2MiwyNTUuNjI3TDQ1OCwyNTcuMDE2TDQ1NCwyNTguNDA1TDQ1MCwyNTkuNzk2TDQ0NiwyNjEuMTg3TDQ0MiwyNjIuNThMNDM4LDI2My45NzRMNDM0LDI2NS4zNjhMNDMwLDI2Ni43NjRMNDI2LDI2OC4xNjFMNDIyLDI2OS41Nkw0MTgsMjcwLjk2TDQxNCwyNzIuMzYxTDQxMCwyNzMuNzY0TDQwNiwyNzUuMTY5TDQwMiwyNzYuNTc1TDM5OCwyNzcuOTgzTDM5NCwyNzkuMzkzTDM5MCwyODAuODA1TDM4NiwyODIuMjJMMzgyLDI4My42MzZMMzc4LDI4NS4wNTVMMzc0LDI4Ni40NzdMMzcwLDI4Ny45MDFMMzY2LDI4OS4zMjhMMzYyLDI5MC43NTlMMzU4LDI5Mi4xOTJMMzU0LDI5My42M0wzNTAsMjk1LjA3TDM0NiwyOTYuNTE1TDM0MiwyOTcuOTY0TDMzOCwyOTkuNDE4TDMzNCwzMDAuODc2TDMzMCwzMDIuMzM5TDMyNiwzMDMuODA4TDMyMiwzMDUuMjgzTDMxOCwzMDYuNzY0TDMxNCwzMDguMjUxTDMxMCwzMDkuNzQ2TDMwNiwzMTEuMjQ3TDMwMiwzMTIuNzU3TDI5OCwzMTQuMjc1TDI5NCwzMTUuODAyTDI5MCwzMTcuMzM4TDI4NiwzMTguODg0TDI4MiwzMjAuNDRMMjc4LDMyMi4wMDhMMjc0LDMyMy41ODZMMjcwLDMyNS4xNzdMMjY2LDMyNi43NzlMMjYyLDMyOC4zOTVMMjU4LDMzMC4wMjNMMjU0LDMzMS42NjVMMjUwLDMzMy4zMkwyNDYsMzM0Ljk4OUwyNDIsMzM2LjY3M0wyMzgsMzM4LjM3TDIzNCwzNDAuMDgxTDIzMCwzNDEuODA2TDIyNiwzNDMuNTQ0TDIyMiwzNDUuMjk2TDIxOCwzNDcuMDYxTDIxNCwzNDguODM5TDIxMCwzNTAuNjNMMjA2LDM1Mi40MzJMMjAyLDM1NC4yNDZMMTk4LDM1Ni4wNzFMMTk0LDM1Ny45MDZMMTkwLDM1OS43NTJMMTg2LDM2MS42MDdMMTgyLDM2My40N0wxNzgsMzY1LjM0M0wxNzQsMzY3LjIyM0wxNzAsMzY5LjExMUwxNjYsMzcxLjAwNkwxNjIsMzcyLjkwOEwxNTgsMzc0LjgxNkwxNTQsMzc2LjczTDE1MCwzNzguNjQ5TDE0NiwzODAuNTc0TDE0MiwzODIuNTAzTDEzOCwzODQuNDM3TDEzNCwzODYuMzc2TDEzMCwzODguMzE4TDEyNiwzOTAuMjY1TDEyMiwzOTIuMjE1TDExOCwzOTQuMTY4TDExNCwzOTYuMTI0TDExMCwzOTguMDgzTDEwNiw0MDAuMDQ1TDEwMiw0MDIuMDFMOTgsNDAzLjk3N0w5NCw0MDUuOTQ3TDkwLDQwNy45MTlMODYsNDA5Ljg5M0w4Miw0MTEuODY4TDc4LDQxMy44NDZMNzQsNDE1LjgyNUw3MCw0MTcuODA2TDY2LDQxOS43ODlMNjIsNDIxLjc3M0w1OCw0MjMuNzU5TDU0LDQyNS43NDZMNTAsNDI3LjczNFoiIHN0cm9rZT0ibm9uZSIgLz48cGF0aCBkPSJNNTAsNDEwLjA3OTg0OTk2OTAxMDlMNTkwLDE4MS42MjUwODUwMTE3ODkiIGZpbGw9Im5vbmUiIC8+PC9nPjwvc3ZnPg=='><img src='data:image/svg+xml;base64,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'><img src='data:image/svg+xml;base64,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'><img src='data:image/svg+xml;base64,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'><img src='data:image/svg+xml;base64,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'><img src='data:image/svg+xml;base64,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'><img src='data:image/svg+xml;base64,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'><img src='data:image/svg+xml;base64,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'><img src='data:image/svg+xml;base64,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'><img src='data:image/svg+xml;base64,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'><img src='data:image/svg+xml;base64,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'><img src='data:image/svg+xml;base64,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'><img src='data:image/svg+xml;base64,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'>\n",
       "          </section>\n",
       "    "
      ]
     },
     "execution_count": 15,
     "metadata": {},
     "output_type": "execute_result"
    }
   ],
   "source": [
    "import { sideBySidePlot } from 'https://l12.xyz/x/shortcuts/raw/plots.ts?95'\n",
    "\n",
    "let records = df.toRecords();\n",
    "\n",
    "const plt = sideBySidePlot({\n",
    "    x: numericColumns,\n",
    "    y: ['price'],\n",
    "    marks: [\n",
    "        (x, y) => Plot.dot(records, {x, y}),\n",
    "        (x, y) => Plot.linearRegressionY(records, {x, y, stroke: \"red\"}),\n",
    "    ],\n",
    "    cols: 3\n",
    "})\n",
    "\n",
    "await display(\n",
    "    plt,\n",
    ");"
   ]
  },
  {
   "cell_type": "markdown",
   "id": "53d04850-df05-474c-8568-a5f7c97146f3",
   "metadata": {
    "editable": true,
    "slideshow": {
     "slide_type": ""
    },
    "tags": []
   },
   "source": [
    "Let's view the list of top features that have high correlation coefficient. The pearsonCorr() function calculates the Pearson'r correlation coefficients with respect to the 'price'."
   ]
  },
  {
   "cell_type": "code",
   "execution_count": 16,
   "id": "924838be-1b4d-4edf-abe5-8bf02e02cf11",
   "metadata": {
    "editable": true,
    "slideshow": {
     "slide_type": ""
    },
    "tags": []
   },
   "outputs": [
    {
     "data": {
      "application/vnd.dataresource+json": {
       "bytes": null,
       "data": [
        {
         "Variable": "enginesize",
         "idx (price)": 0.8741448025245117
        },
        {
         "Variable": "curbweight",
         "idx (price)": 0.8353048793372955
        },
        {
         "Variable": "horsepower",
         "idx (price)": 0.8081388225362217
        },
        {
         "Variable": "carwidth",
         "idx (price)": 0.7593252997414263
        },
        {
         "Variable": "carlength",
         "idx (price)": 0.6829200156779843
        },
        {
         "Variable": "wheelbase",
         "idx (price)": 0.5778155982921477
        },
        {
         "Variable": "boreratio",
         "idx (price)": 0.5531732367984261
        },
        {
         "Variable": "carheight",
         "idx (price)": 0.11933622657047727
        },
        {
         "Variable": "stroke",
         "idx (price)": 0.07944308388192935
        },
        {
         "Variable": "compressionratio",
         "idx (price)": 0.06798350579944248
        },
        {
         "Variable": "peakrpm",
         "idx (price)": -0.0852671502778569
        },
        {
         "Variable": "citympg",
         "idx (price)": -0.6857513360270401
        },
        {
         "Variable": "highwaympg",
         "idx (price)": -0.6975990916465564
        }
       ],
       "description": null,
       "dialect": null,
       "encoding": null,
       "format": null,
       "hash": null,
       "homepage": null,
       "licenses": null,
       "mediatype": null,
       "path": null,
       "schema": {
        "fields": [
         {
          "constraints": null,
          "description": null,
          "example": null,
          "format": null,
          "name": "Variable",
          "rdfType": null,
          "title": null,
          "type": "string"
         },
         {
          "constraints": null,
          "description": null,
          "example": null,
          "format": null,
          "name": "idx (price)",
          "rdfType": null,
          "title": null,
          "type": "number"
         }
        ],
        "foreignKeys": null,
        "missingValues": null,
        "primaryKey": null
       },
       "sources": null,
       "title": null
      },
      "text/html": [
       "<table><thead><tr><th>Variable</th><th>idx (price)</th></tr></thead><tbody><tr><td>enginesize</td><td>0.8741448025245117</td></tr><tr><td>curbweight</td><td>0.8353048793372955</td></tr><tr><td>horsepower</td><td>0.8081388225362217</td></tr><tr><td>carwidth</td><td>0.7593252997414263</td></tr><tr><td>carlength</td><td>0.6829200156779843</td></tr><tr><td>wheelbase</td><td>0.5778155982921477</td></tr><tr><td>boreratio</td><td>0.5531732367984261</td></tr><tr><td>carheight</td><td>0.11933622657047727</td></tr><tr><td>stroke</td><td>0.07944308388192935</td></tr><tr><td>compressionratio</td><td>0.06798350579944248</td></tr><tr><td>peakrpm</td><td>-0.0852671502778569</td></tr><tr><td>citympg</td><td>-0.6857513360270401</td></tr><tr><td>highwaympg</td><td>-0.6975990916465564</td></tr></tbody></table>"
      ]
     },
     "execution_count": 16,
     "metadata": {},
     "output_type": "execute_result"
    }
   ],
   "source": [
    "// we select pearon's idx from dataframe for all numeric cols, \n",
    "// then we transpose result so that columns become rows, \n",
    "// then we sort by the idx column\n",
    "df.select(\n",
    "    ...numericColumns.map((col) => pl.pearsonCorr(col, 'price'))\n",
    ")\n",
    "    .transpose({\n",
    "        columnNames: [\"idx (price)\"],\n",
    "        headerName: \"Variable\",\n",
    "        includeHeader: true\n",
    "    })\n",
    "    .sort('idx (price)', true)"
   ]
  },
  {
   "cell_type": "markdown",
   "id": "63bc6b92-5ab9-43e0-a957-57d895bc60f9",
   "metadata": {
    "editable": true,
    "slideshow": {
     "slide_type": ""
    },
    "tags": []
   },
   "source": [
    "### Linearity Assumption\n",
    "\n",
    "Linear regression needs the relationship between independent variable and the dependent variable to be linear. We can test this assumption with some scatter plots and regression lines.\n",
    "\n",
    "** Here we use the same side-by-side plot shortcut, but for selected varisbles with high correlation coefficent.\n"
   ]
  },
  {
   "cell_type": "code",
   "execution_count": 17,
   "id": "2d5a635a-c819-4989-9818-a1927363993d",
   "metadata": {},
   "outputs": [
    {
     "data": {
      "text/html": [
       "\n",
       "          <section style=\"display:grid;grid-template-columns: repeat(2, 1fr);\">\n",
       "              <img src='data:image/svg+xml;base64,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'><img src='data:image/svg+xml;base64,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'><img src='data:image/svg+xml;base64,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'><img src='data:image/svg+xml;base64,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'>\n",
       "          </section>\n",
       "    "
      ]
     },
     "execution_count": 17,
     "metadata": {},
     "output_type": "execute_result"
    }
   ],
   "source": [
    "const plt = sideBySidePlot({\n",
    "    x: ['enginesize', 'curbweight', 'horsepower', 'carwidth'],\n",
    "    y: ['price'],\n",
    "    marks: [\n",
    "        (x, y) => Plot.dot(records, {x, y}),\n",
    "        (x, y) => Plot.linearRegressionY(records, {x, y, stroke: \"red\"}),\n",
    "    ],\n",
    "    cols: 2\n",
    "})\n",
    "\n",
    "await display(\n",
    "    plt,\n",
    ");"
   ]
  },
  {
   "cell_type": "markdown",
   "id": "0a351f17-309b-444b-b4a8-26500b077e47",
   "metadata": {
    "editable": true,
    "slideshow": {
     "slide_type": ""
    },
    "tags": []
   },
   "source": [
    "### Homoscedasticity\n",
    "\n",
    "The assumption of homoscedasticity (constant variance), is crucial to linear regression models. Homoscedasticity describes a situation in which the error term or variance or the \"noise\" or random disturbance in the relationship between the independent variables and the dependent variable is the same across all values of the independent variable. In other words, there is a constant variance present in the response variable as the predictor variable increases. If the \"noise\" is not the same across the values of an independent variable, we call it heteroscedasticity, opposite of homoscedasticity. \n",
    "\n",
    "#### Residuals\n",
    "\n",
    "Next we apply residual expression to 'price' and 'enginesize' varibles in order to check this assumption.\n",
    "[The residuals function](https://l12.xyz/x/shortcuts/src/branch/main/expr.ts) uses mean squared."
   ]
  },
  {
   "cell_type": "code",
   "execution_count": 18,
   "id": "fc9a31c3-6ac0-4058-b5bb-341eb1c40dd1",
   "metadata": {
    "editable": true,
    "slideshow": {
     "slide_type": ""
    },
    "tags": []
   },
   "outputs": [
    {
     "data": {
      "image/svg+xml": [
       "<svg viewBox=\"0 0 640 400\" height=\"400\" width=\"640\" text-anchor=\"middle\" font-size=\"10\" font-family=\"system-ui, sans-serif\" fill=\"currentColor\" class=\"plot-d6a7b5\"><style>:where(.plot-d6a7b5) {\n",
       "  --plot-background: white;\n",
       "  display: block;\n",
       "  height: auto;\n",
       "  height: intrinsic;\n",
       "  max-width: 100%;\n",
       "}\n",
       ":where(.plot-d6a7b5 text),\n",
       ":where(.plot-d6a7b5 tspan) {\n",
       "  white-space: pre;\n",
       "}</style><g stroke=\"currentColor\" fill=\"none\" aria-hidden=\"true\" aria-label=\"y-axis tick\"><path d=\"M0,0L-6,0\" transform=\"translate(40,360.676690955552)\" /><path d=\"M0,0L-6,0\" transform=\"translate(40,332.6045058220467)\" /><path d=\"M0,0L-6,0\" transform=\"translate(40,304.5323206885414)\" /><path d=\"M0,0L-6,0\" transform=\"translate(40,276.4601355550362)\" /><path d=\"M0,0L-6,0\" transform=\"translate(40,248.3879504215309)\" /><path d=\"M0,0L-6,0\" transform=\"translate(40,220.31576528802563)\" /><path d=\"M0,0L-6,0\" transform=\"translate(40,192.24358015452034)\" /><path d=\"M0,0L-6,0\" transform=\"translate(40,164.17139502101506)\" /><path d=\"M0,0L-6,0\" transform=\"translate(40,136.0992098875098)\" /><path d=\"M0,0L-6,0\" transform=\"translate(40,108.02702475400451)\" /><path d=\"M0,0L-6,0\" transform=\"translate(40,79.95483962049926)\" /><path d=\"M0,0L-6,0\" transform=\"translate(40,51.882654486993985)\" /><path d=\"M0,0L-6,0\" transform=\"translate(40,23.810469353488706)\" /></g><g transform=\"translate(-9,0)\" font-variant=\"tabular-nums\" text-anchor=\"end\" aria-label=\"y-axis tick label\"><text transform=\"translate(40,360.676690955552)\" y=\"0.32em\">−10,000</text><text transform=\"translate(40,332.6045058220467)\" y=\"0.32em\">−8,000</text><text transform=\"translate(40,304.5323206885414)\" y=\"0.32em\">−6,000</text><text transform=\"translate(40,276.4601355550362)\" y=\"0.32em\">−4,000</text><text transform=\"translate(40,248.3879504215309)\" y=\"0.32em\">−2,000</text><text transform=\"translate(40,220.31576528802563)\" y=\"0.32em\">0</text><text transform=\"translate(40,192.24358015452034)\" y=\"0.32em\">2,000</text><text transform=\"translate(40,164.17139502101506)\" y=\"0.32em\">4,000</text><text transform=\"translate(40,136.0992098875098)\" y=\"0.32em\">6,000</text><text transform=\"translate(40,108.02702475400451)\" y=\"0.32em\">8,000</text><text transform=\"translate(40,79.95483962049926)\" y=\"0.32em\">10,000</text><text transform=\"translate(40,51.882654486993985)\" y=\"0.32em\">12,000</text><text transform=\"translate(40,23.810469353488706)\" y=\"0.32em\">14,000</text></g><g transform=\"translate(-37,-17)\" text-anchor=\"start\" aria-label=\"y-axis label\"><text transform=\"translate(40,20)\" y=\"0.71em\">↑ price</text></g><g stroke=\"currentColor\" fill=\"none\" aria-hidden=\"true\" aria-label=\"x-axis tick\"><path d=\"M0,0L0,6\" transform=\"translate(125.35849056603774,370)\" /><path d=\"M0,0L0,6\" transform=\"translate(234.79245283018867,370)\" /><path d=\"M0,0L0,6\" transform=\"translate(344.22641509433964,370)\" /><path d=\"M0,0L0,6\" transform=\"translate(453.6603773584905,370)\" /><path d=\"M0,0L0,6\" transform=\"translate(563.0943396226415,370)\" /></g><g transform=\"translate(0,9)\" font-variant=\"tabular-nums\" aria-label=\"x-axis tick label\"><text transform=\"translate(125.35849056603774,370)\" y=\"0.71em\">100</text><text transform=\"translate(234.79245283018867,370)\" y=\"0.71em\">150</text><text transform=\"translate(344.22641509433964,370)\" y=\"0.71em\">200</text><text transform=\"translate(453.6603773584905,370)\" y=\"0.71em\">250</text><text transform=\"translate(563.0943396226415,370)\" y=\"0.71em\">300</text></g><g transform=\"translate(17,27)\" text-anchor=\"end\" aria-label=\"x-axis label\"><text transform=\"translate(620,370)\">enginesize →</text></g><g stroke-width=\"1.5\" stroke=\"currentColor\" fill=\"none\" aria-label=\"dot\"><circle r=\"3\" cy=\"224.53148603945945\" cx=\"191.0188679245283\" /><circle r=\"3\" cy=\"182.35302787636778\" cx=\"191.0188679245283\" /><circle r=\"3\" cy=\"234.13729878380033\" cx=\"239.16981132075472\" /><circle r=\"3\" cy=\"168.7146235099468\" cx=\"145.0566037735849\" /><circle r=\"3\" cy=\"183.14172291270714\" cx=\"204.1509433962264\" /><circle r=\"3\" cy=\"214.0211265595629\" cx=\"204.1509433962264\" /><circle r=\"3\" cy=\"179.49233884535147\" cx=\"204.1509433962264\" /><circle r=\"3\" cy=\"162.50866683958074\" cx=\"204.1509433962264\" /><circle r=\"3\" cy=\"81.19067569235949\" cx=\"193.20754716981133\" /><circle r=\"3\" cy=\"165.62946454648466\" cx=\"193.20754716981133\" /><circle r=\"3\" cy=\"131.55128344860788\" cx=\"142.86792452830187\" /><circle r=\"3\" cy=\"124.60341762806534\" cx=\"142.86792452830187\" /><circle r=\"3\" cy=\"199.64193095992476\" cx=\"265.433962264151\" /><circle r=\"3\" cy=\"197.74705846341314\" cx=\"265.433962264151\" /><circle r=\"3\" cy=\"149.182178182449\" cx=\"265.433962264151\" /><circle r=\"3\" cy=\"168.15095704207405\" cx=\"363.92452830188677\" /><circle r=\"3\" cy=\"20\" cx=\"363.92452830188677\" /><circle r=\"3\" cy=\"82.25007053354793\" cx=\"363.92452830188677\" /><circle r=\"3\" cy=\"179.23433820676848\" cx=\"40\" /><circle r=\"3\" cy=\"231.4381326883828\" cx=\"103.47169811320755\" /><circle r=\"3\" cy=\"227.50802676969204\" cx=\"103.47169811320755\" /><circle r=\"3\" cy=\"241.58622761414492\" cx=\"103.47169811320755\" /><circle r=\"3\" cy=\"230.2871730979091\" cx=\"103.47169811320755\" /><circle r=\"3\" cy=\"226.940790808779\" cx=\"120.98113207547169\" /><circle r=\"3\" cy=\"232.36451479778844\" cx=\"103.47169811320755\" /><circle r=\"3\" cy=\"225.86580393938198\" cx=\"103.47169811320755\" /><circle r=\"3\" cy=\"212.99470705566978\" cx=\"103.47169811320755\" /><circle r=\"3\" cy=\"218.5050991761607\" cx=\"120.98113207547169\" /><circle r=\"3\" cy=\"269.9019294734469\" cx=\"173.50943396226415\" /><circle r=\"3\" cy=\"293.1842440830073\" cx=\"247.92452830188677\" /><circle r=\"3\" cy=\"233.5631526476851\" cx=\"107.84905660377359\" /><circle r=\"3\" cy=\"228.28558184258608\" cx=\"107.84905660377359\" /><circle r=\"3\" cy=\"218.12233617447683\" cx=\"79.39622641509433\" /><circle r=\"3\" cy=\"232.86134801934747\" cx=\"107.84905660377359\" /><circle r=\"3\" cy=\"224.43969247929584\" cx=\"107.84905660377359\" /><circle r=\"3\" cy=\"222.10970111321492\" cx=\"107.84905660377359\" /><circle r=\"3\" cy=\"222.10970111321492\" cx=\"107.84905660377359\" /><circle r=\"3\" cy=\"256.0569944974264\" cx=\"147.24528301886792\" /><circle r=\"3\" cy=\"239.21368341732324\" cx=\"147.24528301886792\" /><circle r=\"3\" cy=\"242.72270655901139\" cx=\"147.24528301886792\" /><circle r=\"3\" cy=\"222.37037233722006\" cx=\"147.24528301886792\" /><circle r=\"3\" cy=\"185.1747270353256\" cx=\"147.24528301886792\" /><circle r=\"3\" cy=\"221.66856770888245\" cx=\"147.24528301886792\" /><circle r=\"3\" cy=\"273.9908877423142\" cx=\"149.43396226415095\" /><circle r=\"3\" cy=\"194.64251602464074\" cx=\"103.47169811320755\" /><circle r=\"3\" cy=\"194.64251602464074\" cx=\"103.47169811320755\" /><circle r=\"3\" cy=\"232.98566909658686\" cx=\"166.9433962264151\" /><circle r=\"3\" cy=\"262.5748734114398\" cx=\"471.16981132075466\" /><circle r=\"3\" cy=\"216.2557679411561\" cx=\"471.16981132075466\" /><circle r=\"3\" cy=\"370\" cx=\"620\" /><circle r=\"3\" cy=\"249.2316650076031\" cx=\"105.66037735849058\" /><circle r=\"3\" cy=\"236.59918169752572\" cx=\"105.66037735849058\" /><circle r=\"3\" cy=\"226.7739169007989\" cx=\"105.66037735849058\" /><circle r=\"3\" cy=\"228.17752615747415\" cx=\"105.66037735849058\" /><circle r=\"3\" cy=\"218.3522613607473\" cx=\"105.66037735849058\" /><circle r=\"3\" cy=\"119.09369233713522\" cx=\"59.698113207547166\" /><circle r=\"3\" cy=\"106.46120902705786\" cx=\"59.698113207547166\" /><circle r=\"3\" cy=\"81.19624240690311\" cx=\"59.698113207547166\" /><circle r=\"3\" cy=\"76.66236223132172\" cx=\"81.58490566037736\" /><circle r=\"3\" cy=\"270.96867250852006\" cx=\"173.50943396226415\" /><circle r=\"3\" cy=\"275.8813049068835\" cx=\"173.50943396226415\" /><circle r=\"3\" cy=\"246.40551051670298\" cx=\"173.50943396226415\" /><circle r=\"3\" cy=\"251.3181429150664\" cx=\"173.50943396226415\" /><circle r=\"3\" cy=\"243.59829200335244\" cx=\"173.50943396226415\" /><circle r=\"3\" cy=\"237.28205034831376\" cx=\"173.50943396226415\" /><circle r=\"3\" cy=\"180.90708806547198\" cx=\"212.9056603773585\" /><circle r=\"3\" cy=\"165.8857951664455\" cx=\"199.77358490566036\" /><circle r=\"3\" cy=\"180.05133423911963\" cx=\"307.0188679245283\" /><circle r=\"3\" cy=\"142.2100286791545\" cx=\"307.0188679245283\" /><circle r=\"3\" cy=\"143.22062734396067\" cx=\"307.0188679245283\" /><circle r=\"3\" cy=\"95.16104639539968\" cx=\"307.0188679245283\" /><circle r=\"3\" cy=\"178.9371384883228\" cx=\"418.64150943396226\" /><circle r=\"3\" cy=\"166.6976657701145\" cx=\"418.64150943396226\" /><circle r=\"3\" cy=\"258.01203194464387\" cx=\"580.6037735849056\" /><circle r=\"3\" cy=\"186.2764589650926\" cx=\"571.8490566037736\" /><circle r=\"3\" cy=\"205.84922455659142\" cx=\"212.9056603773585\" /><circle r=\"3\" cy=\"248.86249354544546\" cx=\"107.84905660377359\" /><circle r=\"3\" cy=\"237.63361949204335\" cx=\"107.84905660377359\" /><circle r=\"3\" cy=\"230.89629506000207\" cx=\"107.84905660377359\" /><circle r=\"3\" cy=\"230.70246361666875\" cx=\"120.98113207547169\" /><circle r=\"3\" cy=\"227.08649943964895\" cx=\"147.24528301886792\" /><circle r=\"3\" cy=\"275.82516053661647\" cx=\"173.50943396226415\" /><circle r=\"3\" cy=\"297.88633509286944\" cx=\"247.92452830188677\" /><circle r=\"3\" cy=\"266.44548774334345\" cx=\"247.92452830188677\" /><circle r=\"3\" cy=\"271.77920291870953\" cx=\"247.92452830188677\" /><circle r=\"3\" cy=\"297.019660312413\" cx=\"173.50943396226415\" /><circle r=\"3\" cy=\"280.1763492323098\" cx=\"173.50943396226415\" /><circle r=\"3\" cy=\"236.63104238504073\" cx=\"147.24528301886792\" /><circle r=\"3\" cy=\"236.63104238504073\" cx=\"147.24528301886792\" /><circle r=\"3\" cy=\"259.08767584206464\" cx=\"118.79245283018867\" /><circle r=\"3\" cy=\"250.75291071001476\" cx=\"131.92452830188677\" /><circle r=\"3\" cy=\"242.9461693902991\" cx=\"118.79245283018867\" /><circle r=\"3\" cy=\"240.1389508769486\" cx=\"118.79245283018867\" /><circle r=\"3\" cy=\"233.12090459357228\" cx=\"118.79245283018867\" /><circle r=\"3\" cy=\"233.8227092219099\" cx=\"118.79245283018867\" /><circle r=\"3\" cy=\"226.8046629385336\" cx=\"118.79245283018867\" /><circle r=\"3\" cy=\"231.01549070855938\" cx=\"118.79245283018867\" /><circle r=\"3\" cy=\"223.997444425183\" cx=\"118.79245283018867\" /><circle r=\"3\" cy=\"220.4884212834949\" cx=\"118.79245283018867\" /><circle r=\"3\" cy=\"264.801257889993\" cx=\"169.13207547169813\" /><circle r=\"3\" cy=\"256.3796023499415\" cx=\"169.13207547169813\" /><circle r=\"3\" cy=\"344.5206969546044\" cx=\"302.6415094339623\" /><circle r=\"3\" cy=\"331.888213644527\" cx=\"302.6415094339623\" /><circle r=\"3\" cy=\"344.5206969546044\" cx=\"302.6415094339623\" /><circle r=\"3\" cy=\"292.5871544576196\" cx=\"302.6415094339623\" /><circle r=\"3\" cy=\"257.496923040738\" cx=\"302.6415094339623\" /><circle r=\"3\" cy=\"275.7438433775165\" cx=\"302.6415094339623\" /><circle r=\"3\" cy=\"223.38074872550598\" cx=\"169.13207547169813\" /><circle r=\"3\" cy=\"280.4564042540841\" cx=\"239.16981132075472\" /><circle r=\"3\" cy=\"215.80125873945954\" cx=\"169.13207547169813\" /><circle r=\"3\" cy=\"271.1925831600273\" cx=\"239.16981132075472\" /><circle r=\"3\" cy=\"171.7279280798563\" cx=\"169.13207547169813\" /><circle r=\"3\" cy=\"228.5228617570993\" cx=\"239.16981132075472\" /><circle r=\"3\" cy=\"156.07768486792708\" cx=\"169.13207547169813\" /><circle r=\"3\" cy=\"226.06654555791764\" cx=\"239.16981132075472\" /><circle r=\"3\" cy=\"156.990030884766\" cx=\"169.13207547169813\" /><circle r=\"3\" cy=\"213.784964562009\" cx=\"239.16981132075472\" /><circle r=\"3\" cy=\"168.6087971243955\" cx=\"199.77358490566036\" /><circle r=\"3\" cy=\"241.58622761414492\" cx=\"103.47169811320755\" /><circle r=\"3\" cy=\"226.940790808779\" cx=\"120.98113207547169\" /><circle r=\"3\" cy=\"232.36451479778844\" cx=\"103.47169811320755\" /><circle r=\"3\" cy=\"225.86580393938198\" cx=\"103.47169811320755\" /><circle r=\"3\" cy=\"231.82535102200896\" cx=\"120.98113207547169\" /><circle r=\"3\" cy=\"269.9019294734469\" cx=\"173.50943396226415\" /><circle r=\"3\" cy=\"295.99146259635774\" cx=\"247.92452830188677\" /><circle r=\"3\" cy=\"154.33230950466694\" cx=\"236.9811320754717\" /><circle r=\"3\" cy=\"108.02768794716955\" cx=\"331.0943396226415\" /><circle r=\"3\" cy=\"86.97354909704056\" cx=\"331.0943396226415\" /><circle r=\"3\" cy=\"44.865271396782674\" cx=\"331.0943396226415\" /><circle r=\"3\" cy=\"145.03785677831465\" cx=\"350.7924528301887\" /><circle r=\"3\" cy=\"288.19073581140526\" cx=\"195.39622641509436\" /><circle r=\"3\" cy=\"279.7690802713537\" cx=\"195.39622641509436\" /><circle r=\"3\" cy=\"226.436383849636\" cx=\"171.32075471698116\" /><circle r=\"3\" cy=\"221.94483422827514\" cx=\"171.32075471698116\" /><circle r=\"3\" cy=\"181.6612485616951\" cx=\"171.32075471698116\" /><circle r=\"3\" cy=\"175.06428505532136\" cx=\"171.32075471698116\" /><circle r=\"3\" cy=\"138.00900067909438\" cx=\"171.32075471698116\" /><circle r=\"3\" cy=\"131.41203717272066\" cx=\"171.32075471698116\" /><circle r=\"3\" cy=\"264.43542710999736\" cx=\"118.79245283018867\" /><circle r=\"3\" cy=\"263.1677234470473\" cx=\"142.86792452830187\" /><circle r=\"3\" cy=\"255.44787253533343\" cx=\"142.86792452830187\" /><circle r=\"3\" cy=\"262.1430886896744\" cx=\"142.86792452830187\" /><circle r=\"3\" cy=\"253.0336646138519\" cx=\"142.86792452830187\" /><circle r=\"3\" cy=\"222.36480235549743\" cx=\"142.86792452830187\" /><circle r=\"3\" cy=\"232.5690416515266\" cx=\"142.86792452830187\" /><circle r=\"3\" cy=\"204.1319181112857\" cx=\"142.86792452830187\" /><circle r=\"3\" cy=\"257.41292549467875\" cx=\"142.86792452830187\" /><circle r=\"3\" cy=\"219.02421232461032\" cx=\"142.86792452830187\" /><circle r=\"3\" cy=\"249.69307458296478\" cx=\"142.86792452830187\" /><circle r=\"3\" cy=\"198.02621784474837\" cx=\"142.86792452830187\" /><circle r=\"3\" cy=\"249.4379733406823\" cx=\"107.84905660377359\" /><circle r=\"3\" cy=\"235.54224169959718\" cx=\"107.84905660377359\" /><circle r=\"3\" cy=\"233.43682781458432\" cx=\"107.84905660377359\" /><circle r=\"3\" cy=\"227.40130801088065\" cx=\"107.84905660377359\" /><circle r=\"3\" cy=\"213.64593729546309\" cx=\"107.84905660377359\" /><circle r=\"3\" cy=\"201.29417583672077\" cx=\"107.84905660377359\" /><circle r=\"3\" cy=\"241.24356913429997\" cx=\"120.98113207547169\" /><circle r=\"3\" cy=\"237.59418506694428\" cx=\"120.98113207547169\" /><circle r=\"3\" cy=\"256.0148862197261\" cx=\"147.24528301886792\" /><circle r=\"3\" cy=\"257.5588564020689\" cx=\"147.24528301886792\" /><circle r=\"3\" cy=\"230.01469508089787\" cx=\"120.98113207547169\" /><circle r=\"3\" cy=\"221.3123176895112\" cx=\"120.98113207547169\" /><circle r=\"3\" cy=\"208.67983437943386\" cx=\"120.98113207547169\" /><circle r=\"3\" cy=\"225.52314545953698\" cx=\"120.98113207547169\" /><circle r=\"3\" cy=\"222.99664879752154\" cx=\"120.98113207547169\" /><circle r=\"3\" cy=\"208.1183906767637\" cx=\"120.98113207547169\" /><circle r=\"3\" cy=\"204.7497284607431\" cx=\"120.98113207547169\" /><circle r=\"3\" cy=\"333.0188970639715\" cx=\"226.0377358490566\" /><circle r=\"3\" cy=\"316.31594690953585\" cx=\"226.0377358490566\" /><circle r=\"3\" cy=\"311.4033145111724\" cx=\"226.0377358490566\" /><circle r=\"3\" cy=\"294.4196425054018\" cx=\"226.0377358490566\" /><circle r=\"3\" cy=\"289.50701010703835\" cx=\"226.0377358490566\" /><circle r=\"3\" cy=\"203.60612359851223\" cx=\"226.0377358490566\" /><circle r=\"3\" cy=\"269.5229549741445\" cx=\"173.50943396226415\" /><circle r=\"3\" cy=\"216.71382703281878\" cx=\"147.24528301886792\" /><circle r=\"3\" cy=\"254.9254187047218\" cx=\"173.50943396226415\" /><circle r=\"3\" cy=\"242.15257446897692\" cx=\"173.50943396226415\" /><circle r=\"3\" cy=\"237.2399420706135\" cx=\"173.50943396226415\" /><circle r=\"3\" cy=\"278.04598483498415\" cx=\"280.7547169811321\" /><circle r=\"3\" cy=\"285.9061966723656\" cx=\"280.7547169811321\" /><circle r=\"3\" cy=\"290.22931318292547\" cx=\"280.7547169811321\" /><circle r=\"3\" cy=\"265.8488426709964\" cx=\"258.8679245283019\" /><circle r=\"3\" cy=\"227.14152916013566\" cx=\"118.79245283018867\" /><circle r=\"3\" cy=\"252.5802765962938\" cx=\"145.0566037735849\" /><circle r=\"3\" cy=\"224.05358879545005\" cx=\"118.79245283018867\" /><circle r=\"3\" cy=\"249.4923362316082\" cx=\"145.0566037735849\" /><circle r=\"3\" cy=\"245.2815084615824\" cx=\"145.0566037735849\" /><circle r=\"3\" cy=\"202.99944994532106\" cx=\"118.79245283018867\" /><circle r=\"3\" cy=\"224.22736961145347\" cx=\"145.0566037735849\" /><circle r=\"3\" cy=\"201.76962150464925\" cx=\"145.0566037735849\" /><circle r=\"3\" cy=\"224.4379109999548\" cx=\"145.0566037735849\" /><circle r=\"3\" cy=\"241.46168752756432\" cx=\"204.1509433962264\" /><circle r=\"3\" cy=\"141.94244727994715\" cx=\"118.79245283018867\" /><circle r=\"3\" cy=\"192.01453717075617\" cx=\"145.0566037735849\" /><circle r=\"3\" cy=\"258.21365286772345\" cx=\"215.0943396226415\" /><circle r=\"3\" cy=\"251.54650889851598\" cx=\"215.0943396226415\" /><circle r=\"3\" cy=\"215.4737510019617\" cx=\"215.0943396226415\" /><circle r=\"3\" cy=\"208.03462194158277\" cx=\"215.0943396226415\" /><circle r=\"3\" cy=\"155.40373014820273\" cx=\"191.0188679245283\" /><circle r=\"3\" cy=\"147.96460108782384\" cx=\"191.0188679245283\" /><circle r=\"3\" cy=\"203.4027113945544\" cx=\"215.0943396226415\" /><circle r=\"3\" cy=\"172.52330774769862\" cx=\"215.0943396226415\" /><circle r=\"3\" cy=\"213.5978177501787\" cx=\"285.1320754716981\" /><circle r=\"3\" cy=\"133.86501268974038\" cx=\"223.84905660377356\" /><circle r=\"3\" cy=\"122.27409635872414\" cx=\"215.0943396226415\" /></g><g stroke=\"#ccc\" aria-label=\"rule\"><line y2=\"220.31576528802563\" y1=\"220.31576528802563\" x2=\"620\" x1=\"40\" /></g></svg>"
      ]
     },
     "execution_count": 18,
     "metadata": {},
     "output_type": "execute_result"
    }
   ],
   "source": [
    "import { residuals } from 'https://l12.xyz/x/shortcuts/raw/expr.ts'\n",
    "\n",
    "let residualDf = df.select(\n",
    "    'enginesize', \n",
    "    residuals(pl.col('enginesize'), pl.col('price'))\n",
    ")\n",
    "\n",
    "let residPlot = Plot.plot({\n",
    "    x: \"enginesize\", \n",
    "    y: \"price\",\n",
    "    marks: [\n",
    "        Plot.dot(residualDf.toRecords(), { x: \"enginesize\", y: \"price\"}),\n",
    "        Plot.ruleY([0], {stroke: '#ccc'})\n",
    "    ],\n",
    "    document\n",
    "})\n",
    "\n",
    "await display(residPlot)\n"
   ]
  },
  {
   "cell_type": "markdown",
   "id": "29a0ec4e-084c-4af6-9af6-a14ae5cee4e7",
   "metadata": {
    "editable": true,
    "slideshow": {
     "slide_type": ""
    },
    "tags": []
   },
   "source": [
    "From the above plot, we can tell the error variance across the true line is dispersed somewhat not uniformly, but in a funnel like shape. So, the assumption of the *homoscedasticity* is more likely not met.\n"
   ]
  },
  {
   "cell_type": "markdown",
   "id": "33d787f3-2a7b-421c-9d9b-a86719a92f9a",
   "metadata": {
    "editable": true,
    "slideshow": {
     "slide_type": ""
    },
    "tags": []
   },
   "source": [
    "## Normality\n",
    "\n",
    "The linear regression analysis requires the dependent variable, 'price', to be normally distributed. A histogram, box plot, or a Q-Q-Plot can check if the target variable is normally distributed. The goodness of fit test, e.g., the Kolmogorov-Smirnov test can check for normality in the dependent variable. [This documentation](https://towardsdatascience.com/normality-tests-in-python-31e04aa4f411) contains more information on the normality assumption. \n",
    "\n",
    "Let's display all three charts to show how our target variable, 'price' behaves."
   ]
  },
  {
   "cell_type": "code",
   "execution_count": 19,
   "id": "b94d0d8d-ae95-41f5-b17f-0ab9b3aa27ec",
   "metadata": {
    "editable": true,
    "slideshow": {
     "slide_type": ""
    },
    "tags": []
   },
   "outputs": [
    {
     "data": {
      "text/html": [
       "\n",
       "      <section style=\"display:flex;flex-direction: column; gap: 1em;\">\n",
       "        <div style=\"gap:0.5em; display:flex; flex-direction: row; border: 1px solid black;\">\n",
       "            <img src=\"data:image/svg+xml;base64,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\" style=\"width: 100%;\">\n",
       "            <img src=\"data:image/svg+xml;base64,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\" style=\"width: 65%\">\n",
       "        </div>\n",
       "        <div style=\"padding:1em; border: 1px solid black;\">\n",
       "            <img src=\"data:image/svg+xml;base64,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\" style=\"width: 100%\">\n",
       "        </div>\n",
       "      </section>\n",
       "      "
      ]
     },
     "execution_count": 19,
     "metadata": {},
     "output_type": "execute_result"
    }
   ],
   "source": [
    "import { threeChart } from './plots.ts?15'\n",
    "\n",
    "await display(threeChart(records, \"price\"))"
   ]
  },
  {
   "cell_type": "markdown",
   "id": "81fe890e-56c4-4076-b57c-38fe438c0ead",
   "metadata": {
    "editable": true,
    "slideshow": {
     "slide_type": ""
    },
    "tags": []
   },
   "source": [
    "These three charts above can tell us a lot about our target variable:\n",
    "\n",
    "- Our target variable, 'price' is not normally distributed\n",
    "- Our target variable is right-skewed\n",
    "- There are some outliers in the variable\n",
    "\n",
    "The right-skewed plot means that most prices in the dataset are on the lower end (below 15,000). The 'max' value is very far from the '75%' quantile statistic. All these plots show that the assumption for accurate linear regression modeling is not met. \n",
    "\n",
    "Next, we will perform the log transformation to correct our target variable and to make it more normally distributed."
   ]
  },
  {
   "cell_type": "code",
   "execution_count": 20,
   "id": "20b0317a-5807-4f28-9008-8540e5ee056a",
   "metadata": {
    "editable": true,
    "slideshow": {
     "slide_type": ""
    },
    "tags": []
   },
   "outputs": [
    {
     "data": {
      "text/plain": [
       "\u001b[33m0.8006648595531076\u001b[39m"
      ]
     },
     "execution_count": 20,
     "metadata": {},
     "output_type": "execute_result"
    }
   ],
   "source": [
    "import {ShapiroWilkW} from \"./normality.ts?18\"\n",
    "\n",
    "ShapiroWilkW(df.price.sort())"
   ]
  },
  {
   "cell_type": "code",
   "execution_count": 21,
   "id": "8f8c6044-d3a1-4f8e-89ba-365fea3fbd8b",
   "metadata": {
    "editable": true,
    "slideshow": {
     "slide_type": ""
    },
    "tags": []
   },
   "outputs": [
    {
     "data": {
      "text/html": [
       "\n",
       "      <section style=\"display:flex;flex-direction: column; gap: 1em;\">\n",
       "        <div style=\"gap:0.5em; display:flex; flex-direction: row; border: 1px solid black;\">\n",
       "            <img src=\"data:image/svg+xml;base64,PHN2ZyB4bWxucz0iaHR0cDovL3d3dy53My5vcmcvMjAwMC9zdmciIHN0eWxlPSJiYWNrZ3JvdW5kLWNvbG9yOiNmZmYiIHZpZXdCb3g9IjAgMCA2NDAgNDUwIiBoZWlnaHQ9IjQ1MCIgd2lkdGg9IjY0MCIgdGV4dC1hbmNob3I9Im1pZGRsZSIgZm9udC1zaXplPSIxMCIgZm9udC1mYW1pbHk9InN5c3RlbS11aSwgc2Fucy1zZXJpZiIgZmlsbD0iY3VycmVudENvbG9yIiBjbGFzcz0icGxvdC1kNmE3YjUiPjxzdHlsZT46d2hlcmUoLnBsb3QtZDZhN2I1KSB7CiAgLS1wbG90LWJhY2tncm91bmQ6IHdoaXRlOwogIGRpc3BsYXk6IGJsb2NrOwogIGhlaWdodDogYXV0bzsKICBoZWlnaHQ6IGludHJpbnNpYzsKICBtYXgtd2lkdGg6IDEwMCU7Cn0KOndoZXJlKC5wbG90LWQ2YTdiNSB0ZXh0KSwKOndoZXJlKC5wbG90LWQ2YTdiNSB0c3BhbikgewogIHdoaXRlLXNwYWNlOiBwcmU7Cn08L3N0eWxlPjxnIHN0cm9rZS1vcGFjaXR5PSIwLjEiIHN0cm9rZT0iY3VycmVudENvbG9yIiBhcmlhLWhpZGRlbj0idHJ1ZSIgYXJpYS1sYWJlbD0ieS1ncmlkIj48bGluZSB5Mj0iNDAwIiB5MT0iNDAwIiB4Mj0iNTkwIiB4MT0iNTAiIC8+PGxpbmUgeTI9IjM2Ni42Mjc5MDY5NzY3NDQyIiB5MT0iMzY2LjYyNzkwNjk3Njc0NDIiIHgyPSI1OTAiIHgxPSI1MCIgLz48bGluZSB5Mj0iMzMzLjI1NTgxMzk1MzQ4ODM3IiB5MT0iMzMzLjI1NTgxMzk1MzQ4ODM3IiB4Mj0iNTkwIiB4MT0iNTAiIC8+PGxpbmUgeTI9IjI5OS44ODM3MjA5MzAyMzI1IiB5MT0iMjk5Ljg4MzcyMDkzMDIzMjUiIHgyPSI1OTAiIHgxPSI1MCIgLz48bGluZSB5Mj0iMjY2LjUxMTYyNzkwNjk3Njc0IiB5MT0iMjY2LjUxMTYyNzkwNjk3Njc0IiB4Mj0iNTkwIiB4MT0iNTAiIC8+PGxpbmUgeTI9IjIzMy4xMzk1MzQ4ODM3MjA5IiB5MT0iMjMzLjEzOTUzNDg4MzcyMDkiIHgyPSI1OTAiIHgxPSI1MCIgLz48bGluZSB5Mj0iMTk5Ljc2NzQ0MTg2MDQ2NTE0IiB5MT0iMTk5Ljc2NzQ0MTg2MDQ2NTE0IiB4Mj0iNTkwIiB4MT0iNTAiIC8+PGxpbmUgeTI9IjE2Ni4zOTUzNDg4MzcyMDkyNyIgeTE9IjE2Ni4zOTUzNDg4MzcyMDkyNyIgeDI9IjU5MCIgeDE9IjUwIiAvPjxsaW5lIHkyPSIxMzMuMDIzMjU1ODEzOTUzNDgiIHkxPSIxMzMuMDIzMjU1ODEzOTUzNDgiIHgyPSI1OTAiIHgxPSI1MCIgLz48bGluZSB5Mj0iOTkuNjUxMTYyNzkwNjk3NjciIHkxPSI5OS42NTExNjI3OTA2OTc2NyIgeDI9IjU5MCIgeDE9IjUwIiAvPjxsaW5lIHkyPSI2Ni4yNzkwNjk3Njc0NDE4MSIgeTE9IjY2LjI3OTA2OTc2NzQ0MTgxIiB4Mj0iNTkwIiB4MT0iNTAiIC8+PC9nPjxnIHN0cm9rZT0iY3VycmVudENvbG9yIiBmaWxsPSJub25lIiBhcmlhLWhpZGRlbj0idHJ1ZSIgYXJpYS1sYWJlbD0ieS1heGlzIHRpY2siPjxwYXRoIGQ9Ik0wLDBMLTYsMCIgdHJhbnNmb3JtPSJ0cmFuc2xhdGUoNTAsNDAwKSIgLz48cGF0aCBkPSJNMCwwTC02LDAiIHRyYW5zZm9ybT0idHJhbnNsYXRlKDUwLDM2Ni42Mjc5MDY5NzY3NDQyKSIgLz48cGF0aCBkPSJNMCwwTC02LDAiIHRyYW5zZm9ybT0idHJhbnNsYXRlKDUwLDMzMy4yNTU4MTM5NTM0ODgzNykiIC8+PHBhdGggZD0iTTAsMEwtNiwwIiB0cmFuc2Zvcm09InRyYW5zbGF0ZSg1MCwyOTkuODgzNzIwOTMwMjMyNSkiIC8+PHBhdGggZD0iTTAsMEwtNiwwIiB0cmFuc2Zvcm09InRyYW5zbGF0ZSg1MCwyNjYuNTExNjI3OTA2OTc2NzQpIiAvPjxwYXRoIGQ9Ik0wLDBMLTYsMCIgdHJhbnNmb3JtPSJ0cmFuc2xhdGUoNTAsMjMzLjEzOTUzNDg4MzcyMDkpIiAvPjxwYXRoIGQ9Ik0wLDBMLTYsMCIgdHJhbnNmb3JtPSJ0cmFuc2xhdGUoNTAsMTk5Ljc2NzQ0MTg2MDQ2NTE0KSIgLz48cGF0aCBkPSJNMCwwTC02LDAiIHRyYW5zZm9ybT0idHJhbnNsYXRlKDUwLDE2Ni4zOTUzNDg4MzcyMDkyNykiIC8+PHBhdGggZD0iTTAsMEwtNiwwIiB0cmFuc2Zvcm09InRyYW5zbGF0ZSg1MCwxMzMuMDIzMjU1ODEzOTUzNDgpIiAvPjxwYXRoIGQ9Ik0wLDBMLTYsMCIgdHJhbnNmb3JtPSJ0cmFuc2xhdGUoNTAsOTkuNjUxMTYyNzkwNjk3NjcpIiAvPjxwYXRoIGQ9Ik0wLDBMLTYsMCIgdHJhbnNmb3JtPSJ0cmFuc2xhdGUoNTAsNjYuMjc5MDY5NzY3NDQxODEpIiAvPjwvZz48ZyB0cmFuc2Zvcm09InRyYW5zbGF0ZSgtOSwwKSIgZm9udC12YXJpYW50PSJ0YWJ1bGFyLW51bXMiIHRleHQtYW5jaG9yPSJlbmQiIGFyaWEtbGFiZWw9InktYXhpcyB0aWNrIGxhYmVsIj48dGV4dCB0cmFuc2Zvcm09InRyYW5zbGF0ZSg1MCw0MDApIiB5PSIwLjMyZW0iPjAuMDA8L3RleHQ+PHRleHQgdHJhbnNmb3JtPSJ0cmFuc2xhdGUoNTAsMzY2LjYyNzkwNjk3Njc0NDIpIiB5PSIwLjMyZW0iPjAuMDI8L3RleHQ+PHRleHQgdHJhbnNmb3JtPSJ0cmFuc2xhdGUoNTAsMzMzLjI1NTgxMzk1MzQ4ODM3KSIgeT0iMC4zMmVtIj4wLjA0PC90ZXh0Pjx0ZXh0IHRyYW5zZm9ybT0idHJhbnNsYXRlKDUwLDI5OS44ODM3MjA5MzAyMzI1KSIgeT0iMC4zMmVtIj4wLjA2PC90ZXh0Pjx0ZXh0IHRyYW5zZm9ybT0idHJhbnNsYXRlKDUwLDI2Ni41MTE2Mjc5MDY5NzY3NCkiIHk9IjAuMzJlbSI+MC4wODwvdGV4dD48dGV4dCB0cmFuc2Zvcm09InRyYW5zbGF0ZSg1MCwyMzMuMTM5NTM0ODgzNzIwOSkiIHk9IjAuMzJlbSI+MC4xMDwvdGV4dD48dGV4dCB0cmFuc2Zvcm09InRyYW5zbGF0ZSg1MCwxOTkuNzY3NDQxODYwNDY1MTQpIiB5PSIwLjMyZW0iPjAuMTI8L3RleHQ+PHRleHQgdHJhbnNmb3JtPSJ0cmFuc2xhdGUoNTAsMTY2LjM5NTM0ODgzNzIwOTI3KSIgeT0iMC4zMmVtIj4wLjE0PC90ZXh0Pjx0ZXh0IHRyYW5zZm9ybT0idHJhbnNsYXRlKDUwLDEzMy4wMjMyNTU4MTM5NTM0OCkiIHk9IjAuMzJlbSI+MC4xNjwvdGV4dD48dGV4dCB0cmFuc2Zvcm09InRyYW5zbGF0ZSg1MCw5OS42NTExNjI3OTA2OTc2NykiIHk9IjAuMzJlbSI+MC4xODwvdGV4dD48dGV4dCB0cmFuc2Zvcm09InRyYW5zbGF0ZSg1MCw2Ni4yNzkwNjk3Njc0NDE4MSkiIHk9IjAuMzJlbSI+MC4yMDwvdGV4dD48L2c+PGcgdHJhbnNmb3JtPSJ0cmFuc2xhdGUoLTQ3LC00NykiIHRleHQtYW5jaG9yPSJzdGFydCIgYXJpYS1sYWJlbD0ieS1heGlzIGxhYmVsIj48dGV4dCB0cmFuc2Zvcm09InRyYW5zbGF0ZSg1MCw1MCkiIHk9IjAuNzFlbSI+4oaRIEZyZXF1ZW5jeTwvdGV4dD48L2c+PGcgc3Ryb2tlLW9wYWNpdHk9IjAuMSIgc3Ryb2tlPSJjdXJyZW50Q29sb3IiIGFyaWEtaGlkZGVuPSJ0cnVlIiBhcmlhLWxhYmVsPSJ4LWdyaWQiPjxsaW5lIHkyPSI0MDAiIHkxPSI1MCIgeDI9IjcyLjQ5OTk5OTk5OTk5OTkxIiB4MT0iNzIuNDk5OTk5OTk5OTk5OTEiIC8+PGxpbmUgeTI9IjQwMCIgeTE9IjUwIiB4Mj0iMTg0Ljk5OTk5OTk5OTk5OTkiIHgxPSIxODQuOTk5OTk5OTk5OTk5OSIgLz48bGluZSB5Mj0iNDAwIiB5MT0iNTAiIHgyPSIyOTcuNDk5OTk5OTk5OTk5OSIgeDE9IjI5Ny40OTk5OTk5OTk5OTk5IiAvPjxsaW5lIHkyPSI0MDAiIHkxPSI1MCIgeDI9IjQwOS45OTk5OTk5OTk5OTk5IiB4MT0iNDA5Ljk5OTk5OTk5OTk5OTkiIC8+PGxpbmUgeTI9IjQwMCIgeTE9IjUwIiB4Mj0iNTIyLjQ5OTk5OTk5OTk5OTkiIHgxPSI1MjIuNDk5OTk5OTk5OTk5OSIgLz48L2c+PGcgc3Ryb2tlPSJjdXJyZW50Q29sb3IiIGZpbGw9Im5vbmUiIGFyaWEtaGlkZGVuPSJ0cnVlIiBhcmlhLWxhYmVsPSJ4LWF4aXMgdGljayI+PHBhdGggZD0iTTAsMEwwLDYiIHRyYW5zZm9ybT0idHJhbnNsYXRlKDcyLjQ5OTk5OTk5OTk5OTkxLDQwMCkiIC8+PHBhdGggZD0iTTAsMEwwLDYiIHRyYW5zZm9ybT0idHJhbnNsYXRlKDE4NC45OTk5OTk5OTk5OTk5LDQwMCkiIC8+PHBhdGggZD0iTTAsMEwwLDYiIHRyYW5zZm9ybT0idHJhbnNsYXRlKDI5Ny40OTk5OTk5OTk5OTk5LDQwMCkiIC8+PHBhdGggZD0iTTAsMEwwLDYiIHRyYW5zZm9ybT0idHJhbnNsYXRlKDQwOS45OTk5OTk5OTk5OTk5LDQwMCkiIC8+PHBhdGggZD0iTTAsMEwwLDYiIHRyYW5zZm9ybT0idHJhbnNsYXRlKDUyMi40OTk5OTk5OTk5OTk5LDQwMCkiIC8+PC9nPjxnIHRyYW5zZm9ybT0idHJhbnNsYXRlKDAsOSkiIGZvbnQtdmFyaWFudD0idGFidWxhci1udW1zIiBhcmlhLWxhYmVsPSJ4LWF4aXMgdGljayBsYWJlbCI+PHRleHQgdHJhbnNmb3JtPSJ0cmFuc2xhdGUoNzIuNDk5OTk5OTk5OTk5OTEsNDAwKSIgeT0iMC43MWVtIj44LjU8L3RleHQ+PHRleHQgdHJhbnNmb3JtPSJ0cmFuc2xhdGUoMTg0Ljk5OTk5OTk5OTk5OTksNDAwKSIgeT0iMC43MWVtIj45LjA8L3RleHQ+PHRleHQgdHJhbnNmb3JtPSJ0cmFuc2xhdGUoMjk3LjQ5OTk5OTk5OTk5OTksNDAwKSIgeT0iMC43MWVtIj45LjU8L3RleHQ+PHRleHQgdHJhbnNmb3JtPSJ0cmFuc2xhdGUoNDA5Ljk5OTk5OTk5OTk5OTksNDAwKSIgeT0iMC43MWVtIj4xMC4wPC90ZXh0Pjx0ZXh0IHRyYW5zZm9ybT0idHJhbnNsYXRlKDUyMi40OTk5OTk5OTk5OTk5LDQwMCkiIHk9IjAuNzFlbSI+MTAuNTwvdGV4dD48L2c+PGcgdHJhbnNmb3JtPSJ0cmFuc2xhdGUoNDcsNDcpIiB0ZXh0LWFuY2hvcj0iZW5kIiBhcmlhLWxhYmVsPSJ4LWF4aXMgbGFiZWwiPjx0ZXh0IHRyYW5zZm9ybT0idHJhbnNsYXRlKDU5MCw0MDApIj5wcmljZSDihpI8L3RleHQ+PC9nPjxnIGFyaWEtbGFiZWw9InJlY3QiPjxyZWN0IGhlaWdodD0iNDguODM3MjA5MzAyMzI1NTYiIHdpZHRoPSI0My45OTk5OTk5OTk5OTk4MyIgeT0iMzUxLjE2Mjc5MDY5NzY3NDQ0IiB4PSI1MC41IiAvPjxyZWN0IGhlaWdodD0iMTEzLjk1MzQ4ODM3MjA5MzAzIiB3aWR0aD0iNDQuMDAwMDAwMDAwMDAwMjU2IiB5PSIyODYuMDQ2NTExNjI3OTA2OTciIHg9Ijk1LjQ5OTk5OTk5OTk5OTgzIiAvPjxyZWN0IGhlaWdodD0iMzUwIiB3aWR0aD0iNDMuOTk5OTk5OTk5OTk5OCIgeT0iNTAiIHg9IjE0MC41MDAwMDAwMDAwMDAwOSIgLz48cmVjdCBoZWlnaHQ9IjI1Mi4zMjU1ODEzOTUzNDg4OCIgd2lkdGg9IjQzLjk5OTk5OTk5OTk5OTgzIiB5PSIxNDcuNjc0NDE4NjA0NjUxMTIiIHg9IjE4NS40OTk5OTk5OTk5OTk5IiAvPjxyZWN0IGhlaWdodD0iMjExLjYyNzkwNjk3Njc0NDIiIHdpZHRoPSI0NC4wMDAwMDAwMDAwMDAyODQiIHk9IjE4OC4zNzIwOTMwMjMyNTU4IiB4PSIyMzAuNDk5OTk5OTk5OTk5NzIiIC8+PHJlY3QgaGVpZ2h0PSIxNjIuNzkwNjk3Njc0NDE4NjIiIHdpZHRoPSI0My45OTk5OTk5OTk5OTk3NyIgeT0iMjM3LjIwOTMwMjMyNTU4MTM4IiB4PSIyNzUuNSIgLz48cmVjdCBoZWlnaHQ9IjIyNy45MDY5NzY3NDQxODYwNyIgd2lkdGg9IjQ0LjAwMDAwMDAwMDAwMDIzIiB5PSIxNzIuMDkzMDIzMjU1ODEzOTMiIHg9IjMyMC40OTk5OTk5OTk5OTk4IiAvPjxyZWN0IGhlaWdodD0iMTIyLjA5MzAyMzI1NTgxMzkzIiB3aWR0aD0iNDMuOTk5OTk5OTk5OTk5ODg2IiB5PSIyNzcuOTA2OTc2NzQ0MTg2MDciIHg9IjM2NS41IiAvPjxyZWN0IGhlaWdodD0iNDAuNjk3Njc0NDE4NjA0NjYiIHdpZHRoPSI0My45OTk5OTk5OTk5OTk3NyIgeT0iMzU5LjMwMjMyNTU4MTM5NTM0IiB4PSI0MTAuNDk5OTk5OTk5OTk5OSIgLz48cmVjdCBoZWlnaHQ9IjU2Ljk3Njc0NDE4NjA0NjUyIiB3aWR0aD0iNDQuMDAwMDAwMDAwMDAwMjg0IiB5PSIzNDMuMDIzMjU1ODEzOTUzNSIgeD0iNDU1LjQ5OTk5OTk5OTk5OTY2IiAvPjxyZWN0IGhlaWdodD0iNTYuOTc2NzQ0MTg2MDQ2NTIiIHdpZHRoPSI0My45OTk5OTk5OTk5OTk4MyIgeT0iMzQzLjAyMzI1NTgxMzk1MzUiIHg9IjUwMC40OTk5OTk5OTk5OTk5NCIgLz48cmVjdCBoZWlnaHQ9IjI0LjQxODYwNDY1MTE2MjgxIiB3aWR0aD0iNDQuMDAwMDAwMDAwMDAwMjMiIHk9IjM3NS41ODEzOTUzNDg4MzcyIiB4PSI1NDUuNDk5OTk5OTk5OTk5OCIgLz48L2c+PC9zdmc+\" style=\"width: 100%;\">\n",
       "            <img src=\"data:image/svg+xml;base64,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\" style=\"width: 65%\">\n",
       "        </div>\n",
       "        <div style=\"padding:1em; border: 1px solid black;\">\n",
       "            <img src=\"data:image/svg+xml;base64,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\" style=\"width: 100%\">\n",
       "        </div>\n",
       "      </section>\n",
       "      "
      ]
     },
     "execution_count": 21,
     "metadata": {},
     "output_type": "execute_result"
    }
   ],
   "source": [
    "let log2df = df.select(pl.col(\"price\").log())\n",
    "\n",
    "await display(threeChart(log2df.toRecords(), \"price\"))"
   ]
  },
  {
   "cell_type": "code",
   "execution_count": 22,
   "id": "9bdeba3c-2eac-44bc-8601-8241c5bfe502",
   "metadata": {
    "editable": true,
    "slideshow": {
     "slide_type": ""
    },
    "tags": []
   },
   "outputs": [
    {
     "data": {
      "text/plain": [
       "\u001b[33m0.948674582545282\u001b[39m"
      ]
     },
     "execution_count": 22,
     "metadata": {},
     "output_type": "execute_result"
    }
   ],
   "source": [
    "ShapiroWilkW(log2df.price.sort())"
   ]
  },
  {
   "cell_type": "markdown",
   "id": "09a9d9c0-7fb6-4353-91f8-4899520b36d7",
   "metadata": {
    "editable": true,
    "slideshow": {
     "slide_type": ""
    },
    "tags": []
   },
   "source": [
    "## Data Encoding"
   ]
  },
  {
   "cell_type": "code",
   "execution_count": 23,
   "id": "79f05578-b839-4278-afb1-0123c1d32d17",
   "metadata": {
    "editable": true,
    "slideshow": {
     "slide_type": ""
    },
    "tags": []
   },
   "outputs": [
    {
     "data": {
      "application/vnd.dataresource+json": {
       "bytes": null,
       "data": [
        {
         "aspiration": "std",
         "boreratio": 3.47,
         "brand": "alfa-romero",
         "brand_category": "Mid_Range",
         "carbody": "convertible",
         "carheight": 48.8,
         "carlength": 168.8,
         "carwidth": 64.1,
         "citympg": 21,
         "compressionratio": 9,
         "curbweight": 2548,
         "cylindernumber": "four",
         "doornumber": "two",
         "drivewheel": "rwd",
         "enginelocation": "front",
         "enginesize": 130,
         "enginetype": "dohc",
         "fuelsystem": "mpfi",
         "fueltype": "gas",
         "highwaympg": 27,
         "horsepower": 111,
         "peakrpm": 5000,
         "price": 13495,
         "stroke": 2.68,
         "wheelbase": 88.6
        },
        {
         "aspiration": "std",
         "boreratio": 3.47,
         "brand": "alfa-romero",
         "brand_category": "Mid_Range",
         "carbody": "convertible",
         "carheight": 48.8,
         "carlength": 168.8,
         "carwidth": 64.1,
         "citympg": 21,
         "compressionratio": 9,
         "curbweight": 2548,
         "cylindernumber": "four",
         "doornumber": "two",
         "drivewheel": "rwd",
         "enginelocation": "front",
         "enginesize": 130,
         "enginetype": "dohc",
         "fuelsystem": "mpfi",
         "fueltype": "gas",
         "highwaympg": 27,
         "horsepower": 111,
         "peakrpm": 5000,
         "price": 16500,
         "stroke": 2.68,
         "wheelbase": 88.6
        },
        {
         "aspiration": "std",
         "boreratio": 2.68,
         "brand": "alfa-romero",
         "brand_category": "Mid_Range",
         "carbody": "hatchback",
         "carheight": 52.4,
         "carlength": 171.2,
         "carwidth": 65.5,
         "citympg": 19,
         "compressionratio": 9,
         "curbweight": 2823,
         "cylindernumber": "six",
         "doornumber": "two",
         "drivewheel": "rwd",
         "enginelocation": "front",
         "enginesize": 152,
         "enginetype": "ohcv",
         "fuelsystem": "mpfi",
         "fueltype": "gas",
         "highwaympg": 26,
         "horsepower": 154,
         "peakrpm": 5000,
         "price": 16500,
         "stroke": 3.47,
         "wheelbase": 94.5
        },
        {
         "aspiration": "std",
         "boreratio": 3.19,
         "brand": "audi",
         "brand_category": "Mid_Range",
         "carbody": "sedan",
         "carheight": 54.3,
         "carlength": 176.6,
         "carwidth": 66.2,
         "citympg": 24,
         "compressionratio": 10,
         "curbweight": 2337,
         "cylindernumber": "four",
         "doornumber": "four",
         "drivewheel": "fwd",
         "enginelocation": "front",
         "enginesize": 109,
         "enginetype": "ohc",
         "fuelsystem": "mpfi",
         "fueltype": "gas",
         "highwaympg": 30,
         "horsepower": 102,
         "peakrpm": 5500,
         "price": 13950,
         "stroke": 3.4,
         "wheelbase": 99.8
        },
        {
         "aspiration": "std",
         "boreratio": 3.19,
         "brand": "audi",
         "brand_category": "Mid_Range",
         "carbody": "sedan",
         "carheight": 54.3,
         "carlength": 176.6,
         "carwidth": 66.4,
         "citympg": 18,
         "compressionratio": 8,
         "curbweight": 2824,
         "cylindernumber": "five",
         "doornumber": "four",
         "drivewheel": "4wd",
         "enginelocation": "front",
         "enginesize": 136,
         "enginetype": "ohc",
         "fuelsystem": "mpfi",
         "fueltype": "gas",
         "highwaympg": 22,
         "horsepower": 115,
         "peakrpm": 5500,
         "price": 17450,
         "stroke": 3.4,
         "wheelbase": 99.4
        }
       ],
       "description": null,
       "dialect": null,
       "encoding": null,
       "format": null,
       "hash": null,
       "homepage": null,
       "licenses": null,
       "mediatype": null,
       "path": null,
       "schema": {
        "fields": [
         {
          "constraints": null,
          "description": null,
          "example": null,
          "format": null,
          "name": "brand_category",
          "rdfType": null,
          "title": null,
          "type": "string"
         },
         {
          "constraints": null,
          "description": null,
          "example": null,
          "format": null,
          "name": "brand",
          "rdfType": null,
          "title": null,
          "type": "string"
         },
         {
          "constraints": null,
          "description": null,
          "example": null,
          "format": null,
          "name": "fueltype",
          "rdfType": null,
          "title": null,
          "type": "string"
         },
         {
          "constraints": null,
          "description": null,
          "example": null,
          "format": null,
          "name": "aspiration",
          "rdfType": null,
          "title": null,
          "type": "string"
         },
         {
          "constraints": null,
          "description": null,
          "example": null,
          "format": null,
          "name": "doornumber",
          "rdfType": null,
          "title": null,
          "type": "string"
         },
         {
          "constraints": null,
          "description": null,
          "example": null,
          "format": null,
          "name": "carbody",
          "rdfType": null,
          "title": null,
          "type": "string"
         },
         {
          "constraints": null,
          "description": null,
          "example": null,
          "format": null,
          "name": "drivewheel",
          "rdfType": null,
          "title": null,
          "type": "string"
         },
         {
          "constraints": null,
          "description": null,
          "example": null,
          "format": null,
          "name": "enginelocation",
          "rdfType": null,
          "title": null,
          "type": "string"
         },
         {
          "constraints": null,
          "description": null,
          "example": null,
          "format": null,
          "name": "wheelbase",
          "rdfType": null,
          "title": null,
          "type": "number"
         },
         {
          "constraints": null,
          "description": null,
          "example": null,
          "format": null,
          "name": "carlength",
          "rdfType": null,
          "title": null,
          "type": "number"
         },
         {
          "constraints": null,
          "description": null,
          "example": null,
          "format": null,
          "name": "carwidth",
          "rdfType": null,
          "title": null,
          "type": "number"
         },
         {
          "constraints": null,
          "description": null,
          "example": null,
          "format": null,
          "name": "carheight",
          "rdfType": null,
          "title": null,
          "type": "number"
         },
         {
          "constraints": null,
          "description": null,
          "example": null,
          "format": null,
          "name": "curbweight",
          "rdfType": null,
          "title": null,
          "type": "integer"
         },
         {
          "constraints": null,
          "description": null,
          "example": null,
          "format": null,
          "name": "enginetype",
          "rdfType": null,
          "title": null,
          "type": "string"
         },
         {
          "constraints": null,
          "description": null,
          "example": null,
          "format": null,
          "name": "cylindernumber",
          "rdfType": null,
          "title": null,
          "type": "string"
         },
         {
          "constraints": null,
          "description": null,
          "example": null,
          "format": null,
          "name": "enginesize",
          "rdfType": null,
          "title": null,
          "type": "integer"
         },
         {
          "constraints": null,
          "description": null,
          "example": null,
          "format": null,
          "name": "fuelsystem",
          "rdfType": null,
          "title": null,
          "type": "string"
         },
         {
          "constraints": null,
          "description": null,
          "example": null,
          "format": null,
          "name": "boreratio",
          "rdfType": null,
          "title": null,
          "type": "number"
         },
         {
          "constraints": null,
          "description": null,
          "example": null,
          "format": null,
          "name": "stroke",
          "rdfType": null,
          "title": null,
          "type": "number"
         },
         {
          "constraints": null,
          "description": null,
          "example": null,
          "format": null,
          "name": "compressionratio",
          "rdfType": null,
          "title": null,
          "type": "number"
         },
         {
          "constraints": null,
          "description": null,
          "example": null,
          "format": null,
          "name": "horsepower",
          "rdfType": null,
          "title": null,
          "type": "integer"
         },
         {
          "constraints": null,
          "description": null,
          "example": null,
          "format": null,
          "name": "peakrpm",
          "rdfType": null,
          "title": null,
          "type": "integer"
         },
         {
          "constraints": null,
          "description": null,
          "example": null,
          "format": null,
          "name": "citympg",
          "rdfType": null,
          "title": null,
          "type": "integer"
         },
         {
          "constraints": null,
          "description": null,
          "example": null,
          "format": null,
          "name": "highwaympg",
          "rdfType": null,
          "title": null,
          "type": "integer"
         },
         {
          "constraints": null,
          "description": null,
          "example": null,
          "format": null,
          "name": "price",
          "rdfType": null,
          "title": null,
          "type": "number"
         }
        ],
        "foreignKeys": null,
        "missingValues": null,
        "primaryKey": null
       },
       "sources": null,
       "title": null
      },
      "text/html": [
       "<table><thead><tr><th>brand_category</th><th>brand</th><th>fueltype</th><th>aspiration</th><th>doornumber</th><th>carbody</th><th>drivewheel</th><th>enginelocation</th><th>wheelbase</th><th>carlength</th><th>carwidth</th><th>carheight</th><th>curbweight</th><th>enginetype</th><th>cylindernumber</th><th>enginesize</th><th>fuelsystem</th><th>boreratio</th><th>stroke</th><th>compressionratio</th><th>horsepower</th><th>peakrpm</th><th>citympg</th><th>highwaympg</th><th>price</th></tr></thead><tbody><tr><td>Mid_Range</td><td>alfa-romero</td><td>gas</td><td>std</td><td>two</td><td>convertible</td><td>rwd</td><td>front</td><td>88.6</td><td>168.8</td><td>64.1</td><td>48.8</td><td>2548</td><td>dohc</td><td>four</td><td>130</td><td>mpfi</td><td>3.47</td><td>2.68</td><td>9</td><td>111</td><td>5000</td><td>21</td><td>27</td><td>13495</td></tr><tr><td>Mid_Range</td><td>alfa-romero</td><td>gas</td><td>std</td><td>two</td><td>convertible</td><td>rwd</td><td>front</td><td>88.6</td><td>168.8</td><td>64.1</td><td>48.8</td><td>2548</td><td>dohc</td><td>four</td><td>130</td><td>mpfi</td><td>3.47</td><td>2.68</td><td>9</td><td>111</td><td>5000</td><td>21</td><td>27</td><td>16500</td></tr><tr><td>Mid_Range</td><td>alfa-romero</td><td>gas</td><td>std</td><td>two</td><td>hatchback</td><td>rwd</td><td>front</td><td>94.5</td><td>171.2</td><td>65.5</td><td>52.4</td><td>2823</td><td>ohcv</td><td>six</td><td>152</td><td>mpfi</td><td>2.68</td><td>3.47</td><td>9</td><td>154</td><td>5000</td><td>19</td><td>26</td><td>16500</td></tr><tr><td>Mid_Range</td><td>audi</td><td>gas</td><td>std</td><td>four</td><td>sedan</td><td>fwd</td><td>front</td><td>99.8</td><td>176.6</td><td>66.2</td><td>54.3</td><td>2337</td><td>ohc</td><td>four</td><td>109</td><td>mpfi</td><td>3.19</td><td>3.4</td><td>10</td><td>102</td><td>5500</td><td>24</td><td>30</td><td>13950</td></tr><tr><td>Mid_Range</td><td>audi</td><td>gas</td><td>std</td><td>four</td><td>sedan</td><td>4wd</td><td>front</td><td>99.4</td><td>176.6</td><td>66.4</td><td>54.3</td><td>2824</td><td>ohc</td><td>five</td><td>136</td><td>mpfi</td><td>3.19</td><td>3.4</td><td>8</td><td>115</td><td>5500</td><td>18</td><td>22</td><td>17450</td></tr></tbody></table>"
      ]
     },
     "execution_count": 23,
     "metadata": {},
     "output_type": "execute_result"
    }
   ],
   "source": [
    "let carData = pl.readCSV(\n",
    "    await Deno.readTextFile('assets/cleaned_car_prices.csv'),\n",
    "    { sep: \",\" }\n",
    ")\n",
    "\n",
    "carData.head(5)"
   ]
  },
  {
   "cell_type": "markdown",
   "id": "af6eb67c-574a-430a-a04c-24d0ef9f35fa",
   "metadata": {},
   "source": [
    "We'll drop some unnecessary columns:"
   ]
  },
  {
   "cell_type": "code",
   "execution_count": 24,
   "id": "e2df0c3f-dbc0-4820-b807-373ce3787645",
   "metadata": {
    "editable": true,
    "slideshow": {
     "slide_type": ""
    },
    "tags": []
   },
   "outputs": [
    {
     "data": {
      "application/vnd.dataresource+json": {
       "bytes": null,
       "data": [
        {
         "aspiration": "std",
         "boreratio": 3.47,
         "brand_category": "Mid_Range",
         "carheight": 48.8,
         "carlength": 168.8,
         "carwidth": 64.1,
         "citympg": 21,
         "curbweight": 2548,
         "cylindernumber": "four",
         "doornumber": "two",
         "drivewheel": "rwd",
         "enginesize": 130,
         "enginetype": "dohc",
         "fuelsystem": "mpfi",
         "fueltype": "gas",
         "highwaympg": 27,
         "horsepower": 111,
         "price": 13495,
         "wheelbase": 88.6
        },
        {
         "aspiration": "std",
         "boreratio": 3.47,
         "brand_category": "Mid_Range",
         "carheight": 48.8,
         "carlength": 168.8,
         "carwidth": 64.1,
         "citympg": 21,
         "curbweight": 2548,
         "cylindernumber": "four",
         "doornumber": "two",
         "drivewheel": "rwd",
         "enginesize": 130,
         "enginetype": "dohc",
         "fuelsystem": "mpfi",
         "fueltype": "gas",
         "highwaympg": 27,
         "horsepower": 111,
         "price": 16500,
         "wheelbase": 88.6
        },
        {
         "aspiration": "std",
         "boreratio": 2.68,
         "brand_category": "Mid_Range",
         "carheight": 52.4,
         "carlength": 171.2,
         "carwidth": 65.5,
         "citympg": 19,
         "curbweight": 2823,
         "cylindernumber": "six",
         "doornumber": "two",
         "drivewheel": "rwd",
         "enginesize": 152,
         "enginetype": "ohcv",
         "fuelsystem": "mpfi",
         "fueltype": "gas",
         "highwaympg": 26,
         "horsepower": 154,
         "price": 16500,
         "wheelbase": 94.5
        },
        {
         "aspiration": "std",
         "boreratio": 3.19,
         "brand_category": "Mid_Range",
         "carheight": 54.3,
         "carlength": 176.6,
         "carwidth": 66.2,
         "citympg": 24,
         "curbweight": 2337,
         "cylindernumber": "four",
         "doornumber": "four",
         "drivewheel": "fwd",
         "enginesize": 109,
         "enginetype": "ohc",
         "fuelsystem": "mpfi",
         "fueltype": "gas",
         "highwaympg": 30,
         "horsepower": 102,
         "price": 13950,
         "wheelbase": 99.8
        },
        {
         "aspiration": "std",
         "boreratio": 3.19,
         "brand_category": "Mid_Range",
         "carheight": 54.3,
         "carlength": 176.6,
         "carwidth": 66.4,
         "citympg": 18,
         "curbweight": 2824,
         "cylindernumber": "five",
         "doornumber": "four",
         "drivewheel": "4wd",
         "enginesize": 136,
         "enginetype": "ohc",
         "fuelsystem": "mpfi",
         "fueltype": "gas",
         "highwaympg": 22,
         "horsepower": 115,
         "price": 17450,
         "wheelbase": 99.4
        }
       ],
       "description": null,
       "dialect": null,
       "encoding": null,
       "format": null,
       "hash": null,
       "homepage": null,
       "licenses": null,
       "mediatype": null,
       "path": null,
       "schema": {
        "fields": [
         {
          "constraints": null,
          "description": null,
          "example": null,
          "format": null,
          "name": "brand_category",
          "rdfType": null,
          "title": null,
          "type": "string"
         },
         {
          "constraints": null,
          "description": null,
          "example": null,
          "format": null,
          "name": "fueltype",
          "rdfType": null,
          "title": null,
          "type": "string"
         },
         {
          "constraints": null,
          "description": null,
          "example": null,
          "format": null,
          "name": "aspiration",
          "rdfType": null,
          "title": null,
          "type": "string"
         },
         {
          "constraints": null,
          "description": null,
          "example": null,
          "format": null,
          "name": "doornumber",
          "rdfType": null,
          "title": null,
          "type": "string"
         },
         {
          "constraints": null,
          "description": null,
          "example": null,
          "format": null,
          "name": "drivewheel",
          "rdfType": null,
          "title": null,
          "type": "string"
         },
         {
          "constraints": null,
          "description": null,
          "example": null,
          "format": null,
          "name": "wheelbase",
          "rdfType": null,
          "title": null,
          "type": "number"
         },
         {
          "constraints": null,
          "description": null,
          "example": null,
          "format": null,
          "name": "carlength",
          "rdfType": null,
          "title": null,
          "type": "number"
         },
         {
          "constraints": null,
          "description": null,
          "example": null,
          "format": null,
          "name": "carwidth",
          "rdfType": null,
          "title": null,
          "type": "number"
         },
         {
          "constraints": null,
          "description": null,
          "example": null,
          "format": null,
          "name": "carheight",
          "rdfType": null,
          "title": null,
          "type": "number"
         },
         {
          "constraints": null,
          "description": null,
          "example": null,
          "format": null,
          "name": "curbweight",
          "rdfType": null,
          "title": null,
          "type": "integer"
         },
         {
          "constraints": null,
          "description": null,
          "example": null,
          "format": null,
          "name": "enginetype",
          "rdfType": null,
          "title": null,
          "type": "string"
         },
         {
          "constraints": null,
          "description": null,
          "example": null,
          "format": null,
          "name": "cylindernumber",
          "rdfType": null,
          "title": null,
          "type": "string"
         },
         {
          "constraints": null,
          "description": null,
          "example": null,
          "format": null,
          "name": "enginesize",
          "rdfType": null,
          "title": null,
          "type": "integer"
         },
         {
          "constraints": null,
          "description": null,
          "example": null,
          "format": null,
          "name": "fuelsystem",
          "rdfType": null,
          "title": null,
          "type": "string"
         },
         {
          "constraints": null,
          "description": null,
          "example": null,
          "format": null,
          "name": "boreratio",
          "rdfType": null,
          "title": null,
          "type": "number"
         },
         {
          "constraints": null,
          "description": null,
          "example": null,
          "format": null,
          "name": "horsepower",
          "rdfType": null,
          "title": null,
          "type": "integer"
         },
         {
          "constraints": null,
          "description": null,
          "example": null,
          "format": null,
          "name": "citympg",
          "rdfType": null,
          "title": null,
          "type": "integer"
         },
         {
          "constraints": null,
          "description": null,
          "example": null,
          "format": null,
          "name": "highwaympg",
          "rdfType": null,
          "title": null,
          "type": "integer"
         },
         {
          "constraints": null,
          "description": null,
          "example": null,
          "format": null,
          "name": "price",
          "rdfType": null,
          "title": null,
          "type": "number"
         }
        ],
        "foreignKeys": null,
        "missingValues": null,
        "primaryKey": null
       },
       "sources": null,
       "title": null
      },
      "text/html": [
       "<table><thead><tr><th>brand_category</th><th>fueltype</th><th>aspiration</th><th>doornumber</th><th>drivewheel</th><th>wheelbase</th><th>carlength</th><th>carwidth</th><th>carheight</th><th>curbweight</th><th>enginetype</th><th>cylindernumber</th><th>enginesize</th><th>fuelsystem</th><th>boreratio</th><th>horsepower</th><th>citympg</th><th>highwaympg</th><th>price</th></tr></thead><tbody><tr><td>Mid_Range</td><td>gas</td><td>std</td><td>two</td><td>rwd</td><td>88.6</td><td>168.8</td><td>64.1</td><td>48.8</td><td>2548</td><td>dohc</td><td>four</td><td>130</td><td>mpfi</td><td>3.47</td><td>111</td><td>21</td><td>27</td><td>13495</td></tr><tr><td>Mid_Range</td><td>gas</td><td>std</td><td>two</td><td>rwd</td><td>88.6</td><td>168.8</td><td>64.1</td><td>48.8</td><td>2548</td><td>dohc</td><td>four</td><td>130</td><td>mpfi</td><td>3.47</td><td>111</td><td>21</td><td>27</td><td>16500</td></tr><tr><td>Mid_Range</td><td>gas</td><td>std</td><td>two</td><td>rwd</td><td>94.5</td><td>171.2</td><td>65.5</td><td>52.4</td><td>2823</td><td>ohcv</td><td>six</td><td>152</td><td>mpfi</td><td>2.68</td><td>154</td><td>19</td><td>26</td><td>16500</td></tr><tr><td>Mid_Range</td><td>gas</td><td>std</td><td>four</td><td>fwd</td><td>99.8</td><td>176.6</td><td>66.2</td><td>54.3</td><td>2337</td><td>ohc</td><td>four</td><td>109</td><td>mpfi</td><td>3.19</td><td>102</td><td>24</td><td>30</td><td>13950</td></tr><tr><td>Mid_Range</td><td>gas</td><td>std</td><td>four</td><td>4wd</td><td>99.4</td><td>176.6</td><td>66.4</td><td>54.3</td><td>2824</td><td>ohc</td><td>five</td><td>136</td><td>mpfi</td><td>3.19</td><td>115</td><td>18</td><td>22</td><td>17450</td></tr></tbody></table>"
      ]
     },
     "execution_count": 24,
     "metadata": {},
     "output_type": "execute_result"
    }
   ],
   "source": [
    "let carDataGeneralized = carData.drop('brand', 'carbody', 'enginelocation', 'stroke', 'compressionratio', 'peakrpm')\n",
    "carDataGeneralized.head(5)"
   ]
  },
  {
   "cell_type": "markdown",
   "id": "826ab213-65a2-43d0-b9ce-fecdebd79eb8",
   "metadata": {
    "editable": true,
    "slideshow": {
     "slide_type": ""
    },
    "tags": []
   },
   "source": [
    "Next we use one hot (binary) encoding. We assume that all non-numeric colums are categorical."
   ]
  },
  {
   "cell_type": "code",
   "execution_count": 25,
   "id": "9bc95dd8-0240-45c6-a0f9-21b1873ae04b",
   "metadata": {
    "editable": true,
    "slideshow": {
     "slide_type": ""
    },
    "tags": []
   },
   "outputs": [
    {
     "data": {
      "application/vnd.dataresource+json": {
       "bytes": null,
       "data": [
        {
         "aspiration_std": 1,
         "aspiration_turbo": 0,
         "boreratio": 3.47,
         "brand_category_Budget": 0,
         "brand_category_Luxury": 0,
         "brand_category_Mid_Range": 1,
         "carheight": 48.8,
         "carlength": 168.8,
         "carwidth": 64.1,
         "citympg": 21,
         "curbweight": 2548,
         "cylindernumber_eight": 0,
         "cylindernumber_five": 0,
         "cylindernumber_four": 1,
         "cylindernumber_six": 0,
         "cylindernumber_three": 0,
         "cylindernumber_twelve": 0,
         "cylindernumber_two": 0,
         "doornumber_four": 0,
         "doornumber_two": 1,
         "drivewheel_4wd": 0,
         "drivewheel_fwd": 0,
         "drivewheel_rwd": 1,
         "enginesize": 130,
         "enginetype_dohc": 1,
         "enginetype_dohcv": 0,
         "enginetype_l": 0,
         "enginetype_ohc": 0,
         "enginetype_ohcf": 0,
         "enginetype_ohcv": 0,
         "enginetype_rotor": 0,
         "fuelsystem_1bbl": 0,
         "fuelsystem_2bbl": 0,
         "fuelsystem_4bbl": 0,
         "fuelsystem_idi": 0,
         "fuelsystem_mfi": 0,
         "fuelsystem_mpfi": 1,
         "fuelsystem_spdi": 0,
         "fuelsystem_spfi": 0,
         "fueltype_diesel": 0,
         "fueltype_gas": 1,
         "highwaympg": 27,
         "horsepower": 111,
         "price": 13495,
         "wheelbase": 88.6
        },
        {
         "aspiration_std": 1,
         "aspiration_turbo": 0,
         "boreratio": 3.47,
         "brand_category_Budget": 0,
         "brand_category_Luxury": 0,
         "brand_category_Mid_Range": 1,
         "carheight": 48.8,
         "carlength": 168.8,
         "carwidth": 64.1,
         "citympg": 21,
         "curbweight": 2548,
         "cylindernumber_eight": 0,
         "cylindernumber_five": 0,
         "cylindernumber_four": 1,
         "cylindernumber_six": 0,
         "cylindernumber_three": 0,
         "cylindernumber_twelve": 0,
         "cylindernumber_two": 0,
         "doornumber_four": 0,
         "doornumber_two": 1,
         "drivewheel_4wd": 0,
         "drivewheel_fwd": 0,
         "drivewheel_rwd": 1,
         "enginesize": 130,
         "enginetype_dohc": 1,
         "enginetype_dohcv": 0,
         "enginetype_l": 0,
         "enginetype_ohc": 0,
         "enginetype_ohcf": 0,
         "enginetype_ohcv": 0,
         "enginetype_rotor": 0,
         "fuelsystem_1bbl": 0,
         "fuelsystem_2bbl": 0,
         "fuelsystem_4bbl": 0,
         "fuelsystem_idi": 0,
         "fuelsystem_mfi": 0,
         "fuelsystem_mpfi": 1,
         "fuelsystem_spdi": 0,
         "fuelsystem_spfi": 0,
         "fueltype_diesel": 0,
         "fueltype_gas": 1,
         "highwaympg": 27,
         "horsepower": 111,
         "price": 16500,
         "wheelbase": 88.6
        },
        {
         "aspiration_std": 1,
         "aspiration_turbo": 0,
         "boreratio": 2.68,
         "brand_category_Budget": 0,
         "brand_category_Luxury": 0,
         "brand_category_Mid_Range": 1,
         "carheight": 52.4,
         "carlength": 171.2,
         "carwidth": 65.5,
         "citympg": 19,
         "curbweight": 2823,
         "cylindernumber_eight": 0,
         "cylindernumber_five": 0,
         "cylindernumber_four": 0,
         "cylindernumber_six": 1,
         "cylindernumber_three": 0,
         "cylindernumber_twelve": 0,
         "cylindernumber_two": 0,
         "doornumber_four": 0,
         "doornumber_two": 1,
         "drivewheel_4wd": 0,
         "drivewheel_fwd": 0,
         "drivewheel_rwd": 1,
         "enginesize": 152,
         "enginetype_dohc": 0,
         "enginetype_dohcv": 0,
         "enginetype_l": 0,
         "enginetype_ohc": 0,
         "enginetype_ohcf": 0,
         "enginetype_ohcv": 1,
         "enginetype_rotor": 0,
         "fuelsystem_1bbl": 0,
         "fuelsystem_2bbl": 0,
         "fuelsystem_4bbl": 0,
         "fuelsystem_idi": 0,
         "fuelsystem_mfi": 0,
         "fuelsystem_mpfi": 1,
         "fuelsystem_spdi": 0,
         "fuelsystem_spfi": 0,
         "fueltype_diesel": 0,
         "fueltype_gas": 1,
         "highwaympg": 26,
         "horsepower": 154,
         "price": 16500,
         "wheelbase": 94.5
        },
        {
         "aspiration_std": 1,
         "aspiration_turbo": 0,
         "boreratio": 3.19,
         "brand_category_Budget": 0,
         "brand_category_Luxury": 0,
         "brand_category_Mid_Range": 1,
         "carheight": 54.3,
         "carlength": 176.6,
         "carwidth": 66.2,
         "citympg": 24,
         "curbweight": 2337,
         "cylindernumber_eight": 0,
         "cylindernumber_five": 0,
         "cylindernumber_four": 1,
         "cylindernumber_six": 0,
         "cylindernumber_three": 0,
         "cylindernumber_twelve": 0,
         "cylindernumber_two": 0,
         "doornumber_four": 1,
         "doornumber_two": 0,
         "drivewheel_4wd": 0,
         "drivewheel_fwd": 1,
         "drivewheel_rwd": 0,
         "enginesize": 109,
         "enginetype_dohc": 0,
         "enginetype_dohcv": 0,
         "enginetype_l": 0,
         "enginetype_ohc": 1,
         "enginetype_ohcf": 0,
         "enginetype_ohcv": 0,
         "enginetype_rotor": 0,
         "fuelsystem_1bbl": 0,
         "fuelsystem_2bbl": 0,
         "fuelsystem_4bbl": 0,
         "fuelsystem_idi": 0,
         "fuelsystem_mfi": 0,
         "fuelsystem_mpfi": 1,
         "fuelsystem_spdi": 0,
         "fuelsystem_spfi": 0,
         "fueltype_diesel": 0,
         "fueltype_gas": 1,
         "highwaympg": 30,
         "horsepower": 102,
         "price": 13950,
         "wheelbase": 99.8
        },
        {
         "aspiration_std": 1,
         "aspiration_turbo": 0,
         "boreratio": 3.19,
         "brand_category_Budget": 0,
         "brand_category_Luxury": 0,
         "brand_category_Mid_Range": 1,
         "carheight": 54.3,
         "carlength": 176.6,
         "carwidth": 66.4,
         "citympg": 18,
         "curbweight": 2824,
         "cylindernumber_eight": 0,
         "cylindernumber_five": 1,
         "cylindernumber_four": 0,
         "cylindernumber_six": 0,
         "cylindernumber_three": 0,
         "cylindernumber_twelve": 0,
         "cylindernumber_two": 0,
         "doornumber_four": 1,
         "doornumber_two": 0,
         "drivewheel_4wd": 1,
         "drivewheel_fwd": 0,
         "drivewheel_rwd": 0,
         "enginesize": 136,
         "enginetype_dohc": 0,
         "enginetype_dohcv": 0,
         "enginetype_l": 0,
         "enginetype_ohc": 1,
         "enginetype_ohcf": 0,
         "enginetype_ohcv": 0,
         "enginetype_rotor": 0,
         "fuelsystem_1bbl": 0,
         "fuelsystem_2bbl": 0,
         "fuelsystem_4bbl": 0,
         "fuelsystem_idi": 0,
         "fuelsystem_mfi": 0,
         "fuelsystem_mpfi": 1,
         "fuelsystem_spdi": 0,
         "fuelsystem_spfi": 0,
         "fueltype_diesel": 0,
         "fueltype_gas": 1,
         "highwaympg": 22,
         "horsepower": 115,
         "price": 17450,
         "wheelbase": 99.4
        }
       ],
       "description": null,
       "dialect": null,
       "encoding": null,
       "format": null,
       "hash": null,
       "homepage": null,
       "licenses": null,
       "mediatype": null,
       "path": null,
       "schema": {
        "fields": [
         {
          "constraints": null,
          "description": null,
          "example": null,
          "format": null,
          "name": "brand_category_Budget",
          "rdfType": null,
          "title": null,
          "type": "integer"
         },
         {
          "constraints": null,
          "description": null,
          "example": null,
          "format": null,
          "name": "brand_category_Luxury",
          "rdfType": null,
          "title": null,
          "type": "integer"
         },
         {
          "constraints": null,
          "description": null,
          "example": null,
          "format": null,
          "name": "brand_category_Mid_Range",
          "rdfType": null,
          "title": null,
          "type": "integer"
         },
         {
          "constraints": null,
          "description": null,
          "example": null,
          "format": null,
          "name": "fueltype_diesel",
          "rdfType": null,
          "title": null,
          "type": "integer"
         },
         {
          "constraints": null,
          "description": null,
          "example": null,
          "format": null,
          "name": "fueltype_gas",
          "rdfType": null,
          "title": null,
          "type": "integer"
         },
         {
          "constraints": null,
          "description": null,
          "example": null,
          "format": null,
          "name": "aspiration_std",
          "rdfType": null,
          "title": null,
          "type": "integer"
         },
         {
          "constraints": null,
          "description": null,
          "example": null,
          "format": null,
          "name": "aspiration_turbo",
          "rdfType": null,
          "title": null,
          "type": "integer"
         },
         {
          "constraints": null,
          "description": null,
          "example": null,
          "format": null,
          "name": "doornumber_four",
          "rdfType": null,
          "title": null,
          "type": "integer"
         },
         {
          "constraints": null,
          "description": null,
          "example": null,
          "format": null,
          "name": "doornumber_two",
          "rdfType": null,
          "title": null,
          "type": "integer"
         },
         {
          "constraints": null,
          "description": null,
          "example": null,
          "format": null,
          "name": "drivewheel_4wd",
          "rdfType": null,
          "title": null,
          "type": "integer"
         },
         {
          "constraints": null,
          "description": null,
          "example": null,
          "format": null,
          "name": "drivewheel_fwd",
          "rdfType": null,
          "title": null,
          "type": "integer"
         },
         {
          "constraints": null,
          "description": null,
          "example": null,
          "format": null,
          "name": "drivewheel_rwd",
          "rdfType": null,
          "title": null,
          "type": "integer"
         },
         {
          "constraints": null,
          "description": null,
          "example": null,
          "format": null,
          "name": "wheelbase",
          "rdfType": null,
          "title": null,
          "type": "number"
         },
         {
          "constraints": null,
          "description": null,
          "example": null,
          "format": null,
          "name": "carlength",
          "rdfType": null,
          "title": null,
          "type": "number"
         },
         {
          "constraints": null,
          "description": null,
          "example": null,
          "format": null,
          "name": "carwidth",
          "rdfType": null,
          "title": null,
          "type": "number"
         },
         {
          "constraints": null,
          "description": null,
          "example": null,
          "format": null,
          "name": "carheight",
          "rdfType": null,
          "title": null,
          "type": "number"
         },
         {
          "constraints": null,
          "description": null,
          "example": null,
          "format": null,
          "name": "curbweight",
          "rdfType": null,
          "title": null,
          "type": "integer"
         },
         {
          "constraints": null,
          "description": null,
          "example": null,
          "format": null,
          "name": "enginetype_dohc",
          "rdfType": null,
          "title": null,
          "type": "integer"
         },
         {
          "constraints": null,
          "description": null,
          "example": null,
          "format": null,
          "name": "enginetype_dohcv",
          "rdfType": null,
          "title": null,
          "type": "integer"
         },
         {
          "constraints": null,
          "description": null,
          "example": null,
          "format": null,
          "name": "enginetype_l",
          "rdfType": null,
          "title": null,
          "type": "integer"
         },
         {
          "constraints": null,
          "description": null,
          "example": null,
          "format": null,
          "name": "enginetype_ohc",
          "rdfType": null,
          "title": null,
          "type": "integer"
         },
         {
          "constraints": null,
          "description": null,
          "example": null,
          "format": null,
          "name": "enginetype_ohcf",
          "rdfType": null,
          "title": null,
          "type": "integer"
         },
         {
          "constraints": null,
          "description": null,
          "example": null,
          "format": null,
          "name": "enginetype_ohcv",
          "rdfType": null,
          "title": null,
          "type": "integer"
         },
         {
          "constraints": null,
          "description": null,
          "example": null,
          "format": null,
          "name": "enginetype_rotor",
          "rdfType": null,
          "title": null,
          "type": "integer"
         },
         {
          "constraints": null,
          "description": null,
          "example": null,
          "format": null,
          "name": "cylindernumber_eight",
          "rdfType": null,
          "title": null,
          "type": "integer"
         },
         {
          "constraints": null,
          "description": null,
          "example": null,
          "format": null,
          "name": "cylindernumber_five",
          "rdfType": null,
          "title": null,
          "type": "integer"
         },
         {
          "constraints": null,
          "description": null,
          "example": null,
          "format": null,
          "name": "cylindernumber_four",
          "rdfType": null,
          "title": null,
          "type": "integer"
         },
         {
          "constraints": null,
          "description": null,
          "example": null,
          "format": null,
          "name": "cylindernumber_six",
          "rdfType": null,
          "title": null,
          "type": "integer"
         },
         {
          "constraints": null,
          "description": null,
          "example": null,
          "format": null,
          "name": "cylindernumber_three",
          "rdfType": null,
          "title": null,
          "type": "integer"
         },
         {
          "constraints": null,
          "description": null,
          "example": null,
          "format": null,
          "name": "cylindernumber_twelve",
          "rdfType": null,
          "title": null,
          "type": "integer"
         },
         {
          "constraints": null,
          "description": null,
          "example": null,
          "format": null,
          "name": "cylindernumber_two",
          "rdfType": null,
          "title": null,
          "type": "integer"
         },
         {
          "constraints": null,
          "description": null,
          "example": null,
          "format": null,
          "name": "enginesize",
          "rdfType": null,
          "title": null,
          "type": "integer"
         },
         {
          "constraints": null,
          "description": null,
          "example": null,
          "format": null,
          "name": "fuelsystem_1bbl",
          "rdfType": null,
          "title": null,
          "type": "integer"
         },
         {
          "constraints": null,
          "description": null,
          "example": null,
          "format": null,
          "name": "fuelsystem_2bbl",
          "rdfType": null,
          "title": null,
          "type": "integer"
         },
         {
          "constraints": null,
          "description": null,
          "example": null,
          "format": null,
          "name": "fuelsystem_4bbl",
          "rdfType": null,
          "title": null,
          "type": "integer"
         },
         {
          "constraints": null,
          "description": null,
          "example": null,
          "format": null,
          "name": "fuelsystem_idi",
          "rdfType": null,
          "title": null,
          "type": "integer"
         },
         {
          "constraints": null,
          "description": null,
          "example": null,
          "format": null,
          "name": "fuelsystem_mfi",
          "rdfType": null,
          "title": null,
          "type": "integer"
         },
         {
          "constraints": null,
          "description": null,
          "example": null,
          "format": null,
          "name": "fuelsystem_mpfi",
          "rdfType": null,
          "title": null,
          "type": "integer"
         },
         {
          "constraints": null,
          "description": null,
          "example": null,
          "format": null,
          "name": "fuelsystem_spdi",
          "rdfType": null,
          "title": null,
          "type": "integer"
         },
         {
          "constraints": null,
          "description": null,
          "example": null,
          "format": null,
          "name": "fuelsystem_spfi",
          "rdfType": null,
          "title": null,
          "type": "integer"
         },
         {
          "constraints": null,
          "description": null,
          "example": null,
          "format": null,
          "name": "boreratio",
          "rdfType": null,
          "title": null,
          "type": "number"
         },
         {
          "constraints": null,
          "description": null,
          "example": null,
          "format": null,
          "name": "horsepower",
          "rdfType": null,
          "title": null,
          "type": "integer"
         },
         {
          "constraints": null,
          "description": null,
          "example": null,
          "format": null,
          "name": "citympg",
          "rdfType": null,
          "title": null,
          "type": "integer"
         },
         {
          "constraints": null,
          "description": null,
          "example": null,
          "format": null,
          "name": "highwaympg",
          "rdfType": null,
          "title": null,
          "type": "integer"
         },
         {
          "constraints": null,
          "description": null,
          "example": null,
          "format": null,
          "name": "price",
          "rdfType": null,
          "title": null,
          "type": "number"
         }
        ],
        "foreignKeys": null,
        "missingValues": null,
        "primaryKey": null
       },
       "sources": null,
       "title": null
      },
      "text/html": [
       "<table><thead><tr><th>brand_category_Budget</th><th>brand_category_Luxury</th><th>brand_category_Mid_Range</th><th>fueltype_diesel</th><th>fueltype_gas</th><th>aspiration_std</th><th>aspiration_turbo</th><th>doornumber_four</th><th>doornumber_two</th><th>drivewheel_4wd</th><th>drivewheel_fwd</th><th>drivewheel_rwd</th><th>wheelbase</th><th>carlength</th><th>carwidth</th><th>carheight</th><th>curbweight</th><th>enginetype_dohc</th><th>enginetype_dohcv</th><th>enginetype_l</th><th>enginetype_ohc</th><th>enginetype_ohcf</th><th>enginetype_ohcv</th><th>enginetype_rotor</th><th>cylindernumber_eight</th><th>cylindernumber_five</th><th>cylindernumber_four</th><th>cylindernumber_six</th><th>cylindernumber_three</th><th>cylindernumber_twelve</th><th>cylindernumber_two</th><th>enginesize</th><th>fuelsystem_1bbl</th><th>fuelsystem_2bbl</th><th>fuelsystem_4bbl</th><th>fuelsystem_idi</th><th>fuelsystem_mfi</th><th>fuelsystem_mpfi</th><th>fuelsystem_spdi</th><th>fuelsystem_spfi</th><th>boreratio</th><th>horsepower</th><th>citympg</th><th>highwaympg</th><th>price</th></tr></thead><tbody><tr><td>0</td><td>0</td><td>1</td><td>0</td><td>1</td><td>1</td><td>0</td><td>0</td><td>1</td><td>0</td><td>0</td><td>1</td><td>88.6</td><td>168.8</td><td>64.1</td><td>48.8</td><td>2548</td><td>1</td><td>0</td><td>0</td><td>0</td><td>0</td><td>0</td><td>0</td><td>0</td><td>0</td><td>1</td><td>0</td><td>0</td><td>0</td><td>0</td><td>130</td><td>0</td><td>0</td><td>0</td><td>0</td><td>0</td><td>1</td><td>0</td><td>0</td><td>3.47</td><td>111</td><td>21</td><td>27</td><td>13495</td></tr><tr><td>0</td><td>0</td><td>1</td><td>0</td><td>1</td><td>1</td><td>0</td><td>0</td><td>1</td><td>0</td><td>0</td><td>1</td><td>88.6</td><td>168.8</td><td>64.1</td><td>48.8</td><td>2548</td><td>1</td><td>0</td><td>0</td><td>0</td><td>0</td><td>0</td><td>0</td><td>0</td><td>0</td><td>1</td><td>0</td><td>0</td><td>0</td><td>0</td><td>130</td><td>0</td><td>0</td><td>0</td><td>0</td><td>0</td><td>1</td><td>0</td><td>0</td><td>3.47</td><td>111</td><td>21</td><td>27</td><td>16500</td></tr><tr><td>0</td><td>0</td><td>1</td><td>0</td><td>1</td><td>1</td><td>0</td><td>0</td><td>1</td><td>0</td><td>0</td><td>1</td><td>94.5</td><td>171.2</td><td>65.5</td><td>52.4</td><td>2823</td><td>0</td><td>0</td><td>0</td><td>0</td><td>0</td><td>1</td><td>0</td><td>0</td><td>0</td><td>0</td><td>1</td><td>0</td><td>0</td><td>0</td><td>152</td><td>0</td><td>0</td><td>0</td><td>0</td><td>0</td><td>1</td><td>0</td><td>0</td><td>2.68</td><td>154</td><td>19</td><td>26</td><td>16500</td></tr><tr><td>0</td><td>0</td><td>1</td><td>0</td><td>1</td><td>1</td><td>0</td><td>1</td><td>0</td><td>0</td><td>1</td><td>0</td><td>99.8</td><td>176.6</td><td>66.2</td><td>54.3</td><td>2337</td><td>0</td><td>0</td><td>0</td><td>1</td><td>0</td><td>0</td><td>0</td><td>0</td><td>0</td><td>1</td><td>0</td><td>0</td><td>0</td><td>0</td><td>109</td><td>0</td><td>0</td><td>0</td><td>0</td><td>0</td><td>1</td><td>0</td><td>0</td><td>3.19</td><td>102</td><td>24</td><td>30</td><td>13950</td></tr><tr><td>0</td><td>0</td><td>1</td><td>0</td><td>1</td><td>1</td><td>0</td><td>1</td><td>0</td><td>1</td><td>0</td><td>0</td><td>99.4</td><td>176.6</td><td>66.4</td><td>54.3</td><td>2824</td><td>0</td><td>0</td><td>0</td><td>1</td><td>0</td><td>0</td><td>0</td><td>0</td><td>1</td><td>0</td><td>0</td><td>0</td><td>0</td><td>0</td><td>136</td><td>0</td><td>0</td><td>0</td><td>0</td><td>0</td><td>1</td><td>0</td><td>0</td><td>3.19</td><td>115</td><td>18</td><td>22</td><td>17450</td></tr></tbody></table>"
      ]
     },
     "execution_count": 25,
     "metadata": {},
     "output_type": "execute_result"
    }
   ],
   "source": [
    "import { oneHotEncoding } from './encoding.ts?6'\n",
    "\n",
    "let encodedCarData = oneHotEncoding(carDataGeneralized)\n",
    "encodedCarData.head(5)"
   ]
  },
  {
   "cell_type": "code",
   "execution_count": 26,
   "id": "aff549ce-6736-43c7-8d40-b09b9ca7fa59",
   "metadata": {
    "editable": true,
    "slideshow": {
     "slide_type": ""
    },
    "tags": []
   },
   "outputs": [],
   "source": [
    "encodedCarData.writeCSV('assets/encoded_car_data.csv')"
   ]
  },
  {
   "cell_type": "code",
   "execution_count": null,
   "id": "ec799133-584f-450d-bd8b-6b443fbf5fb5",
   "metadata": {
    "editable": true,
    "slideshow": {
     "slide_type": ""
    },
    "tags": []
   },
   "outputs": [],
   "source": []
  }
 ],
 "metadata": {
  "kernelspec": {
   "display_name": "Deno",
   "language": "typescript",
   "name": "deno"
  },
  "language_info": {
   "codemirror_mode": "typescript",
   "file_extension": ".ts",
   "mimetype": "text/x.typescript",
   "name": "typescript",
   "nbconvert_exporter": "script",
   "pygments_lexer": "typescript",
   "version": "5.5.2"
  }
 },
 "nbformat": 4,
 "nbformat_minor": 5
}
