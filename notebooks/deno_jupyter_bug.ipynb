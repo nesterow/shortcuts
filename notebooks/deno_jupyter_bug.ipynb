{
 "cells": [
  {
   "cell_type": "code",
   "execution_count": 2,
   "metadata": {},
   "outputs": [
    {
     "ename": "TypeError",
     "evalue": "Cannot read properties of null (reading 'createElement')",
     "output_type": "error",
     "traceback": [
      "Stack trace:",
      "TypeError: Cannot read properties of null (reading 'createElement')",
      "    at domCanvas (file:///Users/user/Library/Caches/deno/npm/registry.npmjs.org/vega-canvas/1.2.7/build/vega-canvas.node.js:8:53)",
      "    at Object.canvas (file:///Users/user/Library/Caches/deno/npm/registry.npmjs.org/vega-canvas/1.2.7/build/vega-canvas.node.js:42:12)",
      "    at file:///Users/user/Library/Caches/deno/npm/registry.npmjs.org/vega-scenegraph/4.13.0/build/vega-scenegraph.js:2890:39",
      "    at file:///Users/user/Library/Caches/deno/npm/registry.npmjs.org/vega-scenegraph/4.13.0/build/vega-scenegraph.js:2:66",
      "    at Object.<anonymous> (file:///Users/user/Library/Caches/deno/npm/registry.npmjs.org/vega-scenegraph/4.13.0/build/vega-scenegraph.js:5:3)",
      "    at Object.<anonymous> (file:///Users/user/Library/Caches/deno/npm/registry.npmjs.org/vega-scenegraph/4.13.0/build/vega-scenegraph.js:6524:4)",
      "    at Module._compile (node:module:748:34)",
      "    at Object.Module._extensions..js (node:module:767:10)",
      "    at Module.load (node:module:665:32)",
      "    at Function.Module._load (node:module:537:12)"
     ]
    }
   ],
   "source": [
    "const document = null;\n",
    "import * as p from \"https://l12.xyz/x/shortcuts/raw/plots.ts\";"
   ]
  }
 ],
 "metadata": {
  "kernelspec": {
   "display_name": "Deno",
   "language": "typescript",
   "name": "deno"
  },
  "language_info": {
   "codemirror_mode": "typescript",
   "file_extension": ".ts",
   "mimetype": "text/x.typescript",
   "name": "typescript",
   "nbconvert_exporter": "script",
   "pygments_lexer": "typescript",
   "version": "5.6.2"
  }
 },
 "nbformat": 4,
 "nbformat_minor": 2
}
